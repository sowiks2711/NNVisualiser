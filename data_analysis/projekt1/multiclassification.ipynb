{
 "cells": [
  {
   "cell_type": "code",
   "execution_count": 1,
   "metadata": {},
   "outputs": [
    {
     "name": "stdout",
     "output_type": "stream",
     "text": [
      " Volume in drive C is OS\n",
      " Volume Serial Number is 40B8-E79D\n",
      "\n",
      " Directory of C:\\Users\\kosma\\Desktop\\MGU\\NNVisualiser\\data_analysis\\projekt1\n",
      "\n",
      "18.03.2019  13:00    <DIR>          .\n",
      "18.03.2019  13:00    <DIR>          ..\n",
      "17.03.2019  17:06    <DIR>          .ipynb_checkpoints\n",
      "17.03.2019  16:59    <DIR>          classification\n",
      "18.03.2019  12:55            93˙007 data_analysis.ipynb\n",
      "18.03.2019  13:00            10˙728 multiclassification.ipynb\n",
      "17.03.2019  16:59    <DIR>          regression\n",
      "18.03.2019  12:18           168˙757 regression.ipynb\n",
      "               3 File(s)        272˙492 bytes\n",
      "               5 Dir(s)  29˙865˙738˙240 bytes free\n"
     ]
    }
   ],
   "source": [
    "!dir"
   ]
  },
  {
   "cell_type": "code",
   "execution_count": 2,
   "metadata": {},
   "outputs": [],
   "source": [
    "import sys,os \n"
   ]
  },
  {
   "cell_type": "code",
   "execution_count": 3,
   "metadata": {},
   "outputs": [
    {
     "name": "stderr",
     "output_type": "stream",
     "text": [
      "Using TensorFlow backend.\n"
     ]
    }
   ],
   "source": [
    "import deep_nn.deep_nn_model as nn\n",
    "import numpy as np\n",
    "import pandas as pd\n",
    "import matplotlib.pyplot as plt\n",
    "from sklearn.preprocessing import MinMaxScaler\n",
    "\n",
    "from keras.models import Sequential\n",
    "from keras.layers import Dense\n",
    "from keras.wrappers.scikit_learn import KerasRegressor\n",
    "from keras import optimizers\n",
    "from sklearn.preprocessing import OneHotEncoder"
   ]
  },
  {
   "cell_type": "code",
   "execution_count": 55,
   "metadata": {},
   "outputs": [
    {
     "data": {
      "text/plain": [
       "300"
      ]
     },
     "execution_count": 55,
     "metadata": {},
     "output_type": "execute_result"
    }
   ],
   "source": [
    "train = pd.read_csv(\"./data_analysis/projekt1/classification/data.three_gauss.train.100.csv\")\n",
    "len(train)"
   ]
  },
  {
   "cell_type": "code",
   "execution_count": 56,
   "metadata": {},
   "outputs": [
    {
     "name": "stdout",
     "output_type": "stream",
     "text": [
      "(2, 300)\n",
      "(1, 300)\n"
     ]
    }
   ],
   "source": [
    "X = train[['x', 'y']].values.T\n",
    "print(X.shape)\n",
    "Y = train.cls.values.reshape(1, len(train))\n",
    "print(Y.shape)"
   ]
  },
  {
   "cell_type": "code",
   "execution_count": 47,
   "metadata": {},
   "outputs": [
    {
     "data": {
      "image/png": "[encoded data removed]",
      "text/plain": [
       "<Figure size 432x288 with 1 Axes>"
      ]
     },
     "metadata": {
      "needs_background": "light"
     },
     "output_type": "display_data"
    }
   ],
   "source": [
    "for i in range(1,4):\n",
    "    traini = train[train.cls == i]\n",
    "    plt.plot(traini.x,traini.y,'o')\n",
    "    \n",
    "plt.show()"
   ]
  },
  {
   "cell_type": "code",
   "execution_count": 5,
   "metadata": {},
   "outputs": [
    {
     "name": "stdout",
     "output_type": "stream",
     "text": [
      "0.493589159322043\n"
     ]
    }
   ],
   "source": [
    "print(train.x[0])"
   ]
  },
  {
   "cell_type": "code",
   "execution_count": 59,
   "metadata": {},
   "outputs": [
    {
     "data": {
      "text/plain": [
       "(1, 300)"
      ]
     },
     "execution_count": 59,
     "metadata": {},
     "output_type": "execute_result"
    }
   ],
   "source": [
    "X = train[['x', 'y']].values.reshape(2, len(train))\n",
    "X.shape\n",
    "y = train.cls.values.reshape(1, len(train))\n",
    "y.shape"
   ]
  },
  {
   "cell_type": "code",
   "execution_count": 60,
   "metadata": {},
   "outputs": [
    {
     "name": "stderr",
     "output_type": "stream",
     "text": [
      "C:\\Users\\kosma\\Anaconda3\\envs\\tf-gpu\\lib\\site-packages\\sklearn\\preprocessing\\_encoders.py:368: FutureWarning: The handling of integer data will change in version 0.22. Currently, the categories are determined based on the range [0, max(values)], while in the future they will be determined based on the unique values.\n",
      "If you want the future behaviour and silence this warning, you can specify \"categories='auto'\".\n",
      "In case you used a LabelEncoder before this OneHotEncoder to convert the categories to integers, then you can now use the OneHotEncoder directly.\n",
      "  warnings.warn(msg, FutureWarning)\n"
     ]
    }
   ],
   "source": [
    "enc = OneHotEncoder()\n",
    "Y = enc.fit_transform(train.cls.values.reshape(-1,1))"
   ]
  },
  {
   "cell_type": "code",
   "execution_count": 8,
   "metadata": {},
   "outputs": [],
   "source": [
    "from IPython.core.debugger import set_trace"
   ]
  },
  {
   "cell_type": "code",
   "execution_count": null,
   "metadata": {},
   "outputs": [
    {
     "name": "stdout",
     "output_type": "stream",
     "text": [
      "Cost after epoch 0: 1.112490\n",
      "Cost after epoch 1000: 0.759051\n",
      "Cost after epoch 2000: 0.508173\n",
      "Cost after epoch 3000: 0.461163\n",
      "Cost after epoch 4000: 0.428622\n",
      "Cost after epoch 5000: 0.565178\n",
      "Cost after epoch 6000: 0.664945\n",
      "Cost after epoch 7000: 0.734587\n",
      "Cost after epoch 8000: 0.552796\n",
      "Cost after epoch 9000: 0.446084\n"
     ]
    }
   ],
   "source": [
    "model_builder = nn.SequentialBuilder()\n",
    "model_builder.add_dense(2, \"relu\")\n",
    "model_builder.add_dense(12, \"relu\")\n",
    "model_builder.add_dense(7, \"relu\")\n",
    "model_builder.add_dense(3, \"softmax\")\n",
    "model = model_builder.compile(\"categorical_crossentropy\")\n",
    "\n",
    "parameters, costs = model.fit(X, Y.T.A,\n",
    "                      learning_rate=0.1,\n",
    "                      momentum=0.9,\n",
    "                      num_epochs=18000,\n",
    "                      mini_batch_size=64)\n"
   ]
  },
  {
   "cell_type": "code",
   "execution_count": 66,
   "metadata": {},
   "outputs": [
    {
     "data": {
      "text/plain": [
       "[<matplotlib.lines.Line2D at 0x20feb7849b0>]"
      ]
     },
     "execution_count": 66,
     "metadata": {},
     "output_type": "execute_result"
    },
    {
     "data": {
      "image/png": "[encoded data removed]",
      "text/plain": [
       "<Figure size 432x288 with 1 Axes>"
      ]
     },
     "metadata": {
      "needs_background": "light"
     },
     "output_type": "display_data"
    }
   ],
   "source": [
    "plt.plot(costs)"
   ]
  },
  {
   "cell_type": "code",
   "execution_count": 16,
   "metadata": {},
   "outputs": [
    {
     "name": "stdout",
     "output_type": "stream",
     "text": [
      "0.2592593634939321\n"
     ]
    }
   ],
   "source": [
    "print(costs[-1])"
   ]
  },
  {
   "cell_type": "code",
   "execution_count": null,
   "metadata": {},
   "outputs": [],
   "source": [
    "parameters2, costs2 = nn.model(X, Y.T.A, \n",
    "         layers_dims=[2, 12, 12, 12, 12, 3],\n",
    "         layers_activations=[\"relu\", \"relu\", \"relu\", \"relu\", \"relu\", \"softmax\"], \n",
    "         cost_func=\"categorical_crossentropy\",\n",
    "         beta=0.9, num_epochs=4001, learning_rate=0.1)"
   ]
  },
  {
   "cell_type": "code",
   "execution_count": null,
   "metadata": {},
   "outputs": [],
   "source": [
    "plt.plot(costs2)"
   ]
  },
  {
   "cell_type": "code",
   "execution_count": null,
   "metadata": {},
   "outputs": [],
   "source": []
  },
  {
   "cell_type": "code",
   "execution_count": 75,
   "metadata": {},
   "outputs": [],
   "source": [
    "def plot_decision_boundary(model, X, y ,colors=[]):\n",
    "    # Set min and max values and give it some padding\n",
    "    x_min, x_max = X[0, :].min() - 1, X[0, :].max() + 1\n",
    "    y_min, y_max = X[1, :].min() - 1, X[1, :].max() + 1\n",
    "    h = 0.01\n",
    "    # Generate a grid of points with distance h between them\n",
    "    xx, yy = np.meshgrid(np.arange(x_min, x_max, h), np.arange(y_min, y_max, h))\n",
    "    # Predict the function value for the whole grid\n",
    "    Z = model(np.c_[xx.ravel(), yy.ravel()])\n",
    "    Z = Z.reshape(xx.shape)\n",
    "    # Plot the contour and training examples\n",
    "    if colors ==[]:\n",
    "        plt.contourf(xx, yy, Z, cmap=plt.cm.Spectral)\n",
    "        plt.ylabel('x2')\n",
    "        plt.xlabel('x1')\n",
    "        plt.scatter(X[0, :], X[1, :], c=y.ravel(), cmap=plt.cm.Spectral)\n",
    "    else:\n",
    "        plt.contourf(xx, yy, Z, colors = colors)\n",
    "        plt.ylabel('x2')\n",
    "        plt.xlabel('x1')\n",
    "        plt.scatter(X[0, :], X[1, :], c=y.ravel(), cmap=colors)\n",
    "\n",
    "    plt.show()\n",
    "    "
   ]
  },
  {
   "cell_type": "code",
   "execution_count": null,
   "metadata": {},
   "outputs": [],
   "source": []
  },
  {
   "cell_type": "code",
   "execution_count": 23,
   "metadata": {},
   "outputs": [],
   "source": [
    "p = model.predict_classes(X)"
   ]
  },
  {
   "cell_type": "code",
   "execution_count": 21,
   "metadata": {},
   "outputs": [],
   "source": [
    "predicted_classes = np.argmax(p, axis=0) + 1"
   ]
  },
  {
   "cell_type": "code",
   "execution_count": 26,
   "metadata": {},
   "outputs": [],
   "source": [
    "indexer = (y.T == 1).reshape(-1,)"
   ]
  },
  {
   "cell_type": "code",
   "execution_count": 28,
   "metadata": {},
   "outputs": [
    {
     "data": {
      "text/plain": [
       "array([], shape=(0, 2), dtype=float64)"
      ]
     },
     "execution_count": 28,
     "metadata": {},
     "output_type": "execute_result"
    }
   ],
   "source": [
    "X.T[(y.T == 0).reshape(-1,)]"
   ]
  },
  {
   "cell_type": "code",
   "execution_count": 29,
   "metadata": {},
   "outputs": [
    {
     "data": {
      "image/png": "[encoded data removed]",
      "text/plain": [
       "<Figure size 432x288 with 1 Axes>"
      ]
     },
     "metadata": {
      "needs_background": "light"
     },
     "output_type": "display_data"
    }
   ],
   "source": [
    "first_class_positions = X.T[(y.T == 1).reshape(-1,)]\n",
    "second_class_positions = X.T[(y.T == 2).reshape(-1,)]\n",
    "third_class_positions = X.T[(y.T == 3).reshape(-1,)]\n",
    "plt.scatter(first_class_positions[:,0], first_class_positions[:,1] , c = 'red')\n",
    "plt.scatter(second_class_positions[:,0], second_class_positions[:,1] , c = 'blue')\n",
    "plt.scatter(third_class_positions[:,0], third_class_positions[:,1] , c = 'green')\n",
    "plt.show()"
   ]
  },
  {
   "cell_type": "code",
   "execution_count": 30,
   "metadata": {},
   "outputs": [
    {
     "ename": "IndexError",
     "evalue": "boolean index did not match indexed array along dimension 0; dimension is 300 but corresponding boolean dimension is 1",
     "traceback": [
      "\u001b[1;31m---------------------------------------------------------------------------\u001b[0m",
      "\u001b[1;31mIndexError\u001b[0m                                Traceback (most recent call last)",
      "\u001b[1;32m<ipython-input-30-4cc440a4985f>\u001b[0m in \u001b[0;36m<module>\u001b[1;34m\u001b[0m\n\u001b[1;32m----> 1\u001b[1;33m \u001b[0mfirst_class_positions\u001b[0m \u001b[1;33m=\u001b[0m \u001b[0mX\u001b[0m\u001b[1;33m.\u001b[0m\u001b[0mT\u001b[0m\u001b[1;33m[\u001b[0m\u001b[1;33m(\u001b[0m\u001b[0mpredicted_classes\u001b[0m\u001b[1;33m.\u001b[0m\u001b[0mT\u001b[0m \u001b[1;33m==\u001b[0m \u001b[1;36m1\u001b[0m\u001b[1;33m)\u001b[0m\u001b[1;33m.\u001b[0m\u001b[0mreshape\u001b[0m\u001b[1;33m(\u001b[0m\u001b[1;33m-\u001b[0m\u001b[1;36m1\u001b[0m\u001b[1;33m,\u001b[0m\u001b[1;33m)\u001b[0m\u001b[1;33m]\u001b[0m\u001b[1;33m\u001b[0m\u001b[0m\n\u001b[0m\u001b[0;32m      2\u001b[0m \u001b[0msecond_class_positions\u001b[0m \u001b[1;33m=\u001b[0m \u001b[0mX\u001b[0m\u001b[1;33m.\u001b[0m\u001b[0mT\u001b[0m\u001b[1;33m[\u001b[0m\u001b[1;33m(\u001b[0m\u001b[0mpredicted_classes\u001b[0m\u001b[1;33m.\u001b[0m\u001b[0mT\u001b[0m \u001b[1;33m==\u001b[0m \u001b[1;36m2\u001b[0m\u001b[1;33m)\u001b[0m\u001b[1;33m.\u001b[0m\u001b[0mreshape\u001b[0m\u001b[1;33m(\u001b[0m\u001b[1;33m-\u001b[0m\u001b[1;36m1\u001b[0m\u001b[1;33m,\u001b[0m\u001b[1;33m)\u001b[0m\u001b[1;33m]\u001b[0m\u001b[1;33m\u001b[0m\u001b[0m\n\u001b[0;32m      3\u001b[0m \u001b[0mthird_class_positions\u001b[0m \u001b[1;33m=\u001b[0m \u001b[0mX\u001b[0m\u001b[1;33m.\u001b[0m\u001b[0mT\u001b[0m\u001b[1;33m[\u001b[0m\u001b[1;33m(\u001b[0m\u001b[0mpredicted_classes\u001b[0m\u001b[1;33m.\u001b[0m\u001b[0mT\u001b[0m \u001b[1;33m==\u001b[0m \u001b[1;36m3\u001b[0m\u001b[1;33m)\u001b[0m\u001b[1;33m.\u001b[0m\u001b[0mreshape\u001b[0m\u001b[1;33m(\u001b[0m\u001b[1;33m-\u001b[0m\u001b[1;36m1\u001b[0m\u001b[1;33m,\u001b[0m\u001b[1;33m)\u001b[0m\u001b[1;33m]\u001b[0m\u001b[1;33m\u001b[0m\u001b[0m\n\u001b[0;32m      4\u001b[0m \u001b[0mplt\u001b[0m\u001b[1;33m.\u001b[0m\u001b[0mscatter\u001b[0m\u001b[1;33m(\u001b[0m\u001b[0mfirst_class_positions\u001b[0m\u001b[1;33m[\u001b[0m\u001b[1;33m:\u001b[0m\u001b[1;33m,\u001b[0m\u001b[1;36m0\u001b[0m\u001b[1;33m]\u001b[0m\u001b[1;33m,\u001b[0m \u001b[0mfirst_class_positions\u001b[0m\u001b[1;33m[\u001b[0m\u001b[1;33m:\u001b[0m\u001b[1;33m,\u001b[0m\u001b[1;36m1\u001b[0m\u001b[1;33m]\u001b[0m \u001b[1;33m,\u001b[0m \u001b[0mc\u001b[0m \u001b[1;33m=\u001b[0m \u001b[1;34m'red'\u001b[0m\u001b[1;33m)\u001b[0m\u001b[1;33m\u001b[0m\u001b[0m\n\u001b[0;32m      5\u001b[0m \u001b[0mplt\u001b[0m\u001b[1;33m.\u001b[0m\u001b[0mscatter\u001b[0m\u001b[1;33m(\u001b[0m\u001b[0msecond_class_positions\u001b[0m\u001b[1;33m[\u001b[0m\u001b[1;33m:\u001b[0m\u001b[1;33m,\u001b[0m\u001b[1;36m0\u001b[0m\u001b[1;33m]\u001b[0m\u001b[1;33m,\u001b[0m \u001b[0msecond_class_positions\u001b[0m\u001b[1;33m[\u001b[0m\u001b[1;33m:\u001b[0m\u001b[1;33m,\u001b[0m\u001b[1;36m1\u001b[0m\u001b[1;33m]\u001b[0m \u001b[1;33m,\u001b[0m \u001b[0mc\u001b[0m \u001b[1;33m=\u001b[0m \u001b[1;34m'blue'\u001b[0m\u001b[1;33m)\u001b[0m\u001b[1;33m\u001b[0m\u001b[0m\n",
      "\u001b[1;31mIndexError\u001b[0m: boolean index did not match indexed array along dimension 0; dimension is 300 but corresponding boolean dimension is 1"
     ],
     "output_type": "error"
    }
   ],
   "source": [
    "first_class_positions = X.T[(predicted_classes.T == 1).reshape(-1,)]\n",
    "second_class_positions = X.T[(predicted_classes.T == 2).reshape(-1,)]\n",
    "third_class_positions = X.T[(predicted_classes.T == 3).reshape(-1,)]\n",
    "plt.scatter(first_class_positions[:,0], first_class_positions[:,1] , c = 'red')\n",
    "plt.scatter(second_class_positions[:,0], second_class_positions[:,1] , c = 'blue')\n",
    "plt.scatter(third_class_positions[:,0], third_class_positions[:,1] , c = 'green')\n",
    "plt.show()"
   ]
  },
  {
   "cell_type": "code",
   "execution_count": 51,
   "metadata": {},
   "outputs": [
    {
     "data": {
      "text/plain": [
       "array([[ 4.93589159e-01,  6.90757595e-01,  7.63210616e-02,\n",
       "         4.15932945e-01,  5.26379290e-02,  3.96234863e-01,\n",
       "         2.34967936e-01,  2.68791616e-01,  1.69118457e-01,\n",
       "         6.58724634e-01,  4.07911449e-01,  6.09613755e-01,\n",
       "         9.26938540e-02,  1.47855193e-01, -2.13604972e-01,\n",
       "         7.69541980e-01,  2.01191796e-01,  4.07078047e-01,\n",
       "         1.31707553e-01,  2.78958647e-01,  2.66131514e-01,\n",
       "         5.21290795e-01,  8.91740035e-02,  8.63741655e-01,\n",
       "        -1.36872704e-01,  5.25238004e-01,  5.03955823e-01,\n",
       "         2.13837253e-01,  1.64522760e-01,  6.87511466e-01,\n",
       "        -1.48935828e-01,  4.59742274e-01,  3.58127344e-01,\n",
       "         5.23594406e-01,  2.40495025e-01,  4.28031349e-01,\n",
       "         1.98424614e-01,  2.62382078e-01,  1.38230987e-01,\n",
       "         5.09216737e-01, -3.62952332e-01,  2.08922015e-01,\n",
       "         2.85363530e-01,  6.39620618e-01,  2.47886244e-02,\n",
       "         8.25149887e-01,  1.82410054e-01,  5.54525777e-01,\n",
       "        -1.32998924e-02,  5.06840642e-01,  4.97148520e-02,\n",
       "         7.23293841e-01,  1.96053113e-01,  4.04187054e-01,\n",
       "         2.07654330e-01,  7.95773631e-01, -1.44228010e-02,\n",
       "         6.24966705e-01, -3.18056041e-02,  2.28778827e-01,\n",
       "        -2.13265486e-01,  6.08122375e-01,  3.53401329e-01,\n",
       "         4.83105580e-01,  3.36089087e-01,  5.42961928e-01,\n",
       "         5.74916173e-02,  6.32279500e-01,  4.19823127e-01,\n",
       "         3.55176643e-01, -1.06124687e-01,  4.71718059e-01,\n",
       "        -5.39851692e-02,  3.72309278e-01, -1.00331704e-01,\n",
       "         7.49530760e-01, -2.03859633e-01,  3.43648040e-01,\n",
       "        -1.73948185e-01,  5.26138441e-01,  2.35528655e-01,\n",
       "         2.14101181e-01,  4.34491312e-01, -9.57364753e-04,\n",
       "        -9.66419411e-02,  3.01836942e-01, -1.61520913e-01,\n",
       "         5.21257008e-01, -1.04971608e-01,  5.03857865e-01,\n",
       "         1.10946841e-01,  2.69009441e-01, -1.03335176e-03,\n",
       "         5.27342325e-01,  1.66358104e-01,  7.48391501e-01,\n",
       "         2.77800654e-01,  6.44690104e-01,  1.92697332e-01,\n",
       "         3.84494670e-01,  1.04749681e-01,  6.10910537e-01,\n",
       "         4.70682461e-02,  4.24193990e-01,  3.11256812e-01,\n",
       "         5.46681803e-01,  4.20699070e-01,  7.44935335e-01,\n",
       "        -1.71180321e-02,  1.04852749e+00,  4.72632541e-01,\n",
       "         3.26476565e-01,  3.72002719e-01,  6.24191135e-01,\n",
       "         3.34924158e-01,  7.05122298e-01,  9.22430769e-03,\n",
       "         7.56688099e-01,  2.21755681e-01,  3.86559014e-01,\n",
       "         3.03072988e-01,  6.15962283e-01,  1.21512731e-01,\n",
       "         2.10772916e-01,  1.99697774e-01,  5.95444882e-01,\n",
       "         4.01864715e-01,  6.29912216e-01, -1.07126175e-01,\n",
       "         6.80918497e-01, -8.90577059e-02,  3.60705473e-01,\n",
       "         9.47824684e-03,  4.13025690e-01, -2.43056339e-01,\n",
       "         6.58523301e-01,  3.68004857e-01,  4.07067268e-01,\n",
       "         2.62026593e-01,  3.79781052e-01,  3.34451705e-02,\n",
       "         2.40542604e-01, -5.79109367e-02,  8.67942582e-01,\n",
       "         1.32343644e-01,  2.93509993e-01, -4.92554606e-02,\n",
       "         5.36697053e-01,  2.10755755e-01,  3.51848964e-01,\n",
       "         2.19893906e-01,  6.49949648e-01, -4.17045448e-02,\n",
       "         5.15376390e-01,  4.67151713e-02,  3.48752048e-01,\n",
       "         3.96215215e-01,  4.60815466e-01,  2.30656073e-01,\n",
       "         4.27968096e-01, -7.87247954e-02,  7.23022234e-01,\n",
       "        -8.72576888e-02,  7.54164199e-01,  1.87175740e-01,\n",
       "         3.16713947e-01, -5.80966204e-02,  8.48034742e-01,\n",
       "         6.41276037e-02,  1.01223190e+00, -7.27603616e-02,\n",
       "         2.89454647e-01,  3.52409733e-01,  4.32582617e-01,\n",
       "         4.58963938e-01,  9.86063241e-01, -5.25135992e-01,\n",
       "         1.89451191e-01,  4.93296478e-01,  7.28075632e-01,\n",
       "         5.41617644e-01,  1.10755339e-01,  6.30611548e-01,\n",
       "         2.21084832e-01,  2.21277132e-01,  7.09751947e-01,\n",
       "         2.13355748e-01,  2.88238289e-01,  3.13832137e-01,\n",
       "         7.03969806e-01,  4.53752729e-01,  5.02353286e-01,\n",
       "         8.91824131e-02,  7.96209051e-01,  3.43812799e-01,\n",
       "         4.02944393e-01,  2.21441962e-01,  5.16908435e-01,\n",
       "        -2.31148580e-01,  1.24271795e-01, -5.57796323e-01,\n",
       "         2.17952553e-01, -5.85538881e-01,  2.25852968e-01,\n",
       "        -5.24772629e-01,  1.33232358e-01, -8.93344098e-01,\n",
       "         1.28946731e-01, -2.74255596e-01,  8.77423622e-02,\n",
       "        -8.67912166e-01,  2.18812595e-01, -3.17923165e-01,\n",
       "         1.50032306e-01, -5.22958804e-01,  2.81083427e-01,\n",
       "        -5.63213066e-01,  1.95168606e-01, -4.46156890e-01,\n",
       "         1.85342124e-01, -7.31925353e-01,  2.54238251e-01,\n",
       "        -4.12563896e-01,  1.64080859e-01, -4.57969026e-01,\n",
       "         2.55065908e-01, -6.70694532e-01,  2.24198771e-01,\n",
       "        -6.86221110e-01,  2.44202735e-01, -6.91536409e-01,\n",
       "         2.13332899e-01, -3.32614381e-01,  2.87613765e-01,\n",
       "        -4.01409294e-01,  2.63150902e-01, -6.83502057e-01,\n",
       "         1.68547745e-01, -6.58397174e-01,  1.56209027e-01,\n",
       "        -8.08060160e-01,  2.21295491e-01, -7.24435263e-01,\n",
       "         2.10640477e-01, -8.14408209e-01,  2.59854624e-01,\n",
       "        -8.77941522e-01,  1.96065309e-01, -7.55552176e-01,\n",
       "         1.66332568e-01, -9.01956577e-01,  3.04543915e-01,\n",
       "        -6.64794264e-01,  1.77780392e-01, -7.36204948e-01,\n",
       "         1.81852674e-01, -7.89757407e-01,  2.15917085e-01,\n",
       "        -4.61464344e-01,  3.07626152e-01, -5.31811373e-01,\n",
       "         2.38479384e-01, -5.94097892e-01,  2.52845057e-01,\n",
       "        -8.37846172e-01,  2.14215388e-01, -5.40228629e-01,\n",
       "         2.59294406e-01, -4.61173725e-01,  2.39564435e-01,\n",
       "        -4.47913796e-01,  2.19972083e-01, -7.84990638e-01,\n",
       "         1.29716940e-01, -7.51121896e-01,  1.96123021e-01,\n",
       "        -7.14835398e-01,  2.31685245e-01, -7.06778208e-01,\n",
       "         1.69602651e-01, -6.38012299e-01,  1.40770407e-01,\n",
       "        -6.59546057e-01,  1.58014695e-01, -6.25830050e-01,\n",
       "         2.35971822e-01, -6.70047252e-01,  8.43480543e-02,\n",
       "        -9.59409089e-01,  2.51959407e-01, -7.79945170e-01,\n",
       "         1.52655101e-01, -7.57737408e-01,  3.12704086e-01,\n",
       "        -6.78027034e-01,  2.37726662e-01, -6.57391580e-01,\n",
       "         2.71043331e-01, -1.85430692e-01,  1.99549650e-01],\n",
       "       [-7.96429082e-01,  9.63159288e-02, -6.16989544e-01,\n",
       "         2.59220214e-01, -7.26760489e-01,  1.96875103e-01,\n",
       "        -8.04847057e-01,  2.29774738e-01, -4.98254682e-01,\n",
       "         2.11077855e-01, -5.71987847e-01,  2.27008329e-01,\n",
       "        -7.96146089e-01,  2.07923145e-01, -6.86370486e-01,\n",
       "         1.43365159e-01, -1.03605178e+00,  1.59059294e-01,\n",
       "        -2.97074553e-01,  2.30752156e-01, -9.36800209e-01,\n",
       "         1.87458456e-01, -3.46308860e-01,  2.47083006e-01,\n",
       "        -4.61117178e-01,  1.82114338e-01, -6.79672079e-01,\n",
       "         2.06264163e-01, -3.45071496e-01,  1.80188975e-01,\n",
       "        -4.99336291e-01,  2.08204405e-01, -1.77186722e-01,\n",
       "         2.93686765e-01, -1.92829494e-01,  1.43129040e-01,\n",
       "        -8.82468846e-01,  1.88739675e-01, -1.00530662e+00,\n",
       "         1.66171511e-01, -5.55225016e-01,  2.25266353e-01,\n",
       "        -9.77546125e-01,  2.45003810e-01, -8.37516106e-01,\n",
       "         2.39862040e-01, -7.01659472e-01,  2.48235883e-01,\n",
       "        -5.67146755e-01,  1.12209093e-01, -4.20030129e-01,\n",
       "         1.94637565e-01, -6.92977366e-01,  2.74574365e-01,\n",
       "        -8.46125495e-01,  1.38120577e-01, -5.14608555e-01,\n",
       "         2.05067714e-01, -4.43465481e-01,  2.55902840e-01,\n",
       "        -4.71699468e-01,  1.76061641e-01, -5.18892230e-01,\n",
       "         2.00794071e-01, -4.33960155e-01,  1.80123087e-01,\n",
       "        -3.97161759e-01,  2.97247299e-01, -6.70221945e-01,\n",
       "         2.78071043e-01, -5.63574299e-01,  2.41252821e-01,\n",
       "        -2.84163385e-01,  2.02313225e-01, -6.30013217e-01,\n",
       "         1.54837029e-01, -2.27154246e-01,  2.35243305e-01,\n",
       "        -3.36465718e-01,  2.15263768e-01, -6.19851398e-01,\n",
       "         2.68884581e-01, -3.36547771e-01,  1.86446748e-01,\n",
       "        -6.17728364e-01,  2.13429731e-01, -4.28839271e-01,\n",
       "         2.59334985e-01, -7.41242469e-01,  2.21308041e-01,\n",
       "        -6.53326740e-01,  1.85801958e-01, -2.57275391e-01,\n",
       "         8.32971342e-02, -7.45910522e-01,  2.03547828e-01,\n",
       "        -6.31745092e-01,  8.94651023e-02, -7.59299810e-01,\n",
       "         2.21235204e-01, -4.40633764e-01,  1.84702418e-01,\n",
       "        -1.71109414e-01,  6.04098596e-01,  6.34589500e-02,\n",
       "        -6.16768569e-01, -1.62126175e-02, -7.68709280e-01,\n",
       "        -3.47267838e-01, -1.67705927e-01,  1.42199828e-01,\n",
       "        -6.14680689e-01, -1.44543325e-01,  5.50892128e-02,\n",
       "         1.64053135e-01, -3.99867234e-01, -2.82010027e-01,\n",
       "         3.00806222e-01, -1.80436754e-02, -3.85767114e-01,\n",
       "         1.35751701e-01, -3.16305177e-01,  9.00496068e-02,\n",
       "        -7.83470885e-01,  1.84513366e-01, -5.12901594e-01,\n",
       "        -1.05088870e-01, -4.13117294e-01, -1.36713678e-01,\n",
       "        -1.90677659e-01,  1.61629147e-01, -6.18551949e-01,\n",
       "         5.42272472e-02, -4.06067745e-01,  1.65905304e-01,\n",
       "        -4.02167404e-01, -1.41032567e-01, -1.91971417e-01,\n",
       "         2.43674790e-01, -1.61799037e-01,  5.02755347e-02,\n",
       "        -1.15154839e+00, -2.07899642e-01, -1.18573052e-01,\n",
       "         1.36039501e-01, -2.05531055e-01, -4.42865376e-02,\n",
       "        -3.99727815e-01,  1.76352029e-01,  5.48200271e-02,\n",
       "        -2.65123018e-02, -7.95919989e-01, -1.76721759e-01,\n",
       "        -3.07755312e-01, -7.16888943e-02, -4.08114978e-01,\n",
       "         6.13142797e-02, -3.53887511e-01, -7.04191951e-02,\n",
       "        -4.50403143e-01, -1.34087390e-01,  1.10214382e-01,\n",
       "        -1.46018695e-02, -2.38849225e-01,  5.59571354e-02,\n",
       "        -6.79905900e-01,  4.99311222e-02, -5.43016307e-01,\n",
       "        -8.13520593e-02, -1.55920029e-01, -1.37285297e-02,\n",
       "        -2.75515046e-01, -5.24831849e-03,  2.65872156e-03,\n",
       "        -2.17831510e-01, -5.57271064e-02, -1.00363025e-01,\n",
       "        -4.54601394e-01,  1.46347659e-03, -3.31063615e-01,\n",
       "         4.40127574e-01, -8.60553447e-01,  9.45622450e-02,\n",
       "        -1.94522985e-02, -2.13303218e-01, -6.44509860e-02,\n",
       "        -3.95337357e-01,  5.59212719e-01,  2.36664377e-01,\n",
       "        -1.23998166e+00,  8.41645199e-02, -6.54955194e-01,\n",
       "         1.33642302e-01, -7.24982810e-01, -2.81197383e-01,\n",
       "         1.99549567e-01, -1.90677280e-01,  4.63513336e-01,\n",
       "        -2.04562007e-01,  3.33529399e-01, -2.81082882e-01,\n",
       "        -3.88572332e-02, -2.85171143e-01,  4.21207984e-01,\n",
       "         2.78979528e-01, -5.27463566e-01, -1.87943073e-01,\n",
       "         1.62605838e-01,  6.27401752e-04, -1.65873337e-01,\n",
       "         1.30054793e-01, -2.17352018e-01,  9.52683363e-03,\n",
       "        -1.17831759e-01, -9.86294072e-02, -2.55184447e-01,\n",
       "        -2.85926832e-01, -2.49248525e-01, -1.93894419e-01,\n",
       "        -1.70699691e-01, -1.22724024e-01,  3.46395698e-01,\n",
       "        -5.35923307e-02, -1.17682718e-01, -2.72798216e-02,\n",
       "         4.85558161e-01,  3.49778207e-01, -1.20871805e+00,\n",
       "         1.22226719e-01, -1.17890324e+00, -2.71807827e-01,\n",
       "        -6.44094555e-02, -7.18974585e-02, -2.13422590e-01,\n",
       "         2.64789855e-01, -3.50786015e-01,  1.07233055e-01,\n",
       "        -1.04922356e+00, -1.25792366e-01,  2.59837283e-01,\n",
       "        -1.05930926e-01, -6.42112621e-01, -8.70527043e-02,\n",
       "         3.44372230e-01,  8.07169638e-02, -5.94936629e-01,\n",
       "        -8.59064401e-02, -5.02435096e-02, -1.11393403e-01,\n",
       "         2.51486037e-01, -7.38492128e-02,  8.09913233e-02,\n",
       "        -1.62001576e-01, -2.66985386e-01,  1.29769767e-01,\n",
       "        -1.60514240e-01, -1.41019974e-01, -3.40847381e-01,\n",
       "        -3.03694500e-01,  3.29701760e-01, -1.04853835e-01,\n",
       "        -2.97972328e-01,  5.02851291e-02, -3.55891131e-02,\n",
       "        -4.09004210e-02, -2.56786475e-01,  2.15472501e-01,\n",
       "        -8.60805554e-01, -6.87976619e-02, -2.99555850e-01,\n",
       "        -2.29218633e-01,  9.60764057e-02, -2.34848937e-02,\n",
       "        -1.03256383e+00, -1.63027785e-01,  5.79076134e-02,\n",
       "         4.08084647e-02, -4.13539993e-01, -1.21120061e-01,\n",
       "         3.24010569e-01,  1.27953731e-02, -4.01032415e-01,\n",
       "        -3.38563955e-04, -4.60829829e-01,  7.72037833e-02,\n",
       "        -6.04059035e-01,  2.88962047e-02, -2.02626290e-01,\n",
       "        -3.96872328e-02, -7.38288324e-01, -1.44407773e-01,\n",
       "        -3.92946204e-01,  8.48648571e-02, -7.25628344e-01,\n",
       "         1.80708920e-01, -9.65547135e-02, -8.81103115e-02,\n",
       "        -2.08921334e-01,  1.64738952e-01, -9.76074481e-01]])"
      ]
     },
     "execution_count": 51,
     "metadata": {},
     "output_type": "execute_result"
    }
   ],
   "source": [
    "X"
   ]
  },
  {
   "cell_type": "code",
   "execution_count": 83,
   "metadata": {
    "scrolled": false
   },
   "outputs": [
    {
     "data": {
      "image/png": "[encoded data removed]",
      "text/plain": [
       "<Figure size 432x288 with 1 Axes>"
      ]
     },
     "metadata": {
      "needs_background": "light"
     },
     "output_type": "display_data"
    }
   ],
   "source": [
    "plot_decision_boundary(lambda x: model.predict_classes(x.T) , X, Y)"
   ]
  },
  {
   "cell_type": "code",
   "execution_count": null,
   "metadata": {},
   "outputs": [],
   "source": [
    "parameters, costs = nn.model(X, Y.T.A, \n",
    "         layers_dims=[2, 12, 12, 12, 12, 3],\n",
    "         layers_activations=[\"relu\", \"relu\", \"relu\", \"relu\", \"relu\", \"softmax\"], \n",
    "         cost_func=\"categorical_crossentropy\",\n",
    "         beta=0, learning_rate=0.01, num_epochs=50000, mini_batch_size=512)"
   ]
  },
  {
   "cell_type": "code",
   "execution_count": null,
   "metadata": {},
   "outputs": [],
   "source": [
    "plt.plot(costs)"
   ]
  },
  {
   "cell_type": "code",
   "execution_count": null,
   "metadata": {},
   "outputs": [],
   "source": []
  }
 ],
 "metadata": {
  "kernelspec": {
   "display_name": "TensorFlow-GPU",
   "language": "python",
   "name": "tf-gpu"
  },
  "language_info": {
   "codemirror_mode": {
    "name": "ipython",
    "version": 3
   },
   "file_extension": ".py",
   "mimetype": "text/x-python",
   "name": "python",
   "nbconvert_exporter": "python",
   "pygments_lexer": "ipython3",
   "version": "3.6.6"
  }
 },
 "nbformat": 4,
 "nbformat_minor": 1
}
