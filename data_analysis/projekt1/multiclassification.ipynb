{
 "cells": [
  {
   "cell_type": "code",
   "execution_count": 1,
   "metadata": {},
   "outputs": [
    {
     "name": "stdout",
     "output_type": "stream",
     "text": [
      " Volume in drive C has no label.\n",
      " Volume Serial Number is 567E-9C80\n",
      "\n",
      " Directory of C:\\Users\\sowik\\source\\repos\\NNVisualiser\\data_analysis\\projekt1\n",
      "\n",
      "13.03.2019  10:15    <DIR>          .\n",
      "13.03.2019  10:15    <DIR>          ..\n",
      "12.03.2019  12:17    <DIR>          .ipynb_checkpoints\n",
      "11.03.2019  19:45    <DIR>          classification\n",
      "13.03.2019  10:23           377ÿ971 data_analysis.ipynb\n",
      "13.03.2019  10:19            20ÿ274 multiclassification.ipynb\n",
      "11.03.2019  19:45    <DIR>          regression\n",
      "13.03.2019  10:23            55ÿ410 regression.ipynb\n",
      "               3 File(s)        453ÿ655 bytes\n",
      "               5 Dir(s)  144ÿ921ÿ571ÿ328 bytes free\n"
     ]
    }
   ],
   "source": [
    "!dir"
   ]
  },
  {
   "cell_type": "code",
   "execution_count": 2,
   "metadata": {},
   "outputs": [],
   "source": [
    "import sys,os \n",
    "os.chdir('.\\..\\..')"
   ]
  },
  {
   "cell_type": "code",
   "execution_count": 3,
   "metadata": {},
   "outputs": [
    {
     "name": "stderr",
     "output_type": "stream",
     "text": [
      "Using TensorFlow backend.\n"
     ]
    }
   ],
   "source": [
    "import deep_nn.deep_nn as nn\n",
    "import numpy as np\n",
    "import pandas as pd\n",
    "import matplotlib.pyplot as plt\n",
    "from sklearn.preprocessing import MinMaxScaler\n",
    "\n",
    "from keras.models import Sequential\n",
    "from keras.layers import Dense\n",
    "from keras.wrappers.scikit_learn import KerasRegressor\n",
    "from keras import optimizers\n",
    "from sklearn.preprocessing import OneHotEncoder"
   ]
  },
  {
   "cell_type": "code",
   "execution_count": 4,
   "metadata": {},
   "outputs": [
    {
     "data": {
      "text/plain": [
       "300"
      ]
     },
     "execution_count": 4,
     "metadata": {},
     "output_type": "execute_result"
    }
   ],
   "source": [
    "train = pd.read_csv(\"./data_analysis/projekt1/classification/data.three_gauss.train.100.csv\")\n",
    "len(train)"
   ]
  },
  {
   "cell_type": "code",
   "execution_count": 5,
   "metadata": {},
   "outputs": [
    {
     "name": "stdout",
     "output_type": "stream",
     "text": [
      "0.493589159322043\n"
     ]
    }
   ],
   "source": [
    "print(train.x[0])"
   ]
  },
  {
   "cell_type": "code",
   "execution_count": 6,
   "metadata": {},
   "outputs": [
    {
     "data": {
      "text/plain": [
       "(1, 300)"
      ]
     },
     "execution_count": 6,
     "metadata": {},
     "output_type": "execute_result"
    }
   ],
   "source": [
    "X = train[['x', 'y']].values.reshape(2, len(train))\n",
    "X.shape\n",
    "y = train.cls.values.reshape(1, len(train))\n",
    "y.shape"
   ]
  },
  {
   "cell_type": "code",
   "execution_count": 7,
   "metadata": {},
   "outputs": [
    {
     "name": "stderr",
     "output_type": "stream",
     "text": [
      "c:\\program files\\python37\\lib\\site-packages\\sklearn\\preprocessing\\_encoders.py:371: FutureWarning: The handling of integer data will change in version 0.22. Currently, the categories are determined based on the range [0, max(values)], while in the future they will be determined based on the unique values.\n",
      "If you want the future behaviour and silence this warning, you can specify \"categories='auto'\".\n",
      "In case you used a LabelEncoder before this OneHotEncoder to convert the categories to integers, then you can now use the OneHotEncoder directly.\n",
      "  warnings.warn(msg, FutureWarning)\n"
     ]
    }
   ],
   "source": [
    "enc = OneHotEncoder()\n",
    "Y = enc.fit_transform(train.cls.values.reshape(-1,1))"
   ]
  },
  {
   "cell_type": "code",
   "execution_count": 8,
   "metadata": {},
   "outputs": [],
   "source": [
    "from IPython.core.debugger import set_trace"
   ]
  },
  {
   "cell_type": "code",
   "execution_count": null,
   "metadata": {},
   "outputs": [
    {
     "name": "stdout",
     "output_type": "stream",
     "text": [
      "Cost after epoch 0: 1.105330\n"
     ]
    }
   ],
   "source": [
    "parameters, costs = nn.model(X, Y.T.A, \n",
    "         layers_dims=[2, 120, 50, 12, 7, 3],\n",
    "         layers_activations=[\"relu\", \"relu\", \"relu\", \"relu\", \"relu\", \"softmax\"], \n",
    "         cost_func=\"categorical_crossentropy\",\n",
    "         beta=0.0, num_epochs=25000, learning_rate=0.05)\n"
   ]
  },
  {
   "cell_type": "code",
   "execution_count": 42,
   "metadata": {},
   "outputs": [
    {
     "data": {
      "text/plain": [
       "[<matplotlib.lines.Line2D at 0x172fbd3b7b8>]"
      ]
     },
     "execution_count": 42,
     "metadata": {},
     "output_type": "execute_result"
    },
    {
     "data": {
      "image/png": "[encoded data removed]",
      "text/plain": [
       "<Figure size 432x288 with 1 Axes>"
      ]
     },
     "metadata": {
      "needs_background": "light"
     },
     "output_type": "display_data"
    }
   ],
   "source": [
    "plt.plot(costs)"
   ]
  },
  {
   "cell_type": "code",
   "execution_count": 40,
   "metadata": {},
   "outputs": [
    {
     "name": "stdout",
     "output_type": "stream",
     "text": [
      "0.9331148475188977\n"
     ]
    }
   ],
   "source": [
    "print(costs[-1])"
   ]
  },
  {
   "cell_type": "code",
   "execution_count": 9,
   "metadata": {},
   "outputs": [
    {
     "name": "stdout",
     "output_type": "stream",
     "text": [
      "Cost after epoch 0: 1.099960\n",
      "Cost after epoch 1000: 0.699530\n",
      "Cost after epoch 2000: 0.422700\n",
      "Cost after epoch 3000: 0.400557\n",
      "Cost after epoch 4000: 0.309641\n"
     ]
    }
   ],
   "source": [
    "parameters2, costs2 = nn.model(X, Y.T.A, \n",
    "         layers_dims=[2, 12, 12, 12, 12, 3],\n",
    "         layers_activations=[\"relu\", \"relu\", \"relu\", \"relu\", \"relu\", \"softmax\"], \n",
    "         cost_func=\"categorical_crossentropy\",\n",
    "         beta=0.9, num_epochs=4001, learning_rate=0.1)"
   ]
  },
  {
   "cell_type": "code",
   "execution_count": 10,
   "metadata": {},
   "outputs": [
    {
     "data": {
      "text/plain": [
       "[<matplotlib.lines.Line2D at 0x12dbd967668>]"
      ]
     },
     "execution_count": 10,
     "metadata": {},
     "output_type": "execute_result"
    },
    {
     "data": {
      "image/png": "[encoded data removed]",
      "text/plain": [
       "<Figure size 432x288 with 1 Axes>"
      ]
     },
     "metadata": {
      "needs_background": "light"
     },
     "output_type": "display_data"
    }
   ],
   "source": [
    "plt.plot(costs2)"
   ]
  },
  {
   "cell_type": "code",
   "execution_count": null,
   "metadata": {},
   "outputs": [],
   "source": []
  },
  {
   "cell_type": "code",
   "execution_count": 20,
   "metadata": {},
   "outputs": [],
   "source": [
    "def plot_decision_boundary(model, X, y):\n",
    "    # Set min and max values and give it some padding\n",
    "    x_min, x_max = X[0, :].min() - 1, X[0, :].max() + 1\n",
    "    y_min, y_max = X[1, :].min() - 1, X[1, :].max() + 1\n",
    "    h = 0.01\n",
    "    # Generate a grid of points with distance h between them\n",
    "    xx, yy = np.meshgrid(np.arange(x_min, x_max, h), np.arange(y_min, y_max, h))\n",
    "    # Predict the function value for the whole grid\n",
    "    Z = model(np.c_[xx.ravel(), yy.ravel()])\n",
    "    Z = Z.reshape(xx.shape)\n",
    "    # Plot the contour and training examples\n",
    "    plt.contourf(xx, yy, Z, cmap=plt.cm.Spectral)\n",
    "    plt.ylabel('x2')\n",
    "    plt.xlabel('x1')\n",
    "    plt.scatter(X[0, :], X[1, :], c=y.ravel(), cmap=plt.cm.Spectral)\n",
    "    plt.show()\n",
    "    "
   ]
  },
  {
   "cell_type": "code",
   "execution_count": 11,
   "metadata": {},
   "outputs": [
    {
     "data": {
      "text/plain": [
       "(2, 300)"
      ]
     },
     "execution_count": 11,
     "metadata": {},
     "output_type": "execute_result"
    }
   ],
   "source": [
    "X.shape"
   ]
  },
  {
   "cell_type": "code",
   "execution_count": 10,
   "metadata": {},
   "outputs": [
    {
     "name": "stdout",
     "output_type": "stream",
     "text": [
      "> \u001b[1;32mc:\\users\\sowik\\source\\repos\\nnvisualiser\\deep_nn\\deep_nn.py\u001b[0m(510)\u001b[0;36mpredict\u001b[1;34m()\u001b[0m\n",
      "\u001b[1;32m    508 \u001b[1;33m    \u001b[1;31m# Forward propagation\u001b[0m\u001b[1;33m\u001b[0m\u001b[1;33m\u001b[0m\u001b[1;33m\u001b[0m\u001b[0m\n",
      "\u001b[0m\u001b[1;32m    509 \u001b[1;33m    \u001b[0mset_trace\u001b[0m\u001b[1;33m(\u001b[0m\u001b[1;33m)\u001b[0m\u001b[1;33m\u001b[0m\u001b[1;33m\u001b[0m\u001b[0m\n",
      "\u001b[0m\u001b[1;32m--> 510 \u001b[1;33m    \u001b[0mprobas\u001b[0m\u001b[1;33m,\u001b[0m \u001b[0mcaches\u001b[0m \u001b[1;33m=\u001b[0m \u001b[0mL_model_forward\u001b[0m\u001b[1;33m(\u001b[0m\u001b[0mX\u001b[0m\u001b[1;33m,\u001b[0m \u001b[0mparameters\u001b[0m\u001b[1;33m,\u001b[0m \u001b[0mlayers_activations\u001b[0m\u001b[1;33m=\u001b[0m\u001b[0mlayers\u001b[0m\u001b[1;33m)\u001b[0m\u001b[1;33m\u001b[0m\u001b[1;33m\u001b[0m\u001b[0m\n",
      "\u001b[0m\u001b[1;32m    511 \u001b[1;33m\u001b[1;33m\u001b[0m\u001b[0m\n",
      "\u001b[0m\u001b[1;32m    512 \u001b[1;33m    \u001b[1;32mreturn\u001b[0m \u001b[0mprobas\u001b[0m\u001b[1;33m\u001b[0m\u001b[1;33m\u001b[0m\u001b[0m\n",
      "\u001b[0m\n",
      "ipdb> continue\n"
     ]
    }
   ],
   "source": [
    "p = nn.predict(parameters2, X, [\"relu\", \"relu\", \"relu\", \"relu\", \"relu\", \"softmax\"])"
   ]
  },
  {
   "cell_type": "code",
   "execution_count": 11,
   "metadata": {},
   "outputs": [
    {
     "data": {
      "text/plain": [
       "array([[8.72125204e-01, 8.09446074e-01, 8.02834276e-01, 9.37949825e-01,\n",
       "        8.88179129e-01, 9.80122908e-01, 4.03727845e-01, 6.89945560e-01,\n",
       "        3.34981615e-01, 9.99242116e-01, 6.80256171e-01, 9.98613721e-01,\n",
       "        6.82837858e-01, 1.87471953e-01, 9.99996380e-01, 9.95644782e-01,\n",
       "        3.69250621e-01, 9.35805007e-01, 1.43681609e-01, 7.26901762e-01,\n",
       "        5.69925434e-01, 9.95558674e-01, 6.09629178e-01, 3.60231952e-01,\n",
       "        9.99996181e-01, 9.93929378e-01, 2.19009364e-01, 2.33267028e-01,\n",
       "        1.84981951e-01, 9.98838130e-01, 9.99999741e-01, 9.91315228e-01,\n",
       "        9.08661180e-03, 7.98259929e-01, 1.84111368e-02, 9.08871887e-01,\n",
       "        7.53663000e-01, 3.60815730e-01, 2.05402447e-01, 9.83427749e-01,\n",
       "        9.92362869e-01, 4.43707895e-01, 5.65312049e-01, 9.98628019e-01,\n",
       "        9.25249907e-01, 8.75477871e-01, 4.37947006e-01, 9.94623856e-01,\n",
       "        9.89211620e-01, 7.38925530e-01, 9.61886613e-01, 9.99696178e-01,\n",
       "        3.38116077e-01, 8.93798382e-01, 6.64312007e-01, 9.95832308e-01,\n",
       "        9.38209916e-01, 9.98784644e-01, 7.79539207e-01, 4.48351788e-01,\n",
       "        9.99999968e-01, 9.94460757e-01, 7.80797090e-01, 9.95180068e-01,\n",
       "        4.52921184e-01, 9.93481644e-01, 9.55799371e-01, 1.99805773e-01,\n",
       "        9.65673774e-01, 7.56985311e-01, 9.99997422e-01, 9.84291482e-01,\n",
       "        3.01524772e-01, 9.65903810e-01, 9.99994564e-01, 9.97357514e-01,\n",
       "        7.33187299e-01, 8.84030923e-01, 9.99962437e-01, 9.96451229e-01,\n",
       "        3.06876740e-01, 4.26296783e-01, 8.56190327e-03, 2.77066796e-01,\n",
       "        9.99994409e-01, 8.58907327e-01, 9.99998595e-01, 9.87856583e-01,\n",
       "        9.99963991e-01, 9.94470860e-01, 8.13300044e-01, 3.59393292e-01,\n",
       "        3.88569421e-01, 9.54714453e-02, 6.65516463e-01, 9.99785838e-01,\n",
       "        3.01837633e-01, 6.81772686e-01, 5.30683109e-01, 9.56654075e-01,\n",
       "        3.20545494e-01, 9.97139358e-01, 1.25181106e-01, 3.77779214e-09,\n",
       "        5.76179292e-02, 9.20502831e-03, 1.48194456e-03, 2.15537306e-06,\n",
       "        3.82552964e-01, 3.47195731e-09, 9.25696563e-01, 1.02883210e-01,\n",
       "        3.93199339e-03, 7.18849104e-02, 3.51375052e-01, 3.75585203e-09,\n",
       "        5.40004778e-01, 1.86032097e-03, 1.51977241e-02, 4.38131173e-02,\n",
       "        1.54580049e-01, 2.84398087e-07, 9.20875481e-03, 4.88784064e-01,\n",
       "        1.00232940e-01, 1.15069901e-04, 7.78780735e-04, 1.00842222e-06,\n",
       "        3.98552290e-03, 1.90829894e-08, 1.79681530e-03, 8.65788608e-01,\n",
       "        1.42292444e-02, 3.05326724e-02, 2.45298706e-12, 1.04736035e-07,\n",
       "        4.30855796e-03, 2.26643464e-03, 5.89890486e-01, 4.26118594e-03,\n",
       "        1.45262094e-02, 2.32362071e-01, 2.62076388e-02, 7.30504737e-10,\n",
       "        2.77153575e-02, 3.37935216e-02, 3.58013800e-04, 5.29972908e-04,\n",
       "        9.38111532e-02, 3.03775202e-02, 1.53808283e-02, 7.08117413e-04,\n",
       "        1.26210462e-02, 1.44936933e-04, 8.92512373e-03, 2.47141027e-01,\n",
       "        1.69815453e-02, 5.26873472e-03, 1.39114151e-02, 4.52947716e-02,\n",
       "        2.23173303e-03, 9.17997005e-01, 9.88929011e-04, 2.54387475e-09,\n",
       "        2.40560299e-02, 2.94661564e-01, 2.65599172e-03, 1.15777492e-10,\n",
       "        1.69518146e-02, 3.69726731e-09, 5.53843564e-04, 3.83109696e-02,\n",
       "        1.50827065e-02, 1.98117233e-03, 2.75998454e-04, 8.93255919e-03,\n",
       "        1.72664828e-31, 1.45146965e-01, 3.05424279e-04, 1.33869671e-09,\n",
       "        4.77515930e-06, 5.51079908e-01, 7.19026160e-01, 1.52674322e-02,\n",
       "        2.13957506e-02, 1.44110268e-07, 1.66870574e-01, 3.76637246e-06,\n",
       "        8.12962503e-01, 6.03711778e-02, 4.64070296e-03, 1.69901134e-01,\n",
       "        3.37527690e-02, 2.14057918e-08, 3.72352906e-02, 9.81119329e-01,\n",
       "        2.15816484e-02, 3.00382539e-06, 9.32510615e-03, 5.88656929e-01,\n",
       "        1.18403319e-32, 1.55170254e-02, 1.57003309e-34, 4.30342143e-04,\n",
       "        7.61941532e-29, 3.33584592e-01, 1.17467883e-55, 5.77628302e-02,\n",
       "        5.06785610e-10, 5.62142626e-02, 1.09926281e-48, 2.17428326e-02,\n",
       "        1.95110747e-15, 2.93602590e-02, 2.36329400e-31, 2.07677259e-02,\n",
       "        4.94445486e-33, 3.23327950e-02, 8.48272470e-23, 2.71768804e-02,\n",
       "        3.30606015e-45, 4.04712410e-02, 8.00631238e-24, 2.70907090e-02,\n",
       "        2.13974233e-27, 3.01196879e-04, 2.33331751e-36, 1.18676465e-01,\n",
       "        6.43648265e-39, 1.90961266e-01, 1.07108274e-41, 1.58446619e-02,\n",
       "        6.10809615e-14, 3.06347358e-02, 3.38959199e-22, 3.01749736e-02,\n",
       "        6.52150102e-39, 1.90629781e-01, 2.86204492e-40, 4.07716785e-01,\n",
       "        9.09631593e-50, 3.04238970e-01, 1.17578726e-44, 4.61493453e-02,\n",
       "        2.97378505e-46, 3.09818861e-01, 3.47000882e-53, 1.78876126e-02,\n",
       "        7.47025796e-47, 3.85360022e-01, 3.08203225e-54, 7.14237251e-02,\n",
       "        1.67764195e-40, 5.50128345e-02, 1.48749096e-41, 2.73037870e-02,\n",
       "        5.59894593e-49, 8.58084968e-02, 9.60568965e-21, 8.80152982e-02,\n",
       "        6.52816788e-32, 2.60471103e-02, 1.31602372e-34, 1.35930300e-02,\n",
       "        7.04138454e-50, 2.60085344e-02, 3.95331977e-30, 4.09417583e-01,\n",
       "        2.22220839e-27, 2.58854698e-02, 9.14630397e-22, 4.01385704e-02,\n",
       "        1.61814389e-46, 1.99022779e-01, 2.83747317e-46, 2.68707151e-02,\n",
       "        3.08971620e-41, 1.57294318e-01, 1.56153347e-43, 1.36878648e-01,\n",
       "        1.84812340e-37, 1.13890196e-01, 5.66794494e-39, 2.57877946e-01,\n",
       "        4.51489197e-36, 3.09632478e-01, 6.35954547e-39, 9.10738743e-02,\n",
       "        1.25879932e-56, 2.84907190e-01, 2.64925704e-48, 1.10607527e-01,\n",
       "        3.82035544e-43, 2.85904892e-01, 6.37851895e-38, 1.57190894e-02,\n",
       "        2.08543562e-40, 1.40785683e-02, 3.42891463e-07, 5.26625181e-01],\n",
       "       [1.27873249e-01, 1.90553926e-01, 1.14858978e-01, 6.20472072e-02,\n",
       "        1.06402653e-01, 1.98770914e-02, 1.83967574e-01, 3.09996341e-01,\n",
       "        1.83661742e-01, 7.57884138e-04, 3.19376533e-01, 1.38627893e-03,\n",
       "        2.25685445e-01, 3.60406331e-01, 6.91216942e-11, 4.35521759e-03,\n",
       "        3.22599928e-01, 6.41949927e-02, 1.47982897e-01, 2.73047668e-01,\n",
       "        1.63649867e-01, 4.44132603e-03, 1.83578374e-01, 6.39768048e-01,\n",
       "        3.78603976e-06, 6.07062240e-03, 7.80990630e-01, 5.59505938e-01,\n",
       "        2.17212721e-01, 1.16186967e-03, 1.72966433e-07, 8.68477232e-03,\n",
       "        9.90880976e-01, 2.01739815e-01, 1.56275291e-01, 9.11281128e-02,\n",
       "        1.19589471e-01, 6.38681911e-01, 3.81951068e-01, 1.65722506e-02,\n",
       "        1.40500865e-08, 5.22954703e-01, 1.64876398e-01, 1.37198052e-03,\n",
       "        7.21592781e-03, 1.24522129e-01, 1.80040884e-01, 5.37614421e-03,\n",
       "        1.05557336e-02, 2.61074470e-01, 3.74864235e-02, 3.03822357e-04,\n",
       "        1.85531012e-01, 1.06059541e-01, 1.42330463e-01, 4.16769213e-03,\n",
       "        6.17170855e-02, 1.21535624e-03, 2.20458966e-01, 5.41284108e-01,\n",
       "        2.30560821e-08, 5.53924270e-03, 1.11723126e-01, 4.81993180e-03,\n",
       "        3.09933259e-01, 6.51835571e-03, 4.19491167e-02, 8.00194227e-01,\n",
       "        3.39925228e-02, 2.32228857e-01, 1.12612704e-06, 1.57085176e-02,\n",
       "        6.98475228e-01, 3.40961824e-02, 2.04677368e-07, 2.64248625e-03,\n",
       "        2.66812504e-01, 1.15951093e-01, 3.75628964e-05, 3.54877128e-03,\n",
       "        1.85000889e-01, 5.04546746e-01, 9.91438093e-01, 3.31126057e-01,\n",
       "        4.57574129e-07, 1.41090694e-01, 1.40010521e-06, 1.21434170e-02,\n",
       "        3.58958306e-09, 5.52913959e-03, 9.61681541e-02, 6.40376415e-01,\n",
       "        6.11430145e-01, 9.04528555e-01, 1.41295945e-01, 2.14161983e-04,\n",
       "        1.85169980e-01, 3.18227314e-01, 1.68810458e-01, 4.33458563e-02,\n",
       "        1.95085384e-01, 2.86064170e-03, 8.65151072e-01, 9.99995668e-01,\n",
       "        8.64892092e-01, 9.90794972e-01, 9.98518055e-01, 9.99997845e-01,\n",
       "        6.17446969e-01, 9.99999997e-01, 7.43034366e-02, 1.98512582e-01,\n",
       "        9.96065899e-01, 9.28115090e-01, 6.48624922e-01, 9.99999996e-01,\n",
       "        4.59992090e-01, 9.98139679e-01, 6.47176257e-01, 9.56162667e-01,\n",
       "        8.33253930e-01, 9.99999716e-01, 8.66715036e-01, 1.75131948e-01,\n",
       "        5.13653036e-01, 9.99884930e-01, 9.99221210e-01, 9.99998992e-01,\n",
       "        9.96014477e-01, 9.99999981e-01, 9.97979309e-01, 1.02042154e-01,\n",
       "        9.63011080e-01, 9.69466633e-01, 2.34860979e-05, 9.99999895e-01,\n",
       "        9.95687830e-01, 9.97733551e-01, 4.09590405e-01, 9.95737883e-01,\n",
       "        8.42491029e-01, 3.84399888e-01, 9.73792361e-01, 9.99999999e-01,\n",
       "        7.42693823e-01, 6.14327812e-01, 9.99641986e-01, 9.99470027e-01,\n",
       "        4.97777745e-01, 9.69417185e-01, 6.26355344e-01, 9.99291883e-01,\n",
       "        9.87378954e-01, 9.99855063e-01, 9.78295181e-01, 7.28293547e-01,\n",
       "        9.83018452e-01, 9.94731265e-01, 5.23427666e-01, 9.54704949e-01,\n",
       "        9.97768267e-01, 8.20029947e-02, 9.99011071e-01, 9.99999997e-01,\n",
       "        6.82581518e-01, 1.85394064e-01, 9.97343848e-01, 1.00000000e+00,\n",
       "        8.60844209e-01, 9.99999996e-01, 9.99446156e-01, 2.57619988e-01,\n",
       "        9.84819821e-01, 9.98018828e-01, 9.99724002e-01, 9.91067441e-01,\n",
       "        9.72416653e-16, 1.79176458e-01, 9.99694576e-01, 9.99999999e-01,\n",
       "        9.99987645e-01, 3.02547568e-01, 2.80973840e-01, 6.43563497e-01,\n",
       "        9.89192171e-02, 9.99999856e-01, 2.33326437e-01, 9.91857868e-01,\n",
       "        1.86987764e-01, 9.39628822e-01, 9.95359297e-01, 8.30098863e-01,\n",
       "        7.30559768e-01, 9.99999979e-01, 9.60812441e-01, 1.88806710e-02,\n",
       "        1.31750346e-01, 9.99977272e-01, 9.90659435e-01, 1.61867875e-01,\n",
       "        1.31145494e-16, 5.95543661e-01, 9.22988997e-18, 1.72034946e-02,\n",
       "        2.83964328e-14, 1.83743566e-01, 1.35463349e-30, 6.35235986e-01,\n",
       "        1.11696554e-02, 2.76995776e-01, 7.72365656e-24, 9.15770588e-02,\n",
       "        4.40592108e-06, 3.93798879e-01, 1.18233081e-15, 1.79238185e-01,\n",
       "        7.59838377e-17, 4.36027915e-02, 1.89456731e-10, 1.88049925e-01,\n",
       "        3.79607729e-24, 6.08956449e-02, 5.30570387e-11, 3.75119968e-01,\n",
       "        3.59737661e-13, 5.00070681e-01, 8.23075827e-19, 4.15880454e-01,\n",
       "        5.93930893e-19, 4.06698689e-01, 3.93314743e-22, 5.29727525e-01,\n",
       "        6.90708947e-05, 4.33610026e-01, 1.11295458e-10, 5.18017768e-02,\n",
       "        5.91503665e-19, 4.23828788e-01, 3.94409343e-21, 1.59372890e-01,\n",
       "        1.15389224e-26, 1.85092200e-01, 1.12693915e-23, 4.91081830e-02,\n",
       "        1.22977118e-22, 1.84891861e-01, 3.50611840e-28, 5.55587465e-01,\n",
       "        3.82958657e-25, 1.73692296e-01, 1.46291079e-28, 7.27228876e-01,\n",
       "        2.64352969e-21, 6.88040892e-02, 2.86245356e-20, 2.18496383e-01,\n",
       "        1.80731639e-26, 1.22817375e-01, 2.76498234e-09, 1.45109726e-01,\n",
       "        5.31594328e-16, 4.11598932e-02, 8.10655389e-17, 5.78318089e-01,\n",
       "        9.19555307e-26, 3.78023705e-02, 1.58778106e-14, 1.84164879e-01,\n",
       "        3.37885795e-13, 4.10631504e-02, 7.88504200e-10, 5.70525106e-01,\n",
       "        1.00813709e-23, 2.72630561e-01, 7.79305938e-25, 6.55637899e-01,\n",
       "        3.87386108e-20, 2.34262962e-01, 4.02333207e-23, 1.16466093e-01,\n",
       "        2.20395508e-18, 1.72822120e-01, 2.22143609e-19, 1.87007521e-01,\n",
       "        1.52812292e-17, 1.84898991e-01, 5.52456629e-19, 1.78535276e-01,\n",
       "        2.52788866e-29, 1.85569292e-01, 4.64342639e-26, 1.83389960e-01,\n",
       "        4.43560477e-21, 1.85553188e-01, 1.95118205e-18, 4.19931748e-01,\n",
       "        3.50874021e-21, 1.86080019e-01, 3.51096246e-01, 2.37273705e-01],\n",
       "       [1.54728691e-06, 2.83893989e-27, 8.23067461e-02, 2.96804225e-06,\n",
       "        5.41821746e-03, 3.00505442e-10, 4.12304582e-01, 5.80984151e-05,\n",
       "        4.81356643e-01, 1.45352900e-19, 3.67296585e-04, 1.41194331e-16,\n",
       "        9.14766972e-02, 4.52121716e-01, 3.61983321e-06, 1.13964451e-27,\n",
       "        3.08149451e-01, 4.15266480e-13, 7.08335494e-01, 5.05700759e-05,\n",
       "        2.66424699e-01, 7.14952890e-16, 2.06792448e-01, 4.00933399e-22,\n",
       "        3.27291583e-08, 2.56741452e-16, 6.04803544e-09, 2.07227034e-01,\n",
       "        5.97805328e-01, 1.41780822e-22, 8.63502977e-08, 5.48861743e-12,\n",
       "        3.24117102e-05, 2.55733481e-07, 8.25313572e-01, 5.87238228e-15,\n",
       "        1.26747529e-01, 5.02358815e-04, 4.12646485e-01, 1.23525490e-16,\n",
       "        7.63711723e-03, 3.33374021e-02, 2.69811553e-01, 2.21535123e-16,\n",
       "        6.75341651e-02, 1.04555866e-21, 3.82012111e-01, 1.03817255e-12,\n",
       "        2.32646241e-04, 1.03788700e-19, 6.26963921e-04, 3.57276548e-23,\n",
       "        4.76352911e-01, 1.42077091e-04, 1.93357530e-01, 5.78648876e-29,\n",
       "        7.29984534e-05, 1.15002363e-18, 1.82631983e-06, 1.03641044e-02,\n",
       "        9.09173279e-09, 1.10507506e-19, 1.07479784e-01, 1.59765132e-13,\n",
       "        2.37145557e-01, 4.49069879e-17, 2.25151250e-03, 1.15291606e-10,\n",
       "        3.33703100e-04, 1.07858322e-02, 1.45231760e-06, 6.31979937e-10,\n",
       "        5.47384970e-10, 7.58048278e-09, 5.23174281e-06, 2.67588416e-26,\n",
       "        1.96911614e-07, 1.79835251e-05, 1.96822363e-10, 3.80637601e-14,\n",
       "        5.08122372e-01, 6.91564706e-02, 4.06865203e-09, 3.91807147e-01,\n",
       "        5.13391313e-06, 1.97896070e-06, 4.90646199e-09, 1.69777100e-10,\n",
       "        3.60051597e-05, 8.61016158e-13, 9.05318021e-02, 2.30293009e-04,\n",
       "        4.34307186e-07, 9.32615323e-22, 1.93187592e-01, 1.53373368e-23,\n",
       "        5.12992387e-01, 4.70562440e-26, 3.00506433e-01, 6.88004688e-08,\n",
       "        4.84369122e-01, 2.38710441e-19, 9.66782155e-03, 4.32827145e-06,\n",
       "        7.74899788e-02, 5.56156082e-14, 2.50727890e-10, 1.47704097e-29,\n",
       "        6.71868757e-08, 1.87517409e-57, 1.12046022e-16, 6.98604208e-01,\n",
       "        2.10758222e-06, 2.35169847e-27, 2.55290932e-08, 4.92461259e-32,\n",
       "        3.13222535e-06, 2.74687724e-15, 3.37626019e-01, 2.42155145e-05,\n",
       "        1.21660205e-02, 3.47978209e-25, 1.24076209e-01, 3.36083987e-01,\n",
       "        3.86114024e-01, 2.73399633e-20, 9.50226992e-09, 5.72446577e-25,\n",
       "        2.94765227e-13, 2.22740524e-31, 2.23875928e-04, 3.21692373e-02,\n",
       "        2.27596759e-02, 6.94406570e-07, 9.99976514e-01, 9.52974930e-28,\n",
       "        3.61193350e-06, 1.38699830e-08, 5.19109017e-04, 9.31468622e-07,\n",
       "        1.42982761e-01, 3.83238041e-01, 8.16764078e-12, 2.32963018e-46,\n",
       "        2.29590820e-01, 3.51878666e-01, 4.15148453e-10, 1.00854069e-16,\n",
       "        4.08411101e-01, 2.05295036e-04, 3.58263827e-01, 2.24634563e-19,\n",
       "        5.41393504e-11, 3.96786853e-16, 1.27796951e-02, 2.45654261e-02,\n",
       "        2.55273484e-09, 4.83180896e-11, 4.62660919e-01, 2.79209274e-07,\n",
       "        1.33195528e-13, 1.30090119e-27, 6.97688776e-12, 3.23949994e-36,\n",
       "        2.93362452e-01, 5.19944372e-01, 1.60253357e-07, 7.02586911e-41,\n",
       "        1.22203976e-01, 2.25814678e-55, 5.61123033e-11, 7.04069043e-01,\n",
       "        9.74720647e-05, 1.26362248e-11, 1.40341171e-12, 1.44622163e-48,\n",
       "        1.00000000e+00, 6.75676578e-01, 1.40601862e-17, 3.57545793e-34,\n",
       "        7.58024641e-06, 1.46372525e-01, 3.13564187e-25, 3.41169070e-01,\n",
       "        8.79685032e-01, 1.58357492e-34, 5.99802989e-01, 8.13836556e-03,\n",
       "        4.97338413e-05, 5.86054801e-13, 9.53785310e-17, 2.39474015e-09,\n",
       "        2.35687463e-01, 5.62094413e-35, 1.95226839e-03, 2.56151132e-10,\n",
       "        8.46668005e-01, 1.97243386e-05, 1.54591170e-05, 2.49475196e-01,\n",
       "        1.00000000e+00, 3.88939313e-01, 1.00000000e+00, 9.82366163e-01,\n",
       "        1.00000000e+00, 4.82671842e-01, 1.00000000e+00, 3.07001183e-01,\n",
       "        9.88830344e-01, 6.66789961e-01, 1.00000000e+00, 8.86680109e-01,\n",
       "        9.99995594e-01, 5.76840862e-01, 1.00000000e+00, 7.99994090e-01,\n",
       "        1.00000000e+00, 9.24064413e-01, 1.00000000e+00, 7.84773195e-01,\n",
       "        1.00000000e+00, 8.98633114e-01, 1.00000000e+00, 5.97789323e-01,\n",
       "        1.00000000e+00, 4.99628122e-01, 1.00000000e+00, 4.65443081e-01,\n",
       "        1.00000000e+00, 4.02340045e-01, 1.00000000e+00, 4.54427813e-01,\n",
       "        9.99930929e-01, 5.35755238e-01, 1.00000000e+00, 9.18023250e-01,\n",
       "        1.00000000e+00, 3.85541431e-01, 1.00000000e+00, 4.32910326e-01,\n",
       "        1.00000000e+00, 5.10668829e-01, 1.00000000e+00, 9.04742472e-01,\n",
       "        1.00000000e+00, 5.05289278e-01, 1.00000000e+00, 4.26524923e-01,\n",
       "        1.00000000e+00, 4.40947682e-01, 1.00000000e+00, 2.01347399e-01,\n",
       "        1.00000000e+00, 8.76183076e-01, 1.00000000e+00, 7.54199830e-01,\n",
       "        1.00000000e+00, 7.91374128e-01, 9.99999997e-01, 7.66874976e-01,\n",
       "        1.00000000e+00, 9.32792996e-01, 1.00000000e+00, 4.08088881e-01,\n",
       "        1.00000000e+00, 9.36189095e-01, 1.00000000e+00, 4.06417538e-01,\n",
       "        1.00000000e+00, 9.33051380e-01, 9.99999999e-01, 3.89336324e-01,\n",
       "        1.00000000e+00, 5.28346660e-01, 1.00000000e+00, 3.17491386e-01,\n",
       "        1.00000000e+00, 6.08442719e-01, 1.00000000e+00, 7.46655259e-01,\n",
       "        1.00000000e+00, 7.13287684e-01, 1.00000000e+00, 5.55114533e-01,\n",
       "        1.00000000e+00, 5.05468531e-01, 1.00000000e+00, 7.30390849e-01,\n",
       "        1.00000000e+00, 5.29523518e-01, 1.00000000e+00, 7.06002513e-01,\n",
       "        1.00000000e+00, 5.28541920e-01, 1.00000000e+00, 5.64349162e-01,\n",
       "        1.00000000e+00, 7.99841412e-01, 6.48903411e-01, 2.36101114e-01]])"
      ]
     },
     "execution_count": 11,
     "metadata": {},
     "output_type": "execute_result"
    }
   ],
   "source": [
    "p"
   ]
  },
  {
   "cell_type": "code",
   "execution_count": 59,
   "metadata": {},
   "outputs": [],
   "source": [
    "predicted_classes = np.argmax(p, axis=0) + 1"
   ]
  },
  {
   "cell_type": "code",
   "execution_count": 60,
   "metadata": {},
   "outputs": [
    {
     "data": {
      "text/plain": [
       "array([1, 1, 1, 1, 1, 1, 3, 1, 3, 1, 1, 1, 1, 3, 1, 1, 1, 1, 3, 1, 1, 1,\n",
       "       1, 2, 1, 1, 2, 2, 3, 1, 1, 1, 2, 1, 3, 1, 1, 2, 3, 1, 1, 2, 1, 1,\n",
       "       1, 1, 1, 1, 1, 1, 1, 1, 3, 1, 1, 1, 1, 1, 1, 2, 1, 1, 1, 1, 1, 1,\n",
       "       1, 2, 1, 1, 1, 1, 2, 1, 1, 1, 1, 1, 1, 1, 3, 2, 2, 3, 1, 1, 1, 1,\n",
       "       1, 1, 1, 2, 2, 2, 1, 1, 3, 1, 1, 1, 3, 1, 2, 2, 2, 2, 2, 2, 2, 2,\n",
       "       1, 3, 2, 2, 2, 2, 1, 2, 2, 2, 2, 2, 2, 1, 2, 2, 2, 2, 2, 2, 2, 1,\n",
       "       2, 2, 3, 2, 2, 2, 1, 2, 2, 2, 2, 2, 2, 2, 2, 2, 2, 2, 2, 2, 2, 2,\n",
       "       2, 2, 2, 2, 2, 2, 2, 1, 2, 2, 2, 3, 2, 2, 2, 2, 2, 3, 2, 2, 2, 2,\n",
       "       3, 3, 2, 2, 2, 1, 1, 2, 3, 2, 3, 2, 1, 2, 2, 2, 2, 2, 2, 1, 3, 2,\n",
       "       2, 1, 3, 2, 3, 3, 3, 3, 3, 2, 3, 3, 3, 3, 3, 3, 3, 3, 3, 3, 3, 3,\n",
       "       3, 3, 3, 3, 3, 2, 3, 3, 3, 2, 3, 2, 3, 3, 3, 3, 3, 2, 3, 3, 3, 3,\n",
       "       3, 3, 3, 3, 3, 2, 3, 3, 3, 2, 3, 3, 3, 3, 3, 3, 3, 3, 3, 3, 3, 2,\n",
       "       3, 3, 3, 1, 3, 3, 3, 2, 3, 3, 3, 2, 3, 3, 3, 3, 3, 3, 3, 3, 3, 3,\n",
       "       3, 3, 3, 3, 3, 3, 3, 3, 3, 3, 3, 3, 3, 1], dtype=int64)"
      ]
     },
     "execution_count": 60,
     "metadata": {},
     "output_type": "execute_result"
    }
   ],
   "source": [
    "predicted_classes"
   ]
  },
  {
   "cell_type": "code",
   "execution_count": 32,
   "metadata": {},
   "outputs": [
    {
     "name": "stdout",
     "output_type": "stream",
     "text": [
      "(300, 1)\n",
      "(300, 2)\n"
     ]
    }
   ],
   "source": [
    "print(y.T.shape)\n",
    "print(X.T.shape)"
   ]
  },
  {
   "cell_type": "code",
   "execution_count": 44,
   "metadata": {},
   "outputs": [],
   "source": [
    "indexer = (y.T == 1).reshape(-1,)"
   ]
  },
  {
   "cell_type": "code",
   "execution_count": 46,
   "metadata": {},
   "outputs": [
    {
     "data": {
      "text/plain": [
       "(100, 2)"
      ]
     },
     "execution_count": 46,
     "metadata": {},
     "output_type": "execute_result"
    }
   ],
   "source": [
    "X.T[indexer].shape"
   ]
  },
  {
   "cell_type": "code",
   "execution_count": 55,
   "metadata": {},
   "outputs": [
    {
     "data": {
      "text/plain": [
       "array([], shape=(0, 2), dtype=float64)"
      ]
     },
     "execution_count": 55,
     "metadata": {},
     "output_type": "execute_result"
    }
   ],
   "source": [
    "X.T[(y.T == 0).reshape(-1,)]"
   ]
  },
  {
   "cell_type": "code",
   "execution_count": 58,
   "metadata": {},
   "outputs": [
    {
     "data": {
      "image/png": "[encoded data removed]",
      "text/plain": [
       "<Figure size 432x288 with 1 Axes>"
      ]
     },
     "metadata": {
      "needs_background": "light"
     },
     "output_type": "display_data"
    }
   ],
   "source": [
    "first_class_positions = X.T[(y.T == 1).reshape(-1,)]\n",
    "second_class_positions = X.T[(y.T == 2).reshape(-1,)]\n",
    "third_class_positions = X.T[(y.T == 3).reshape(-1,)]\n",
    "plt.scatter(first_class_positions[:,0], first_class_positions[:,1] , c = 'red')\n",
    "plt.scatter(second_class_positions[:,0], second_class_positions[:,1] , c = 'blue')\n",
    "plt.scatter(third_class_positions[:,0], third_class_positions[:,1] , c = 'green')\n",
    "plt.show()"
   ]
  },
  {
   "cell_type": "code",
   "execution_count": 61,
   "metadata": {},
   "outputs": [
    {
     "data": {
      "image/png": "[encoded data removed]",
      "text/plain": [
       "<Figure size 432x288 with 1 Axes>"
      ]
     },
     "metadata": {
      "needs_background": "light"
     },
     "output_type": "display_data"
    }
   ],
   "source": [
    "first_class_positions = X.T[(predicted_classes.T == 1).reshape(-1,)]\n",
    "second_class_positions = X.T[(predicted_classes.T == 2).reshape(-1,)]\n",
    "third_class_positions = X.T[(predicted_classes.T == 3).reshape(-1,)]\n",
    "plt.scatter(first_class_positions[:,0], first_class_positions[:,1] , c = 'red')\n",
    "plt.scatter(second_class_positions[:,0], second_class_positions[:,1] , c = 'blue')\n",
    "plt.scatter(third_class_positions[:,0], third_class_positions[:,1] , c = 'green')\n",
    "plt.show()"
   ]
  },
  {
   "cell_type": "code",
   "execution_count": 27,
   "metadata": {},
   "outputs": [
    {
     "ename": "AssertionError",
     "evalue": "",
     "output_type": "error",
     "traceback": [
      "\u001b[1;31m---------------------------------------------------------------------------\u001b[0m",
      "\u001b[1;31mAssertionError\u001b[0m                            Traceback (most recent call last)",
      "\u001b[1;32m<ipython-input-27-082145fab5bb>\u001b[0m in \u001b[0;36m<module>\u001b[1;34m\u001b[0m\n\u001b[1;32m----> 1\u001b[1;33m \u001b[0mplot_decision_boundary\u001b[0m\u001b[1;33m(\u001b[0m\u001b[1;32mlambda\u001b[0m \u001b[0mx\u001b[0m\u001b[1;33m:\u001b[0m \u001b[0mnn\u001b[0m\u001b[1;33m.\u001b[0m\u001b[0mpredict_dec\u001b[0m\u001b[1;33m(\u001b[0m\u001b[0mparameters\u001b[0m\u001b[1;33m,\u001b[0m \u001b[0mx\u001b[0m\u001b[1;33m.\u001b[0m\u001b[0mT\u001b[0m\u001b[1;33m)\u001b[0m\u001b[1;33m,\u001b[0m \u001b[0mX\u001b[0m\u001b[1;33m,\u001b[0m \u001b[0mY\u001b[0m\u001b[1;33m.\u001b[0m\u001b[0mA\u001b[0m\u001b[1;33m)\u001b[0m\u001b[1;33m\u001b[0m\u001b[1;33m\u001b[0m\u001b[0m\n\u001b[0m",
      "\u001b[1;32m<ipython-input-20-ba855bba585c>\u001b[0m in \u001b[0;36mplot_decision_boundary\u001b[1;34m(model, X, y)\u001b[0m\n\u001b[0;32m      7\u001b[0m     \u001b[0mxx\u001b[0m\u001b[1;33m,\u001b[0m \u001b[0myy\u001b[0m \u001b[1;33m=\u001b[0m \u001b[0mnp\u001b[0m\u001b[1;33m.\u001b[0m\u001b[0mmeshgrid\u001b[0m\u001b[1;33m(\u001b[0m\u001b[0mnp\u001b[0m\u001b[1;33m.\u001b[0m\u001b[0marange\u001b[0m\u001b[1;33m(\u001b[0m\u001b[0mx_min\u001b[0m\u001b[1;33m,\u001b[0m \u001b[0mx_max\u001b[0m\u001b[1;33m,\u001b[0m \u001b[0mh\u001b[0m\u001b[1;33m)\u001b[0m\u001b[1;33m,\u001b[0m \u001b[0mnp\u001b[0m\u001b[1;33m.\u001b[0m\u001b[0marange\u001b[0m\u001b[1;33m(\u001b[0m\u001b[0my_min\u001b[0m\u001b[1;33m,\u001b[0m \u001b[0my_max\u001b[0m\u001b[1;33m,\u001b[0m \u001b[0mh\u001b[0m\u001b[1;33m)\u001b[0m\u001b[1;33m)\u001b[0m\u001b[1;33m\u001b[0m\u001b[1;33m\u001b[0m\u001b[0m\n\u001b[0;32m      8\u001b[0m     \u001b[1;31m# Predict the function value for the whole grid\u001b[0m\u001b[1;33m\u001b[0m\u001b[1;33m\u001b[0m\u001b[1;33m\u001b[0m\u001b[0m\n\u001b[1;32m----> 9\u001b[1;33m     \u001b[0mZ\u001b[0m \u001b[1;33m=\u001b[0m \u001b[0mmodel\u001b[0m\u001b[1;33m(\u001b[0m\u001b[0mnp\u001b[0m\u001b[1;33m.\u001b[0m\u001b[0mc_\u001b[0m\u001b[1;33m[\u001b[0m\u001b[0mxx\u001b[0m\u001b[1;33m.\u001b[0m\u001b[0mravel\u001b[0m\u001b[1;33m(\u001b[0m\u001b[1;33m)\u001b[0m\u001b[1;33m,\u001b[0m \u001b[0myy\u001b[0m\u001b[1;33m.\u001b[0m\u001b[0mravel\u001b[0m\u001b[1;33m(\u001b[0m\u001b[1;33m)\u001b[0m\u001b[1;33m]\u001b[0m\u001b[1;33m)\u001b[0m\u001b[1;33m\u001b[0m\u001b[1;33m\u001b[0m\u001b[0m\n\u001b[0m\u001b[0;32m     10\u001b[0m     \u001b[0mZ\u001b[0m \u001b[1;33m=\u001b[0m \u001b[0mZ\u001b[0m\u001b[1;33m.\u001b[0m\u001b[0mreshape\u001b[0m\u001b[1;33m(\u001b[0m\u001b[0mxx\u001b[0m\u001b[1;33m.\u001b[0m\u001b[0mshape\u001b[0m\u001b[1;33m)\u001b[0m\u001b[1;33m\u001b[0m\u001b[1;33m\u001b[0m\u001b[0m\n\u001b[0;32m     11\u001b[0m     \u001b[1;31m# Plot the contour and training examples\u001b[0m\u001b[1;33m\u001b[0m\u001b[1;33m\u001b[0m\u001b[1;33m\u001b[0m\u001b[0m\n",
      "\u001b[1;32m<ipython-input-27-082145fab5bb>\u001b[0m in \u001b[0;36m<lambda>\u001b[1;34m(x)\u001b[0m\n\u001b[1;32m----> 1\u001b[1;33m \u001b[0mplot_decision_boundary\u001b[0m\u001b[1;33m(\u001b[0m\u001b[1;32mlambda\u001b[0m \u001b[0mx\u001b[0m\u001b[1;33m:\u001b[0m \u001b[0mnn\u001b[0m\u001b[1;33m.\u001b[0m\u001b[0mpredict_dec\u001b[0m\u001b[1;33m(\u001b[0m\u001b[0mparameters\u001b[0m\u001b[1;33m,\u001b[0m \u001b[0mx\u001b[0m\u001b[1;33m.\u001b[0m\u001b[0mT\u001b[0m\u001b[1;33m)\u001b[0m\u001b[1;33m,\u001b[0m \u001b[0mX\u001b[0m\u001b[1;33m,\u001b[0m \u001b[0mY\u001b[0m\u001b[1;33m.\u001b[0m\u001b[0mA\u001b[0m\u001b[1;33m)\u001b[0m\u001b[1;33m\u001b[0m\u001b[1;33m\u001b[0m\u001b[0m\n\u001b[0m",
      "\u001b[1;32m~\\source\\repos\\NNVisualiser\\deep_nn\\deep_nn.py\u001b[0m in \u001b[0;36mpredict_dec\u001b[1;34m(parameters, X)\u001b[0m\n\u001b[0;32m    487\u001b[0m \u001b[1;33m\u001b[0m\u001b[0m\n\u001b[0;32m    488\u001b[0m     \u001b[1;31m# Forward propagation\u001b[0m\u001b[1;33m\u001b[0m\u001b[1;33m\u001b[0m\u001b[1;33m\u001b[0m\u001b[0m\n\u001b[1;32m--> 489\u001b[1;33m     \u001b[0mprobas\u001b[0m\u001b[1;33m,\u001b[0m \u001b[0mcaches\u001b[0m \u001b[1;33m=\u001b[0m \u001b[0mL_model_forward\u001b[0m\u001b[1;33m(\u001b[0m\u001b[0mX\u001b[0m\u001b[1;33m,\u001b[0m \u001b[0mparameters\u001b[0m\u001b[1;33m)\u001b[0m\u001b[1;33m\u001b[0m\u001b[1;33m\u001b[0m\u001b[0m\n\u001b[0m\u001b[0;32m    490\u001b[0m     \u001b[0mpredictions\u001b[0m \u001b[1;33m=\u001b[0m \u001b[1;33m(\u001b[0m\u001b[0mprobas\u001b[0m \u001b[1;33m>\u001b[0m \u001b[1;36m0.5\u001b[0m\u001b[1;33m)\u001b[0m\u001b[1;33m\u001b[0m\u001b[1;33m\u001b[0m\u001b[0m\n\u001b[0;32m    491\u001b[0m \u001b[1;33m\u001b[0m\u001b[0m\n",
      "\u001b[1;32m~\\source\\repos\\NNVisualiser\\deep_nn\\deep_nn.py\u001b[0m in \u001b[0;36mL_model_forward\u001b[1;34m(X, parameters, layers_activations, num_outputs)\u001b[0m\n\u001b[0;32m    231\u001b[0m     \u001b[0mcaches\u001b[0m\u001b[1;33m.\u001b[0m\u001b[0mappend\u001b[0m\u001b[1;33m(\u001b[0m\u001b[0mcache\u001b[0m\u001b[1;33m)\u001b[0m\u001b[1;33m\u001b[0m\u001b[1;33m\u001b[0m\u001b[0m\n\u001b[0;32m    232\u001b[0m \u001b[1;33m\u001b[0m\u001b[0m\n\u001b[1;32m--> 233\u001b[1;33m     \u001b[1;32massert\u001b[0m\u001b[1;33m(\u001b[0m\u001b[0mAL\u001b[0m\u001b[1;33m.\u001b[0m\u001b[0mshape\u001b[0m \u001b[1;33m==\u001b[0m \u001b[1;33m(\u001b[0m\u001b[0mnum_outputs\u001b[0m\u001b[1;33m,\u001b[0m \u001b[0mX\u001b[0m\u001b[1;33m.\u001b[0m\u001b[0mshape\u001b[0m\u001b[1;33m[\u001b[0m\u001b[1;36m1\u001b[0m\u001b[1;33m]\u001b[0m\u001b[1;33m)\u001b[0m\u001b[1;33m)\u001b[0m\u001b[1;33m\u001b[0m\u001b[1;33m\u001b[0m\u001b[0m\n\u001b[0m\u001b[0;32m    234\u001b[0m \u001b[1;33m\u001b[0m\u001b[0m\n\u001b[0;32m    235\u001b[0m     \u001b[1;32mreturn\u001b[0m \u001b[0mAL\u001b[0m\u001b[1;33m,\u001b[0m \u001b[0mcaches\u001b[0m\u001b[1;33m\u001b[0m\u001b[1;33m\u001b[0m\u001b[0m\n",
      "\u001b[1;31mAssertionError\u001b[0m: "
     ]
    }
   ],
   "source": [
    "plot_decision_boundary(lambda x: nn.predict_dec(parameters, x.T), X, Y.A)"
   ]
  },
  {
   "cell_type": "code",
   "execution_count": 18,
   "metadata": {},
   "outputs": [
    {
     "name": "stdout",
     "output_type": "stream",
     "text": [
      "Cost after epoch 0: 1.085441\n",
      "Cost after epoch 1000: 1.040370\n",
      "Cost after epoch 2000: 0.979691\n",
      "Cost after epoch 3000: 0.907760\n",
      "Cost after epoch 4000: 0.858196\n",
      "Cost after epoch 5000: 0.819869\n",
      "Cost after epoch 6000: 0.787479\n",
      "Cost after epoch 7000: 0.762739\n",
      "Cost after epoch 8000: 0.745079\n",
      "Cost after epoch 9000: 0.732193\n",
      "Cost after epoch 10000: 0.721790\n",
      "Cost after epoch 11000: 0.710878\n",
      "Cost after epoch 12000: 0.701160\n",
      "Cost after epoch 13000: 0.692021\n",
      "Cost after epoch 14000: 0.682882\n",
      "Cost after epoch 15000: 0.673991\n",
      "Cost after epoch 16000: 0.664723\n",
      "Cost after epoch 17000: 0.655988\n",
      "Cost after epoch 18000: 0.647905\n",
      "Cost after epoch 19000: 0.639810\n",
      "Cost after epoch 20000: 0.630993\n",
      "Cost after epoch 21000: 0.621779\n",
      "Cost after epoch 22000: 0.612819\n",
      "Cost after epoch 23000: 0.603741\n",
      "Cost after epoch 24000: 0.595143\n",
      "Cost after epoch 25000: 0.587468\n",
      "Cost after epoch 26000: 0.580865\n",
      "Cost after epoch 27000: 0.575762\n",
      "Cost after epoch 28000: 0.573358\n",
      "Cost after epoch 29000: 0.574060\n",
      "Cost after epoch 30000: 0.599639\n",
      "Cost after epoch 31000: 0.610894\n",
      "Cost after epoch 32000: 0.590093\n",
      "Cost after epoch 33000: 0.587439\n",
      "Cost after epoch 34000: 0.572397\n",
      "Cost after epoch 35000: 0.562848\n",
      "Cost after epoch 36000: 0.556209\n",
      "Cost after epoch 37000: 0.550482\n",
      "Cost after epoch 38000: 0.545259\n",
      "Cost after epoch 39000: 0.539090\n",
      "Cost after epoch 40000: 0.537559\n",
      "Cost after epoch 41000: 0.529006\n",
      "Cost after epoch 42000: 0.521726\n",
      "Cost after epoch 43000: 0.523239\n",
      "Cost after epoch 44000: 0.521175\n",
      "Cost after epoch 45000: 0.517938\n",
      "Cost after epoch 46000: 0.514667\n",
      "Cost after epoch 47000: 0.513241\n",
      "Cost after epoch 48000: 0.517104\n",
      "Cost after epoch 49000: 0.517369\n"
     ]
    }
   ],
   "source": [
    "parameters, costs = nn.model(X, Y.T.A, \n",
    "         layers_dims=[2, 12, 12, 12, 12, 3],\n",
    "         layers_activations=[\"relu\", \"relu\", \"relu\", \"relu\", \"relu\", \"softmax\"], \n",
    "         cost_func=\"categorical_crossentropy\",\n",
    "         beta=0, learning_rate=0.01, num_epochs=50000, mini_batch_size=512)"
   ]
  },
  {
   "cell_type": "code",
   "execution_count": 19,
   "metadata": {},
   "outputs": [
    {
     "data": {
      "text/plain": [
       "[<matplotlib.lines.Line2D at 0x23ddcb27278>]"
      ]
     },
     "execution_count": 19,
     "metadata": {},
     "output_type": "execute_result"
    },
    {
     "data": {
      "image/png": "[encoded data removed]",
      "text/plain": [
       "<Figure size 432x288 with 1 Axes>"
      ]
     },
     "metadata": {
      "needs_background": "light"
     },
     "output_type": "display_data"
    }
   ],
   "source": [
    "plt.plot(costs)"
   ]
  },
  {
   "cell_type": "code",
   "execution_count": null,
   "metadata": {},
   "outputs": [],
   "source": []
  }
 ],
 "metadata": {
  "kernelspec": {
   "display_name": "Python 3",
   "language": "python",
   "name": "python3"
  },
  "language_info": {
   "codemirror_mode": {
    "name": "ipython",
    "version": 3
   },
   "file_extension": ".py",
   "mimetype": "text/x-python",
   "name": "python",
   "nbconvert_exporter": "python",
   "pygments_lexer": "ipython3",
   "version": "3.7.2"
  }
 },
 "nbformat": 4,
 "nbformat_minor": 1
}
