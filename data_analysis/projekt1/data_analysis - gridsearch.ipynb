{
 "cells": [
  {
   "cell_type": "code",
   "execution_count": 1,
   "metadata": {},
   "outputs": [],
   "source": [
    "import sys,os \n",
    "os.chdir('.\\..\\..')"
   ]
  },
  {
   "cell_type": "code",
   "execution_count": 128,
   "metadata": {},
   "outputs": [],
   "source": [
    "import deep_nn.deep_nn_model as nn\n",
    "import deep_nn.deep_nn_utils as nn_utils\n",
    "\n",
    "import numpy as np\n",
    "import pandas as pd\n",
    "import matplotlib.pyplot as plt\n",
    "import itertools\n",
    "from sklearn.preprocessing import MinMaxScaler, StandardScaler\n",
    "from sklearn.metrics import accuracy_score"
   ]
  },
  {
   "cell_type": "code",
   "execution_count": 59,
   "metadata": {},
   "outputs": [],
   "source": [
    "train = pd.read_csv(\"./data_analysis/projekt1/regression/data.activation.train.1000.csv\")\n",
    "test = pd.read_csv(\"./data_analysis/projekt1/regression/data.activation.test.1000.csv\")\n"
   ]
  },
  {
   "cell_type": "code",
   "execution_count": 60,
   "metadata": {
    "scrolled": true
   },
   "outputs": [
    {
     "data": {
      "text/plain": [
       "<matplotlib.collections.PathCollection at 0x238af55d320>"
      ]
     },
     "execution_count": 60,
     "metadata": {},
     "output_type": "execute_result"
    },
    {
     "data": {
      "image/png": "[encoded data removed]",
      "text/plain": [
       "<Figure size 432x288 with 1 Axes>"
      ]
     },
     "metadata": {
      "needs_background": "light"
     },
     "output_type": "display_data"
    }
   ],
   "source": [
    "plt.scatter(train.x, train.y)"
   ]
  },
  {
   "cell_type": "code",
   "execution_count": 144,
   "metadata": {},
   "outputs": [],
   "source": [
    "def grid_search(params, tasktype, train, test):\n",
    "    if tasktype == \"regression\":\n",
    "        loss = \"MSE\"\n",
    "        lastactivation = \"linear\"\n",
    "        X = train.x.values.reshape(-1, 1)\n",
    "        Y = train.y.values.reshape(-1, 1)\n",
    "        Xtest = test.x.values.reshape(-1, 1)\n",
    "        Ytest = test.y.values.reshape(-1, 1)\n",
    "    if tasktype == \"classification\":\n",
    "        loss = \"binary_crossentropy\"\n",
    "        lastactivation = \"sigmoid\"\n",
    "        X = train[['x', 'y']].values.T\n",
    "        Y = train.cls.values.reshape(-1, 1)\n",
    "        Xtest = test[['x', 'y']].values.T\n",
    "        Ytest = test.cls.values.reshape(-1, 1)\n",
    "    if tasktype == \"multi\":\n",
    "        loss = \"categorical_crossentropy\"\n",
    "        lastactivation = \"sigmoid\"\n",
    "        X = train.x.values.reshape(-1, 1)\n",
    "        Y = train.y.values.reshape(-1, 1)\n",
    "        Xtest = test.x.values.reshape(-1, 1)\n",
    "        Ytest = test.y.values.reshape(-1, 1)\n",
    "    X_scaler = StandardScaler()\n",
    "    X_scaled = X_scaler.fit_transform(X).reshape(-1, 1)\n",
    "    Xtest_scaled = X_scaler.transform(Xtest).reshape(-1, 1)\n",
    "    for tab in params:\n",
    "        layersizes = tab[0]\n",
    "        bias = tab[1]\n",
    "        activation =  tab[2]\n",
    "        batch = tab[3]\n",
    "        learning_rate = tab[4]\n",
    "        momentum = tab[5]\n",
    "        epochs = tab[6]\n",
    "        verbose = tab[7]\n",
    "        nn_builder = nn.SequentialBuilder()\n",
    "        for layersize in layersizes[:-1]:\n",
    "            nn_builder.add_dense(layersize, activation)\n",
    "        nn_builder.add_dense(1, lastactivation)\n",
    "        model = nn_builder.compile(loss, disable_bias = bias)\n",
    "        #for i in range(0,5):\n",
    "        parameters, costs = model.fit(X_scaled.T, Y.T, \n",
    "                                      num_epochs=epochs, \n",
    "                                      learning_rate = learning_rate, \n",
    "                                      momentum = momentum, \n",
    "                                      mini_batch_size = batch,\n",
    "                                     verbose = verbose)\n",
    "        if tasktype == \"regression\":\n",
    "            Ypred  = model.predict(Xtest_scaled.T)\n",
    "            mse= nn_utils.quadratic_cost(Ypred.T, Ytest, len(Ytest))\n",
    "            print ('Params: ',layersizes, bias,activation,batch,learning_rate,momentum,epochs,', Result: ',mse)\n",
    "\n",
    "        if tasktype == \"classification\":\n",
    "            Ypred  = model.predict_classes(Xtest_scaled.T)\n",
    "            return Ypred\n",
    "            acc= accuracy_score(Ypred.T, Ytest)\n",
    "            print ('Params: ',layersizes, bias,activation,batch,learning_rate,momentum,epochs,', Accuracy: ',acc)\n",
    "\n",
    "\n",
    "    return Ypred"
   ]
  },
  {
   "cell_type": "code",
   "execution_count": 5,
   "metadata": {},
   "outputs": [],
   "source": [
    "layersizes = [[2,2,1],[2,5,5,1], [2,10,6,4,1]] \n",
    "activations = ['sigmoid','relu', 'linear','tanh','softmax']\n",
    "losses =['MSE','binary_crossentropy','categorical_crossentropy']\n",
    "disable_bias = [False,True]\n",
    "learning_rate = [0.01,0.05,0.1,0.2,0.5]\n",
    "momentum = [0.5,0.8,0.9,0.95,0.99]\n",
    "num_epochs = [1000,2000,3000]\n",
    "min_batch_size = [1,32,64,256,1024]\n",
    "\n",
    "std_batch_size = 64\n",
    "std_layer_size = [2,5,5,1]\n",
    "std_learning_rate = 0.1\n",
    "std_momentum = 0.9\n",
    "std_epochs = 5000\n"
   ]
  },
  {
   "cell_type": "code",
   "execution_count": 87,
   "metadata": {},
   "outputs": [
    {
     "name": "stdout",
     "output_type": "stream",
     "text": [
      "False tanh [150.856841720091]\n",
      "False sigmoid [145.4115263221018]\n",
      "True tanh [15048.194934612538]\n",
      "True sigmoid [44.265080652958545]\n"
     ]
    }
   ],
   "source": [
    "layersizes = [[2,2,1],[2,5,5,1], [2,10,6,4,1]] \n",
    "activations = ['sigmoid','relu', 'linear','tanh','softmax']\n",
    "losses =['MSE','binary_crossentropy','categorical_crossentropy']\n",
    "disable_bias = [False,True]\n",
    "learning_rate = [0.01,0.05,0.1,0.2,0.5]\n",
    "momentum = [0.5,0.8,0.9,0.95,0.99]\n",
    "num_epochs = [1000,2000,3000]\n",
    "min_batch_size = [1,32,64,256,1024]\n",
    "\n",
    "std_batch_size = 64\n",
    "std_layer_size = [2,5,5,1]\n",
    "std_learning_rate = 0.001\n",
    "std_momentum = 0.9\n",
    "std_epochs = 5000\n",
    "\n",
    "disable_bias = [False,True]\n",
    "activations = ['tanh','sigmoid']\n",
    "\n",
    "X = train.x.values.reshape(-1, 1)\n",
    "Y = train.y.values.reshape(-1, 1)\n",
    "Xtest = test.x.values.reshape(-1, 1)\n",
    "Ytest = test.y.values.reshape(-1, 1)\n",
    "X_scaler = StandardScaler()\n",
    "X_scaled = X_scaler.fit_transform(X).reshape(-1, 1)\n",
    "Xtest_scaled = X_scaler.transform(Xtest).reshape(-1, 1)\n",
    "for tab in itertools.product(disable_bias,activations):\n",
    "    bias = tab[0]\n",
    "    activation =  tab[1]\n",
    "    nn_builder = nn.SequentialBuilder()\n",
    "    nn_builder.add_dense(1, activation)\n",
    "    nn_builder.add_dense(5, activation)\n",
    "    nn_builder.add_dense(5, activation)\n",
    "    nn_builder.add_dense(1, 'linear')\n",
    "    model = nn_builder.compile('MSE', disable_bias = bias)\n",
    "    mse = []\n",
    "    #for i in range(0,5):\n",
    "    parameters, costs = model.fit(X_scaled.T, Y.T, \n",
    "                                  num_epochs=std_epochs, \n",
    "                                  learning_rate = std_learning_rate, \n",
    "                                  momentum = std_momentum, \n",
    "                                  mini_batch_size = std_batch_size,\n",
    "                                 verbose = False)\n",
    "    Ypred  = model.predict(Xtest_scaled.T)\n",
    "    mse.append( nn_utils.quadratic_cost(Ypred.T, Ytest, len(Ytest)))\n",
    "    print (bias,activation,mse)"
   ]
  },
  {
   "cell_type": "code",
   "execution_count": 99,
   "metadata": {},
   "outputs": [
    {
     "data": {
      "text/plain": [
       "[2, 5, 5]"
      ]
     },
     "execution_count": 99,
     "metadata": {},
     "output_type": "execute_result"
    }
   ],
   "source": [
    "[2,5,5,1][:-1]"
   ]
  },
  {
   "cell_type": "code",
   "execution_count": 174,
   "metadata": {
    "scrolled": true
   },
   "outputs": [
    {
     "name": "stdout",
     "output_type": "stream",
     "text": [
      "Params:  [1, 5, 5, 1] False tanh 64 0.0001 0.5 2500 , Result:  0.3103124074085438\n",
      "Params:  [1, 5, 5, 1] False tanh 64 0.0001 0.75 2500 , Result:  0.31031307564236105\n",
      "Params:  [1, 5, 5, 1] False tanh 64 0.0001 0.9 2500 , Result:  0.3103136785519146\n",
      "Params:  [1, 5, 5, 1] False tanh 64 0.0001 0.99 2500 , Result:  0.3103240405051684\n",
      "Params:  [1, 5, 5, 1] False tanh 64 0.0005 0.5 2500 , Result:  0.3171793963330775\n",
      "Params:  [1, 5, 5, 1] False tanh 64 0.0005 0.75 2500 , Result:  0.31719216128066635\n",
      "Params:  [1, 5, 5, 1] False tanh 64 0.0005 0.9 2500 , Result:  0.3172158237667803\n",
      "Params:  [1, 5, 5, 1] False tanh 64 0.0005 0.99 2500 , Result:  0.3174580076051275\n",
      "Params:  [1, 5, 5, 1] False tanh 64 0.001 0.5 2500 , Result:  0.31751091106549406\n",
      "Params:  [1, 5, 5, 1] False tanh 64 0.001 0.75 2500 , Result:  0.3175287560500047\n",
      "Params:  [1, 5, 5, 1] False tanh 64 0.001 0.9 2500 , Result:  0.3175530766234806\n",
      "Params:  [1, 5, 5, 1] False tanh 64 0.001 0.99 2500 , Result:  0.3177238261951522\n",
      "Params:  [1, 5, 5, 1] False tanh 64 0.005 0.5 2500 , Result:  0.315805241367763\n",
      "Params:  [1, 5, 5, 1] False tanh 64 0.005 0.75 2500 , Result:  0.3158681438188177\n",
      "Params:  [1, 5, 5, 1] False tanh 64 0.005 0.9 2500 , Result:  0.31591158925851687\n",
      "Params:  [1, 5, 5, 1] False tanh 64 0.005 0.99 2500 , Result:  0.3165789604626022\n",
      "Params:  [1, 5, 5, 1] False tanh 64 0.01 0.5 2500 , Result:  0.31501872835243755\n",
      "Params:  [1, 5, 5, 1] False tanh 64 0.01 0.75 2500 , Result:  0.3151209142709343\n",
      "Params:  [1, 5, 5, 1] False tanh 64 0.01 0.9 2500 , Result:  0.315089918959856\n",
      "Params:  [1, 5, 5, 1] False tanh 64 0.01 0.99 2500 , Result:  0.31629796827949164\n"
     ]
    },
    {
     "data": {
      "text/plain": [
       "array([[-0.04384103,  0.09047815,  0.18262421, -0.01767383,  0.00222425,\n",
       "         0.00746247,  0.00750924,  0.07902762,  0.20173989, -0.00969843,\n",
       "         0.03250084,  0.16538711, -0.03424775,  0.00748059,  0.09872514,\n",
       "         0.09104745,  0.1323808 ,  0.01801486,  0.07868802,  0.16986038,\n",
       "         0.02274473,  0.16980586, -0.04310365,  0.11773908,  0.07798486,\n",
       "         0.00873433,  0.1533073 ,  0.00370851,  0.10471399, -0.08564011,\n",
       "         0.16771561, -0.01149654,  0.18003811, -0.02998591,  0.16235817,\n",
       "         0.12403397,  0.0922807 ,  0.00120626,  0.1391398 , -0.00128017,\n",
       "         0.03969813, -0.01884778,  0.00210226,  0.09036757,  0.09025002,\n",
       "         0.07731288, -0.0208441 , -0.02747137, -0.02267656, -0.02934195,\n",
       "        -0.08280885, -0.01915575, -0.05317965, -0.06787753, -0.04710069,\n",
       "        -0.04851277, -0.03874351, -0.0521554 , -0.06995795, -0.06428697,\n",
       "        -0.08949585, -0.08480547,  0.15444752, -0.01376989, -0.01644067,\n",
       "        -0.01179558,  0.01488319,  0.02738525, -0.02182376, -0.08944119,\n",
       "        -0.00566078, -0.06157913,  0.14111126,  0.19639613, -0.0526707 ,\n",
       "        -0.02645006, -0.07000881,  0.00527939,  0.03661346,  0.0925845 ,\n",
       "         0.10398068,  0.00239444,  0.00610865,  0.16543409, -0.00607517,\n",
       "        -0.01509051, -0.08910893, -0.00921112,  0.00637313,  0.13524765,\n",
       "        -0.04839647,  0.00561351,  0.15391321, -0.03940603,  0.00575031,\n",
       "        -0.02726156, -0.01598217,  0.00596326, -0.01403739, -0.06117122]])"
      ]
     },
     "execution_count": 174,
     "metadata": {},
     "output_type": "execute_result"
    }
   ],
   "source": [
    "layersizes = [[2,2,1],[2,5,5,1], [2,10,6,4,1]] \n",
    "activations = ['sigmoid','relu', 'linear','tanh','softmax']\n",
    "losses =['MSE','binary_crossentropy','categorical_crossentropy']\n",
    "disable_bias = [False,True]\n",
    "learning_rate = [0.01,0.05,0.1,0.2,0.5]\n",
    "momentum = [0.5,0.8,0.9,0.95,0.99]\n",
    "num_epochs = [1000,2000,3000]\n",
    "min_batch_size = [1,32,64,256,1024]\n",
    "\n",
    "std_batch_size = [64]\n",
    "std_layer_size = [[1,5,5,1]]\n",
    "std_learning_rate = [0.0001,0.0005,0.001,0.005,0.01]\n",
    "std_momentum = [0.5,0.75,0.9,0.99]\n",
    "std_epochs =[2500]\n",
    "\n",
    "disable_bias = [False]\n",
    "activations = ['tanh']\n",
    "\n",
    "grid_search(itertools.product(std_layer_size,disable_bias,activations,std_batch_size,std_learning_rate,std_momentum,std_epochs,verbose), \"regression\", train,test)"
   ]
  },
  {
   "cell_type": "code",
   "execution_count": 176,
   "metadata": {},
   "outputs": [
    {
     "name": "stdout",
     "output_type": "stream",
     "text": [
      "Trainset: data.activation.train.100\n",
      "Params:  [1, 5, 5, 1] False tanh 64 0.001 0.9 5000 , Result:  276.6152732940198\n",
      "Params:  [1, 5, 5, 1] True tanh 64 0.001 0.9 5000 , Result:  13758.664238599318\n",
      "Trainset: data.activation.train.500\n"
     ]
    },
    {
     "ename": "KeyboardInterrupt",
     "evalue": "",
     "output_type": "error",
     "traceback": [
      "\u001b[1;31m---------------------------------------------------------------------------\u001b[0m",
      "\u001b[1;31mKeyboardInterrupt\u001b[0m                         Traceback (most recent call last)",
      "\u001b[1;32m<ipython-input-176-1ad3cb26f8df>\u001b[0m in \u001b[0;36m<module>\u001b[1;34m\u001b[0m\n\u001b[0;32m     20\u001b[0m     \u001b[0mactivations\u001b[0m \u001b[1;33m=\u001b[0m \u001b[1;33m[\u001b[0m\u001b[1;34m'tanh'\u001b[0m\u001b[1;33m]\u001b[0m\u001b[1;33m\u001b[0m\u001b[0m\n\u001b[0;32m     21\u001b[0m     \u001b[0mverbose\u001b[0m \u001b[1;33m=\u001b[0m \u001b[1;33m[\u001b[0m\u001b[1;32mFalse\u001b[0m\u001b[1;33m]\u001b[0m\u001b[1;33m\u001b[0m\u001b[0m\n\u001b[1;32m---> 22\u001b[1;33m     \u001b[0mgrid_search\u001b[0m\u001b[1;33m(\u001b[0m\u001b[0mitertools\u001b[0m\u001b[1;33m.\u001b[0m\u001b[0mproduct\u001b[0m\u001b[1;33m(\u001b[0m\u001b[0mstd_layer_size\u001b[0m\u001b[1;33m,\u001b[0m\u001b[0mdisable_bias\u001b[0m\u001b[1;33m,\u001b[0m\u001b[0mactivations\u001b[0m\u001b[1;33m,\u001b[0m\u001b[0mstd_batch_size\u001b[0m\u001b[1;33m,\u001b[0m\u001b[0mstd_learning_rate\u001b[0m\u001b[1;33m,\u001b[0m\u001b[0mstd_momentum\u001b[0m\u001b[1;33m,\u001b[0m\u001b[0mstd_epochs\u001b[0m\u001b[1;33m,\u001b[0m\u001b[0mverbose\u001b[0m\u001b[1;33m)\u001b[0m\u001b[1;33m,\u001b[0m \u001b[1;34m\"regression\"\u001b[0m\u001b[1;33m,\u001b[0m \u001b[0mtrain\u001b[0m\u001b[1;33m,\u001b[0m\u001b[0mtest\u001b[0m\u001b[1;33m)\u001b[0m\u001b[1;33m\u001b[0m\u001b[0m\n\u001b[0m",
      "\u001b[1;32m<ipython-input-171-dd26d77ab234>\u001b[0m in \u001b[0;36mgrid_search\u001b[1;34m(params, tasktype, train, test)\u001b[0m\n\u001b[0;32m     48\u001b[0m                                       \u001b[0mmomentum\u001b[0m \u001b[1;33m=\u001b[0m \u001b[0mmomentum\u001b[0m\u001b[1;33m,\u001b[0m\u001b[1;33m\u001b[0m\u001b[0m\n\u001b[0;32m     49\u001b[0m                                       \u001b[0mmini_batch_size\u001b[0m \u001b[1;33m=\u001b[0m \u001b[0mbatch\u001b[0m\u001b[1;33m,\u001b[0m\u001b[1;33m\u001b[0m\u001b[0m\n\u001b[1;32m---> 50\u001b[1;33m                                       verbose = verbose)\n\u001b[0m\u001b[0;32m     51\u001b[0m         \u001b[1;32mif\u001b[0m \u001b[0mtasktype\u001b[0m \u001b[1;33m==\u001b[0m \u001b[1;34m\"regression\"\u001b[0m\u001b[1;33m:\u001b[0m\u001b[1;33m\u001b[0m\u001b[0m\n\u001b[0;32m     52\u001b[0m             \u001b[0mYpred\u001b[0m  \u001b[1;33m=\u001b[0m \u001b[0mmodel\u001b[0m\u001b[1;33m.\u001b[0m\u001b[0mpredict\u001b[0m\u001b[1;33m(\u001b[0m\u001b[0mXtest_scaled\u001b[0m\u001b[1;33m.\u001b[0m\u001b[0mT\u001b[0m\u001b[1;33m)\u001b[0m\u001b[1;33m\u001b[0m\u001b[0m\n",
      "\u001b[1;32m~\\Desktop\\MGU\\NNVisualiser\\deep_nn\\deep_nn_model.py\u001b[0m in \u001b[0;36mfit\u001b[1;34m(self, X, Y, learning_rate, momentum, num_epochs, mini_batch_size, verbose)\u001b[0m\n\u001b[0;32m     91\u001b[0m \u001b[1;33m\u001b[0m\u001b[0m\n\u001b[0;32m     92\u001b[0m                 \u001b[1;31m# Forward propagation\u001b[0m\u001b[1;33m\u001b[0m\u001b[1;33m\u001b[0m\u001b[0m\n\u001b[1;32m---> 93\u001b[1;33m                 \u001b[0mAL\u001b[0m\u001b[1;33m,\u001b[0m \u001b[0mcaches\u001b[0m \u001b[1;33m=\u001b[0m \u001b[0mself\u001b[0m\u001b[1;33m.\u001b[0m\u001b[0mforward_propagator\u001b[0m\u001b[1;33m.\u001b[0m\u001b[0mL_model_forward\u001b[0m\u001b[1;33m(\u001b[0m\u001b[0mminibatch_X\u001b[0m\u001b[1;33m,\u001b[0m \u001b[0mself\u001b[0m\u001b[1;33m.\u001b[0m\u001b[0mparameters\u001b[0m\u001b[1;33m)\u001b[0m\u001b[1;33m\u001b[0m\u001b[0m\n\u001b[0m\u001b[0;32m     94\u001b[0m \u001b[1;33m\u001b[0m\u001b[0m\n\u001b[0;32m     95\u001b[0m                 \u001b[1;31m# Compute cost\u001b[0m\u001b[1;33m\u001b[0m\u001b[1;33m\u001b[0m\u001b[0m\n",
      "\u001b[1;32m~\\Desktop\\MGU\\NNVisualiser\\deep_nn\\deep_nn_model.py\u001b[0m in \u001b[0;36mL_model_forward\u001b[1;34m(self, X, parameters)\u001b[0m\n\u001b[0;32m    369\u001b[0m             \u001b[0mA_prev\u001b[0m \u001b[1;33m=\u001b[0m \u001b[0mA\u001b[0m\u001b[1;33m\u001b[0m\u001b[0m\n\u001b[0;32m    370\u001b[0m             A, cache = self.linear_activation_forward(A_prev, parameters[\"W\" + str(l)], parameters[\"b\" + str(l)],\n\u001b[1;32m--> 371\u001b[1;33m                                                  current_activation_func)\n\u001b[0m\u001b[0;32m    372\u001b[0m             \u001b[0mcaches\u001b[0m\u001b[1;33m.\u001b[0m\u001b[0mappend\u001b[0m\u001b[1;33m(\u001b[0m\u001b[0mcache\u001b[0m\u001b[1;33m)\u001b[0m\u001b[1;33m\u001b[0m\u001b[0m\n\u001b[0;32m    373\u001b[0m \u001b[1;33m\u001b[0m\u001b[0m\n",
      "\u001b[1;32m~\\Desktop\\MGU\\NNVisualiser\\deep_nn\\deep_nn_model.py\u001b[0m in \u001b[0;36mlinear_activation_forward\u001b[1;34m(self, A_prev, W, b, activation)\u001b[0m\n\u001b[0;32m    334\u001b[0m         \"\"\"\n\u001b[0;32m    335\u001b[0m \u001b[1;33m\u001b[0m\u001b[0m\n\u001b[1;32m--> 336\u001b[1;33m         \u001b[0mZ\u001b[0m\u001b[1;33m,\u001b[0m \u001b[0mlinear_cache\u001b[0m \u001b[1;33m=\u001b[0m \u001b[0mself\u001b[0m\u001b[1;33m.\u001b[0m\u001b[0mlinear_forward\u001b[0m\u001b[1;33m(\u001b[0m\u001b[0mA_prev\u001b[0m\u001b[1;33m,\u001b[0m \u001b[0mW\u001b[0m\u001b[1;33m,\u001b[0m \u001b[0mb\u001b[0m\u001b[1;33m)\u001b[0m\u001b[1;33m\u001b[0m\u001b[0m\n\u001b[0m\u001b[0;32m    337\u001b[0m \u001b[1;33m\u001b[0m\u001b[0m\n\u001b[0;32m    338\u001b[0m         \u001b[0mA\u001b[0m\u001b[1;33m,\u001b[0m \u001b[0mactivation_cache\u001b[0m \u001b[1;33m=\u001b[0m \u001b[0mself\u001b[0m\u001b[1;33m.\u001b[0m\u001b[0mactivation_functions\u001b[0m\u001b[1;33m[\u001b[0m\u001b[0mactivation\u001b[0m\u001b[1;33m]\u001b[0m\u001b[1;33m(\u001b[0m\u001b[0mZ\u001b[0m\u001b[1;33m)\u001b[0m\u001b[1;33m\u001b[0m\u001b[0m\n",
      "\u001b[1;32m~\\Desktop\\MGU\\NNVisualiser\\deep_nn\\deep_nn_model.py\u001b[0m in \u001b[0;36mlinear_forward\u001b[1;34m(self, A, W, b)\u001b[0m\n\u001b[0;32m    311\u001b[0m         \"\"\"\n\u001b[0;32m    312\u001b[0m \u001b[1;33m\u001b[0m\u001b[0m\n\u001b[1;32m--> 313\u001b[1;33m         \u001b[0mZ\u001b[0m \u001b[1;33m=\u001b[0m \u001b[0mnp\u001b[0m\u001b[1;33m.\u001b[0m\u001b[0mdot\u001b[0m\u001b[1;33m(\u001b[0m\u001b[0mW\u001b[0m\u001b[1;33m,\u001b[0m \u001b[0mA\u001b[0m\u001b[1;33m)\u001b[0m \u001b[1;33m+\u001b[0m \u001b[0mb\u001b[0m\u001b[1;33m\u001b[0m\u001b[0m\n\u001b[0m\u001b[0;32m    314\u001b[0m \u001b[1;33m\u001b[0m\u001b[0m\n\u001b[0;32m    315\u001b[0m         \u001b[1;32massert\u001b[0m \u001b[1;33m(\u001b[0m\u001b[0mZ\u001b[0m\u001b[1;33m.\u001b[0m\u001b[0mshape\u001b[0m \u001b[1;33m==\u001b[0m \u001b[1;33m(\u001b[0m\u001b[0mW\u001b[0m\u001b[1;33m.\u001b[0m\u001b[0mshape\u001b[0m\u001b[1;33m[\u001b[0m\u001b[1;36m0\u001b[0m\u001b[1;33m]\u001b[0m\u001b[1;33m,\u001b[0m \u001b[0mA\u001b[0m\u001b[1;33m.\u001b[0m\u001b[0mshape\u001b[0m\u001b[1;33m[\u001b[0m\u001b[1;36m1\u001b[0m\u001b[1;33m]\u001b[0m\u001b[1;33m)\u001b[0m\u001b[1;33m)\u001b[0m\u001b[1;33m\u001b[0m\u001b[0m\n",
      "\u001b[1;31mKeyboardInterrupt\u001b[0m: "
     ]
    }
   ],
   "source": [
    "reg_filenames = [['data.activation.train.100','data.activation.test.100'],\n",
    "                 ['data.activation.train.500','data.activation.test.500'],\n",
    "                 ['data.activation.train.1000','data.activation.test.1000'],\n",
    "                 ['data.cube.train.100','data.cube.test.100'],\n",
    "                 ['data.cube.train.500','data.cube.test.500'],\n",
    "                 ['data.cube.train.1000','data.cube.test.1000']]\n",
    "\n",
    "for names in reg_filenames:\n",
    "    print(\"Trainset: \" + names[0])\n",
    "    train = pd.read_csv(\"./data_analysis/projekt1/regression/\" + names [0] + \".csv\")\n",
    "    test = pd.read_csv(\"./data_analysis/projekt1/regression/\" + names [1] + \".csv\")\n",
    "\n",
    "    std_batch_size = [64]\n",
    "    std_layer_size = [[1,5,5,1]]\n",
    "    std_learning_rate = [0.001]\n",
    "    std_momentum = [0.9]\n",
    "    std_epochs =[ 5000]\n",
    "\n",
    "    disable_bias = [False,True]\n",
    "    activations = ['tanh']\n",
    "    verbose = [False]\n",
    "    grid_search(itertools.product(std_layer_size,disable_bias,activations,std_batch_size,std_learning_rate,std_momentum,std_epochs,verbose), \"regression\", train,test)"
   ]
  },
  {
   "cell_type": "code",
   "execution_count": 175,
   "metadata": {},
   "outputs": [
    {
     "name": "stdout",
     "output_type": "stream",
     "text": [
      "Params:  [1, 5, 5, 1] False tanh 64 0.001 0.9 5000 , Result:  83523.51469645835\n"
     ]
    }
   ],
   "source": [
    "    train = pd.read_csv(\"./data_analysis/projekt1/regression/data.cube.train.100.csv\")\n",
    "    test = pd.read_csv(\"./data_analysis/projekt1/regression/data.cube.test.100.csv\")\n",
    "\n",
    "    std_batch_size = [64]\n",
    "    std_layer_size = [[1,5,5,1]]\n",
    "    std_learning_rate = [0.001]\n",
    "    std_momentum = [0.9]\n",
    "    std_epochs =[ 5000]\n",
    "\n",
    "    disable_bias = [False]\n",
    "    activations = ['tanh']\n",
    "    verbose = [False]\n",
    "    Ypred = grid_search(itertools.product(std_layer_size,disable_bias,activations,std_batch_size,std_learning_rate,std_momentum,std_epochs,verbose), \"regression\",train,test)"
   ]
  },
  {
   "cell_type": "code",
   "execution_count": 127,
   "metadata": {},
   "outputs": [
    {
     "name": "stdout",
     "output_type": "stream",
     "text": [
      "Trainset: data.activation.train.100\n",
      "Params:  [1, 5, 5, 1] False tanh 64 0.0001 0.5 2500 , Result:  7316.5425219872795\n",
      "Params:  [1, 5, 5, 1] False tanh 64 0.0001 0.75 2500 , Result:  7319.649280974124\n",
      "Params:  [1, 5, 5, 1] False tanh 64 0.0001 0.9 2500 , Result:  7328.119449074947\n",
      "Params:  [1, 5, 5, 1] False tanh 64 0.0001 0.99 2500 , Result:  7392.024531757987\n",
      "Params:  [1, 5, 5, 1] False tanh 64 0.001 0.5 2500 , Result:  447.53523029284753\n",
      "Params:  [1, 5, 5, 1] False tanh 64 0.001 0.75 2500 , Result:  446.64248965371763\n",
      "Params:  [1, 5, 5, 1] False tanh 64 0.001 0.9 2500 , Result:  445.1091993433822\n",
      "Params:  [1, 5, 5, 1] False tanh 64 0.001 0.99 2500 , Result:  417.18277029270917\n",
      "Params:  [1, 5, 5, 1] False tanh 64 0.01 0.5 2500 , Result:  1023.5991817369627\n",
      "Params:  [1, 5, 5, 1] False tanh 64 0.01 0.75 2500 , Result:  639.444097421049\n",
      "Params:  [1, 5, 5, 1] False tanh 64 0.01 0.9 2500 , Result:  170.36995891700718\n",
      "Params:  [1, 5, 5, 1] False tanh 64 0.01 0.99 2500 , Result:  21.377967191405048\n",
      "Params:  [1, 5, 5, 1] False tanh 64 0.1 0.5 2500 , Result:  3187.5076843823667\n",
      "Params:  [1, 5, 5, 1] False tanh 64 0.1 0.75 2500 , Result:  6542.869934806219\n",
      "Params:  [1, 5, 5, 1] False tanh 64 0.1 0.9 2500 , Result:  4951.9417808714\n",
      "Params:  [1, 5, 5, 1] False tanh 64 0.1 0.99 2500 , Result:  11398.245821586928\n",
      "Trainset: data.activation.train.500\n",
      "Params:  [1, 5, 5, 1] False tanh 64 0.0001 0.5 2500 , Result:  1324.3876205666663\n",
      "Params:  [1, 5, 5, 1] False tanh 64 0.0001 0.75 2500 , Result:  1324.2299288005306\n",
      "Params:  [1, 5, 5, 1] False tanh 64 0.0001 0.9 2500 , Result:  1323.7205801529963\n",
      "Params:  [1, 5, 5, 1] False tanh 64 0.0001 0.99 2500 , Result:  1312.2877320745404\n",
      "Params:  [1, 5, 5, 1] False tanh 64 0.001 0.5 2500 , Result:  192.7640879395343\n",
      "Params:  [1, 5, 5, 1] False tanh 64 0.001 0.75 2500 , Result:  189.39262985858693\n",
      "Params:  [1, 5, 5, 1] False tanh 64 0.001 0.9 2500 , Result:  189.30484220484797\n",
      "Params:  [1, 5, 5, 1] False tanh 64 0.001 0.99 2500 , Result:  188.05670803268063\n",
      "Params:  [1, 5, 5, 1] False tanh 64 0.01 0.5 2500 , Result:  876.5757413265477\n",
      "Params:  [1, 5, 5, 1] False tanh 64 0.01 0.75 2500 , Result:  624.8710278536915\n",
      "Params:  [1, 5, 5, 1] False tanh 64 0.01 0.9 2500 , Result:  127.68893726842667\n",
      "Params:  [1, 5, 5, 1] False tanh 64 0.01 0.99 2500 , Result:  1619.9400338427047\n",
      "Params:  [1, 5, 5, 1] False tanh 64 0.1 0.5 2500 , Result:  8157.363214235795\n",
      "Params:  [1, 5, 5, 1] False tanh 64 0.1 0.75 2500 , Result:  7194.030914746585\n",
      "Params:  [1, 5, 5, 1] False tanh 64 0.1 0.9 2500 , Result:  15405.461600318968\n",
      "Params:  [1, 5, 5, 1] False tanh 64 0.1 0.99 2500 , Result:  3167.637597170422\n",
      "Trainset: data.cube.train.100\n",
      "Params:  [1, 5, 5, 1] False tanh 64 0.0001 0.5 2500 , Result:  117744.32467952765\n",
      "Params:  [1, 5, 5, 1] False tanh 64 0.0001 0.75 2500 , Result:  117756.96060793276\n",
      "Params:  [1, 5, 5, 1] False tanh 64 0.0001 0.9 2500 , Result:  117794.13092394393\n",
      "Params:  [1, 5, 5, 1] False tanh 64 0.0001 0.99 2500 , Result:  118269.9415093738\n",
      "Params:  [1, 5, 5, 1] False tanh 64 0.001 0.5 2500 , Result:  88356.02804933711\n",
      "Params:  [1, 5, 5, 1] False tanh 64 0.001 0.75 2500 , Result:  88351.75265757559\n",
      "Params:  [1, 5, 5, 1] False tanh 64 0.001 0.9 2500 , Result:  88355.41927663519\n",
      "Params:  [1, 5, 5, 1] False tanh 64 0.001 0.99 2500 , Result:  88129.56836009197\n",
      "Params:  [1, 5, 5, 1] False tanh 64 0.01 0.5 2500 , Result:  83631.56733274511\n",
      "Params:  [1, 5, 5, 1] False tanh 64 0.01 0.75 2500 , Result:  82474.05456510765\n",
      "Params:  [1, 5, 5, 1] False tanh 64 0.01 0.9 2500 , Result:  77977.20540909062\n",
      "Params:  [1, 5, 5, 1] False tanh 64 0.01 0.99 2500 , Result:  77856.46115034998\n",
      "Params:  [1, 5, 5, 1] False tanh 64 0.1 0.5 2500 , Result:  107535.86786835472\n",
      "Params:  [1, 5, 5, 1] False tanh 64 0.1 0.75 2500 , Result:  108032.88899143951\n",
      "Params:  [1, 5, 5, 1] False tanh 64 0.1 0.9 2500 , Result:  97979.24781096987\n",
      "Params:  [1, 5, 5, 1] False tanh 64 0.1 0.99 2500 , Result:  132970.63936250182\n",
      "Trainset: data.cube.train.500\n",
      "Params:  [1, 5, 5, 1] False tanh 64 0.0001 0.5 2500 , Result:  95336.99287460474\n",
      "Params:  [1, 5, 5, 1] False tanh 64 0.0001 0.75 2500 , Result:  95338.43844579745\n",
      "Params:  [1, 5, 5, 1] False tanh 64 0.0001 0.9 2500 , Result:  95342.71395081872\n",
      "Params:  [1, 5, 5, 1] False tanh 64 0.0001 0.99 2500 , Result:  95407.81712152701\n",
      "Params:  [1, 5, 5, 1] False tanh 64 0.001 0.5 2500 , Result:  77030.9111682104\n",
      "Params:  [1, 5, 5, 1] False tanh 64 0.001 0.75 2500 , Result:  77037.27300206802\n",
      "Params:  [1, 5, 5, 1] False tanh 64 0.001 0.9 2500 , Result:  77227.19442214897\n",
      "Params:  [1, 5, 5, 1] False tanh 64 0.001 0.99 2500 , Result:  77041.70922149539\n",
      "Params:  [1, 5, 5, 1] False tanh 64 0.01 0.5 2500 , Result:  85640.66052206808\n",
      "Params:  [1, 5, 5, 1] False tanh 64 0.01 0.75 2500 , Result:  86133.26732819894\n",
      "Params:  [1, 5, 5, 1] False tanh 64 0.01 0.9 2500 , Result:  73633.2931267924\n",
      "Params:  [1, 5, 5, 1] False tanh 64 0.01 0.99 2500 , Result:  74955.70256614835\n",
      "Params:  [1, 5, 5, 1] False tanh 64 0.1 0.5 2500 , Result:  133999.86516479644\n",
      "Params:  [1, 5, 5, 1] False tanh 64 0.1 0.75 2500 , Result:  120835.34283543692\n",
      "Params:  [1, 5, 5, 1] False tanh 64 0.1 0.9 2500 , Result:  132548.45183448333\n",
      "Params:  [1, 5, 5, 1] False tanh 64 0.1 0.99 2500 , Result:  85135.01894823433\n"
     ]
    }
   ],
   "source": [
    "reg_filenames = [['data.activation.train.100','data.activation.test.100'],\n",
    "                 ['data.activation.train.500','data.activation.test.500'],\n",
    "                 ['data.cube.train.100','data.cube.test.100'],\n",
    "                ['data.cube.train.500','data.cube.test.500'],]\n",
    "\n",
    "for names in reg_filenames:\n",
    "    print(\"Trainset: \" + names[0])\n",
    "    train = pd.read_csv(\"./data_analysis/projekt1/regression/\" + names [0] + \".csv\")\n",
    "    test = pd.read_csv(\"./data_analysis/projekt1/regression/\" + names [1] + \".csv\")\n",
    "\n",
    "    std_batch_size = [64]\n",
    "    std_layer_size = [[1,5,5,1]]\n",
    "    std_learning_rate = [0.0001,0.001,0.01,0.1]\n",
    "    std_momentum = [0.5,0.75,0.9,0.99]\n",
    "    std_epochs =[2500]\n",
    "\n",
    "    disable_bias = [False]\n",
    "    activations = ['tanh']\n",
    "    verbose = [False]\n",
    "    grid_search(itertools.product(std_layer_size,disable_bias,activations,std_batch_size,std_learning_rate,std_momentum,std_epochs,verbose), \"regression\", train,test)"
   ]
  },
  {
   "cell_type": "code",
   "execution_count": 219,
   "metadata": {},
   "outputs": [],
   "source": [
    "def grid_search(params, tasktype, train, test):\n",
    "    if tasktype == \"regression\":\n",
    "        loss = \"MSE\"\n",
    "        lastactivation = \"linear\"\n",
    "        X = train.x.values.reshape(-1, 1)\n",
    "        Y = train.y.values.reshape(-1, 1)\n",
    "        Xtest = test.x.values.reshape(-1, 1)\n",
    "        Ytest = test.y.values.reshape(-1, 1)\n",
    "        X_scaler = StandardScaler()\n",
    "        X_scaled = X_scaler.fit_transform(X).reshape(-1, 1)\n",
    "        Xtest_scaled = X_scaler.transform(Xtest).reshape(-1, 1)\n",
    "    if tasktype == \"classification\":\n",
    "        loss = \"binary_crossentropy\"\n",
    "        lastactivation = \"sigmoid\"\n",
    "        X = train[['x', 'y']].values.T\n",
    "        Y = train.cls.values.reshape(1,- 1) == 1\n",
    "        Xtest = test[['x', 'y']].values.T\n",
    "        Ytest = test.cls.values.reshape(1, -1) == 1\n",
    "        X_scaler = StandardScaler()\n",
    "        X_scaled = X_scaler.fit_transform(X)\n",
    "        Xtest_scaled = X_scaler.transform(Xtest)\n",
    "    if tasktype == \"multi\":\n",
    "        loss = \"categorical_crossentropy\"\n",
    "        lastactivation = \"sigmoid\"\n",
    "        X = train.x.values.reshape(-1, 1)\n",
    "        Y = train.y.values.reshape(-1, 1)\n",
    "        Xtest = test.x.values.reshape(-1, 1)\n",
    "        Ytest = test.y.values.reshape(-1, 1)\n",
    "\n",
    "    for tab in params:\n",
    "        layersizes = tab[0]\n",
    "        bias = tab[1]\n",
    "        activation =  tab[2]\n",
    "        batch = tab[3]\n",
    "        learning_rate = tab[4]\n",
    "        momentum = tab[5]\n",
    "        epochs = tab[6]\n",
    "        verbose = tab[7]\n",
    "        nn_builder = nn.SequentialBuilder()\n",
    "        for layersize in layersizes[:-1]:\n",
    "            nn_builder.add_dense(layersize, activation)\n",
    "        nn_builder.add_dense(1, lastactivation)\n",
    "        model = nn_builder.compile(loss, disable_bias = bias)\n",
    "        #for i in range(0,5):\n",
    "        #print(Y)\n",
    "        \n",
    "        \n",
    "        if tasktype == \"regression\":\n",
    "            parameters, costs = model.fit(X_scaled, Y, \n",
    "                                      num_epochs=epochs, \n",
    "                                      learning_rate = learning_rate, \n",
    "                                      momentum = momentum, \n",
    "                                      mini_batch_size = batch,\n",
    "                                      verbose = verbose)\n",
    "            Ypred  = model.predict(Xtest_scaled.T)\n",
    "            mse= nn_utils.quadratic_cost(Ypred.T, Ytest, len(Ytest))\n",
    "            print ('Params: ',layersizes, bias,activation,batch,learning_rate,momentum,epochs,', Result: ',mse)\n",
    "\n",
    "        if tasktype == \"classification\":\n",
    "            parameters, costs = model.fit(X_scaled, (Y == 1), \n",
    "                                      num_epochs=epochs, \n",
    "                                      learning_rate = learning_rate, \n",
    "                                      momentum = momentum, \n",
    "                                      mini_batch_size = batch,\n",
    "                                      verbose = verbose)\n",
    "            Ypred  = model.predict_classes(Xtest_scaled)\n",
    "            acc= accuracy_score(Ypred.T, Ytest.T)\n",
    "            #print(Ypred)\n",
    "            print ('Params: ',layersizes, bias,activation,batch,learning_rate,momentum,epochs,', Accuracy: ',acc)\n",
    "\n",
    "\n",
    "    return Ypred"
   ]
  },
  {
   "cell_type": "code",
   "execution_count": 222,
   "metadata": {
    "scrolled": true
   },
   "outputs": [
    {
     "name": "stdout",
     "output_type": "stream",
     "text": [
      "Trainset: data.simple.train.1000\n",
      "Params:  [2, 3, 1] False tanh 64 0.01 0.9 2500 , Accuracy:  0.748\n",
      "Params:  [2, 2, 2, 1] False tanh 64 0.01 0.9 2500 , Accuracy:  0.36\n",
      "Params:  [2, 3, 3, 1] False tanh 64 0.01 0.9 2500 , Accuracy:  0.643\n",
      "Params:  [2, 4, 4, 1] False tanh 64 0.01 0.9 2500 , Accuracy:  0.549\n",
      "Params:  [2, 5, 5, 1] False tanh 64 0.01 0.9 2500 , Accuracy:  0.75\n",
      "Params:  [2, 10, 6, 4, 1] False tanh 64 0.01 0.9 2500 , Accuracy:  0.312\n"
     ]
    }
   ],
   "source": [
    "reg_filenames = [['data.simple.train.100','data.simple.test.100'],\n",
    "                 ['data.simple.train.500','data.simple.test.500']]\n",
    "reg_filenames = [['data.simple.train.1000','data.simple.test.1000']]\n",
    "\n",
    "for names in reg_filenames:\n",
    "    print(\"Trainset: \" + names[0])\n",
    "    train = pd.read_csv(\"./data_analysis/projekt1/classification/\" + names [0] + \".csv\")\n",
    "    test = pd.read_csv(\"./data_analysis/projekt1/classification/\" + names [1] + \".csv\")\n",
    "    \n",
    "    std_batch_size = [64]\n",
    "    std_layer_size = [[2,3,1],[2,2,2,1],[2,3,3,1],[2,4,4,1],[2,5,5,1],[2,10,6,4,1] ]\n",
    "    std_learning_rate = [0.01]\n",
    "    std_momentum = [0.9]\n",
    "    std_epochs =[2500]\n",
    "\n",
    "    disable_bias = [False]\n",
    "    activations = ['tanh']\n",
    "    verbose = [False]\n",
    "    grid_search(itertools.product(std_layer_size,disable_bias,activations,std_batch_size,std_learning_rate,std_momentum,std_epochs,verbose), \"classification\", train,test)"
   ]
  },
  {
   "cell_type": "code",
   "execution_count": 223,
   "metadata": {},
   "outputs": [
    {
     "name": "stdout",
     "output_type": "stream",
     "text": [
      "Trainset: data.simple.train.100\n",
      "Params:  [2, 5, 5, 1] False tanh 64 0.01 0.9 2500 , Accuracy:  0.79\n",
      "Params:  [2, 5, 5, 1] False sigmoid 64 0.01 0.9 2500 , Accuracy:  0.67\n",
      "Params:  [2, 5, 5, 1] False relu 64 0.01 0.9 2500 , Accuracy:  0.71\n",
      "Params:  [2, 5, 5, 1] False linear 64 0.01 0.9 2500 , Accuracy:  0.8\n",
      "Trainset: data.simple.train.500\n",
      "Params:  [2, 5, 5, 1] False tanh 64 0.01 0.9 2500 , Accuracy:  0.752\n"
     ]
    },
    {
     "name": "stderr",
     "output_type": "stream",
     "text": [
      "C:\\Users\\kosma\\Desktop\\MGU\\NNVisualiser\\deep_nn\\deep_nn_utils.py:16: RuntimeWarning: overflow encountered in exp\n",
      "  A = 1/(1+np.exp(-Z))\n"
     ]
    },
    {
     "name": "stdout",
     "output_type": "stream",
     "text": [
      "Params:  [2, 5, 5, 1] False sigmoid 64 0.01 0.9 2500 , Accuracy:  0.69\n",
      "Params:  [2, 5, 5, 1] False relu 64 0.01 0.9 2500 , Accuracy:  0.504\n",
      "Params:  [2, 5, 5, 1] False linear 64 0.01 0.9 2500 , Accuracy:  0.76\n",
      "Trainset: data.simple.train.1000\n",
      "Params:  [2, 5, 5, 1] False tanh 64 0.01 0.9 2500 , Accuracy:  0.75\n"
     ]
    },
    {
     "name": "stderr",
     "output_type": "stream",
     "text": [
      "C:\\Users\\kosma\\Desktop\\MGU\\NNVisualiser\\deep_nn\\deep_nn_utils.py:16: RuntimeWarning: overflow encountered in exp\n",
      "  A = 1/(1+np.exp(-Z))\n"
     ]
    },
    {
     "name": "stdout",
     "output_type": "stream",
     "text": [
      "Params:  [2, 5, 5, 1] False sigmoid 64 0.01 0.9 2500 , Accuracy:  0.703\n",
      "Params:  [2, 5, 5, 1] False relu 64 0.01 0.9 2500 , Accuracy:  0.522\n",
      "Params:  [2, 5, 5, 1] False linear 64 0.01 0.9 2500 , Accuracy:  0.749\n"
     ]
    }
   ],
   "source": [
    "reg_filenames = [['data.simple.train.100','data.simple.test.100'],\n",
    "                 ['data.simple.train.500','data.simple.test.500'],\n",
    "                ['data.simple.train.1000','data.simple.test.1000']]\n",
    "\n",
    "for names in reg_filenames:\n",
    "    print(\"Trainset: \" + names[0])\n",
    "    train = pd.read_csv(\"./data_analysis/projekt1/classification/\" + names [0] + \".csv\")\n",
    "    test = pd.read_csv(\"./data_analysis/projekt1/classification/\" + names [1] + \".csv\")\n",
    "    \n",
    "    std_batch_size = [64]\n",
    "    std_layer_size = [[2,5,5,1] ]\n",
    "    std_learning_rate = [0.01]\n",
    "    std_momentum = [0.9]\n",
    "    std_epochs =[2500]\n",
    "\n",
    "    disable_bias = [False]\n",
    "    activations = ['tanh','sigmoid','relu','linear']\n",
    "    verbose = [False]\n",
    "    grid_search(itertools.product(std_layer_size,disable_bias,activations,std_batch_size,std_learning_rate,std_momentum,std_epochs,verbose), \"classification\", train,test)"
   ]
  },
  {
   "cell_type": "code",
   "execution_count": null,
   "metadata": {},
   "outputs": [],
   "source": [
    "nn_builder = nn.SequentialBuilder()\n",
    "nn_builder.add_dense(2, 'relu')\n",
    "nn_builder.add_dense(2, 'relu')\n",
    "nn_builder.add_dense(1, 'linear')\n",
    "model = nn_builder.compile('binary_crossentropy')"
   ]
  },
  {
   "cell_type": "code",
   "execution_count": 4,
   "metadata": {},
   "outputs": [
    {
     "name": "stdout",
     "output_type": "stream",
     "text": [
      "(2, 100)\n",
      "(1, 100)\n"
     ]
    }
   ],
   "source": [
    "X = train[['x', 'y']].values.T\n",
    "print(X.shape)\n",
    "Y = train.cls.values.reshape(1, len(train))\n",
    "print(Y.shape)"
   ]
  },
  {
   "cell_type": "code",
   "execution_count": null,
   "metadata": {},
   "outputs": [],
   "source": []
  },
  {
   "cell_type": "code",
   "execution_count": 61,
   "metadata": {},
   "outputs": [
    {
     "data": {
      "image/png": "[encoded data removed]",
      "text/plain": [
       "<Figure size 432x288 with 1 Axes>"
      ]
     },
     "metadata": {
      "needs_background": "light"
     },
     "output_type": "display_data"
    }
   ],
   "source": [
    "Ypred  = model.predict(X_scaled.T)\n",
    "\n",
    "plt.autoscale(enable=True, axis='both', tight=None)\n",
    "plt.scatter(X_scaled, Y)\n",
    "plt.scatter(X_scaled, Ypred)\n",
    "plt.show()"
   ]
  },
  {
   "cell_type": "code",
   "execution_count": 140,
   "metadata": {},
   "outputs": [
    {
     "data": {
      "text/plain": [
       "array([[ 0.49616271],\n",
       "       [-0.57404316],\n",
       "       [-0.14980262],\n",
       "       [ 0.24758488],\n",
       "       [ 0.53377397],\n",
       "       [-0.7367855 ],\n",
       "       [-0.43017896],\n",
       "       [-0.34301446],\n",
       "       [-0.12891826],\n",
       "       [ 0.45988313],\n",
       "       [-0.89425171],\n",
       "       [ 0.65709599],\n",
       "       [-0.24273685],\n",
       "       [ 0.02551759],\n",
       "       [-0.65843514],\n",
       "       [ 0.77295115],\n",
       "       [-0.35876032],\n",
       "       [ 0.85724194],\n",
       "       [-0.33779789],\n",
       "       [-0.79349688],\n",
       "       [ 0.73562282],\n",
       "       [ 0.82273388],\n",
       "       [ 0.4215032 ],\n",
       "       [-0.64933155],\n",
       "       [ 0.13613615],\n",
       "       [ 0.32397505],\n",
       "       [ 0.27505891],\n",
       "       [ 0.2035311 ],\n",
       "       [-0.89260759],\n",
       "       [ 0.11737458],\n",
       "       [ 0.19133348],\n",
       "       [ 0.1266101 ],\n",
       "       [-0.89196893],\n",
       "       [-0.50444334],\n",
       "       [ 0.21839222],\n",
       "       [-0.27099156],\n",
       "       [ 0.4440003 ],\n",
       "       [-0.94376019],\n",
       "       [-0.08000508],\n",
       "       [-0.18607028],\n",
       "       [-0.48921155],\n",
       "       [-0.36084623],\n",
       "       [-0.74465746],\n",
       "       [-0.94057965],\n",
       "       [ 0.67880608],\n",
       "       [-0.98568218],\n",
       "       [ 0.39186232],\n",
       "       [ 0.07738605],\n",
       "       [-0.81318736],\n",
       "       [ 0.2746296 ],\n",
       "       [ 0.51764053],\n",
       "       [ 0.59707548],\n",
       "       [ 0.13253213],\n",
       "       [-0.11881255],\n",
       "       [-0.73994589],\n",
       "       [ 0.73867825],\n",
       "       [-0.39575955],\n",
       "       [-0.11708687],\n",
       "       [-0.16948297],\n",
       "       [-0.08778759],\n",
       "       [ 0.39403039],\n",
       "       [ 0.94254196],\n",
       "       [ 0.62874728],\n",
       "       [-0.15079804],\n",
       "       [-0.77131428],\n",
       "       [-0.34682248],\n",
       "       [ 0.03555129],\n",
       "       [ 0.99831595],\n",
       "       [-0.44728332],\n",
       "       [ 0.79963146],\n",
       "       [-0.5691562 ],\n",
       "       [-0.61347263],\n",
       "       [-0.69033862],\n",
       "       [ 0.90277847],\n",
       "       [ 0.60537521],\n",
       "       [-0.36045916],\n",
       "       [-0.7994478 ],\n",
       "       [ 0.92469835],\n",
       "       [ 0.68120227],\n",
       "       [ 0.07023681],\n",
       "       [-0.81425352],\n",
       "       [ 0.42601958],\n",
       "       [-0.90487881],\n",
       "       [-0.84696286],\n",
       "       [ 0.30403919],\n",
       "       [-0.21450297],\n",
       "       [ 0.38418035],\n",
       "       [ 0.54484448],\n",
       "       [ 0.48938409],\n",
       "       [-0.63932399],\n",
       "       [-0.79512837],\n",
       "       [-0.41153261],\n",
       "       [ 0.21628272],\n",
       "       [ 0.71425078],\n",
       "       [-0.16810782],\n",
       "       [ 0.17962503],\n",
       "       [ 0.8488147 ],\n",
       "       [-0.37854956],\n",
       "       [-0.71793099],\n",
       "       [ 0.83639404],\n",
       "       [ 0.54131495],\n",
       "       [ 0.2705759 ],\n",
       "       [-0.6491249 ],\n",
       "       [-0.23097864],\n",
       "       [-0.91473715],\n",
       "       [-0.06725458],\n",
       "       [-0.34946672],\n",
       "       [-0.44929303],\n",
       "       [-0.5432083 ],\n",
       "       [-0.93630068],\n",
       "       [ 0.42368227],\n",
       "       [ 0.20155467],\n",
       "       [-0.69467861],\n",
       "       [ 0.05466361],\n",
       "       [ 0.82101442],\n",
       "       [-0.43333228],\n",
       "       [ 0.58721956],\n",
       "       [ 0.3303695 ],\n",
       "       [ 0.83972645],\n",
       "       [ 0.57945915],\n",
       "       [-0.1894477 ],\n",
       "       [-0.39389296],\n",
       "       [-0.36912526],\n",
       "       [-0.5707939 ],\n",
       "       [ 0.92114901],\n",
       "       [ 0.45514131],\n",
       "       [ 0.65712681],\n",
       "       [ 0.80127912],\n",
       "       [-0.88337248],\n",
       "       [-0.99103597],\n",
       "       [-0.40896563],\n",
       "       [ 0.35853403],\n",
       "       [-0.41619165],\n",
       "       [ 0.39371222],\n",
       "       [-0.02937206],\n",
       "       [-0.75933585],\n",
       "       [-0.89241173],\n",
       "       [-0.63158855],\n",
       "       [-0.40467626],\n",
       "       [-0.62077342],\n",
       "       [ 0.05719709],\n",
       "       [-0.82397065],\n",
       "       [-0.77406098],\n",
       "       [-0.87935501],\n",
       "       [ 0.38811529],\n",
       "       [ 0.63023211],\n",
       "       [-0.39987956],\n",
       "       [-0.046346  ],\n",
       "       [ 0.90846255],\n",
       "       [-0.99923847],\n",
       "       [ 0.52256314],\n",
       "       [ 0.89952559],\n",
       "       [-0.97882024],\n",
       "       [-0.70857652],\n",
       "       [ 0.96158619],\n",
       "       [ 0.20227754],\n",
       "       [ 0.68407918],\n",
       "       [ 0.14828222],\n",
       "       [-0.55907794],\n",
       "       [ 0.27785283],\n",
       "       [ 0.09562644],\n",
       "       [-0.71405653],\n",
       "       [-0.4341091 ],\n",
       "       [-0.43537497],\n",
       "       [ 0.087969  ],\n",
       "       [-0.0499904 ],\n",
       "       [ 0.05254492],\n",
       "       [-0.20838774],\n",
       "       [-0.89350437],\n",
       "       [ 0.37318421],\n",
       "       [-0.48303173],\n",
       "       [-0.19162711],\n",
       "       [ 0.93144225],\n",
       "       [-0.98953053],\n",
       "       [ 0.88240097],\n",
       "       [-0.11353088],\n",
       "       [-0.67314816],\n",
       "       [-0.57013458],\n",
       "       [-0.59457172],\n",
       "       [ 0.59760273],\n",
       "       [ 0.26708489],\n",
       "       [-0.28182807],\n",
       "       [ 0.73807967],\n",
       "       [ 0.58962596],\n",
       "       [ 0.76606147],\n",
       "       [ 0.17571006],\n",
       "       [-0.92275885],\n",
       "       [-0.94320175],\n",
       "       [-0.66976107],\n",
       "       [-0.34964668],\n",
       "       [-0.68964644],\n",
       "       [ 0.18722029],\n",
       "       [ 0.81765311],\n",
       "       [ 0.65157788],\n",
       "       [ 0.40445192],\n",
       "       [-0.31931764],\n",
       "       [ 0.31266986],\n",
       "       [-0.22666671],\n",
       "       [ 0.90325079],\n",
       "       [ 0.4374284 ],\n",
       "       [-0.86926454],\n",
       "       [ 0.18377754],\n",
       "       [-0.1810175 ],\n",
       "       [-0.1249356 ],\n",
       "       [ 0.17197572],\n",
       "       [-0.61272563],\n",
       "       [-0.3535133 ],\n",
       "       [ 0.85943712],\n",
       "       [-0.09975387],\n",
       "       [-0.7516575 ],\n",
       "       [-0.97912336],\n",
       "       [-0.72994077],\n",
       "       [-0.57710501],\n",
       "       [ 0.44433862],\n",
       "       [ 0.58877823],\n",
       "       [-0.12414384],\n",
       "       [ 0.07285208],\n",
       "       [ 0.77995751],\n",
       "       [ 0.41981793],\n",
       "       [-0.81050257],\n",
       "       [ 0.71930782],\n",
       "       [-0.22261378],\n",
       "       [ 0.93342962],\n",
       "       [-0.38606572],\n",
       "       [-0.76797501],\n",
       "       [ 0.67910435],\n",
       "       [-0.0840695 ],\n",
       "       [ 0.42549342],\n",
       "       [-0.75419579],\n",
       "       [-0.48028705],\n",
       "       [ 0.67344557],\n",
       "       [ 0.53125112],\n",
       "       [-0.17984024],\n",
       "       [-0.42501703],\n",
       "       [-0.6493632 ],\n",
       "       [-0.97739504],\n",
       "       [ 0.9841369 ],\n",
       "       [ 0.44230607],\n",
       "       [-0.86392603],\n",
       "       [-0.90880052],\n",
       "       [-0.36303339],\n",
       "       [-0.18836234],\n",
       "       [ 0.8338424 ],\n",
       "       [ 0.10072217],\n",
       "       [-0.99146503],\n",
       "       [ 0.93676241],\n",
       "       [ 0.84229076],\n",
       "       [ 0.91946027],\n",
       "       [-0.1042953 ],\n",
       "       [ 0.1469657 ],\n",
       "       [-0.89229506],\n",
       "       [-0.98366988],\n",
       "       [-0.81833885],\n",
       "       [-0.29912114],\n",
       "       [-0.40098221],\n",
       "       [ 0.87865848],\n",
       "       [ 0.60131242],\n",
       "       [-0.62150066],\n",
       "       [ 0.65437022],\n",
       "       [-0.48625839],\n",
       "       [ 0.2662609 ],\n",
       "       [-0.71571419],\n",
       "       [-0.62400498],\n",
       "       [ 0.50700533],\n",
       "       [ 0.16643063],\n",
       "       [-0.66068988],\n",
       "       [ 0.81098961],\n",
       "       [-0.78539141],\n",
       "       [-0.00953313],\n",
       "       [-0.3892004 ],\n",
       "       [-0.81629512],\n",
       "       [-0.26746322],\n",
       "       [ 0.72329545],\n",
       "       [-0.1298607 ],\n",
       "       [ 0.54853364],\n",
       "       [ 0.05342793],\n",
       "       [-0.12536069],\n",
       "       [ 0.82326352],\n",
       "       [ 0.86593947],\n",
       "       [-0.38286289],\n",
       "       [ 0.0305247 ],\n",
       "       [ 0.1558954 ],\n",
       "       [ 0.49746944],\n",
       "       [-0.1198463 ],\n",
       "       [ 0.8085235 ],\n",
       "       [ 0.4294619 ],\n",
       "       [-0.65825316],\n",
       "       [-0.8334064 ],\n",
       "       [ 0.46455483],\n",
       "       [-0.32951568],\n",
       "       [ 0.61963782],\n",
       "       [ 0.55527064],\n",
       "       [-0.29890054],\n",
       "       [ 0.03955403],\n",
       "       [-0.48012313],\n",
       "       [ 0.85494732],\n",
       "       [ 0.58657164],\n",
       "       [-0.99090124],\n",
       "       [-0.38176781],\n",
       "       [-0.31248644],\n",
       "       [-0.72112975],\n",
       "       [ 0.7204479 ],\n",
       "       [-0.88723934],\n",
       "       [-0.69764913],\n",
       "       [ 0.35306352],\n",
       "       [-0.86401515],\n",
       "       [ 0.20378929],\n",
       "       [ 0.00777272],\n",
       "       [ 0.40008477],\n",
       "       [ 0.82263129],\n",
       "       [ 0.34213793],\n",
       "       [-0.10003425],\n",
       "       [-0.7024405 ],\n",
       "       [ 0.67601378],\n",
       "       [-0.2190553 ],\n",
       "       [ 0.996813  ],\n",
       "       [-0.28075064],\n",
       "       [-0.77718505],\n",
       "       [ 0.79540405],\n",
       "       [ 0.23158871],\n",
       "       [ 0.36372307],\n",
       "       [ 0.24053477],\n",
       "       [ 0.11062729],\n",
       "       [ 0.52419649],\n",
       "       [-0.43571151],\n",
       "       [ 0.85703172],\n",
       "       [ 0.6998106 ],\n",
       "       [-0.76301244],\n",
       "       [ 0.92540025],\n",
       "       [ 0.18743949],\n",
       "       [-0.27594949],\n",
       "       [ 0.10358006],\n",
       "       [ 0.68416044],\n",
       "       [-0.62265819],\n",
       "       [-0.84289581],\n",
       "       [-0.30254829],\n",
       "       [-0.14572715],\n",
       "       [-0.26010862],\n",
       "       [ 0.98535729],\n",
       "       [-0.23429248],\n",
       "       [-0.82109616],\n",
       "       [ 0.46545748],\n",
       "       [ 0.6034842 ],\n",
       "       [-0.77800273],\n",
       "       [-0.14081666],\n",
       "       [-0.42380349],\n",
       "       [ 0.86947368],\n",
       "       [-0.69082341],\n",
       "       [-0.07079033],\n",
       "       [-0.638267  ],\n",
       "       [-0.32713196],\n",
       "       [-0.09833293],\n",
       "       [ 0.17115235],\n",
       "       [-0.51678058],\n",
       "       [ 0.16063697],\n",
       "       [-0.02341678],\n",
       "       [ 0.6907627 ],\n",
       "       [ 0.24616931],\n",
       "       [ 0.59172517],\n",
       "       [-0.45107808],\n",
       "       [-0.38544671],\n",
       "       [-0.67367422],\n",
       "       [ 0.16568843],\n",
       "       [ 0.2638266 ],\n",
       "       [ 0.5184487 ],\n",
       "       [ 0.76344635],\n",
       "       [-0.65365582],\n",
       "       [ 0.10067144],\n",
       "       [ 0.7242442 ],\n",
       "       [-0.59002582],\n",
       "       [-0.57581909],\n",
       "       [ 0.62316329],\n",
       "       [-0.46455181],\n",
       "       [ 0.9396034 ],\n",
       "       [-0.00492248],\n",
       "       [-0.0473824 ],\n",
       "       [ 0.5281402 ],\n",
       "       [-0.89430234],\n",
       "       [-0.32512036],\n",
       "       [-0.21283881],\n",
       "       [ 0.40817639],\n",
       "       [-0.7734655 ],\n",
       "       [-0.44273831],\n",
       "       [ 0.56691568],\n",
       "       [-0.17104269],\n",
       "       [ 0.40302707],\n",
       "       [ 0.68671923],\n",
       "       [-0.27868582],\n",
       "       [-0.8418949 ],\n",
       "       [-0.75400564],\n",
       "       [-0.62812842],\n",
       "       [-0.15063742],\n",
       "       [-0.18753045],\n",
       "       [ 0.19117428],\n",
       "       [ 0.405155  ],\n",
       "       [-0.67694967],\n",
       "       [-0.53642765],\n",
       "       [ 0.87272121],\n",
       "       [-0.15425008],\n",
       "       [-0.81116324],\n",
       "       [ 0.17282158],\n",
       "       [ 0.81860427],\n",
       "       [ 0.75496693],\n",
       "       [-0.02348538],\n",
       "       [-0.1652203 ],\n",
       "       [-0.35802508],\n",
       "       [-0.59671118],\n",
       "       [ 0.83696119],\n",
       "       [-0.16062723],\n",
       "       [ 0.91138705],\n",
       "       [-0.58094712],\n",
       "       [ 0.14114917],\n",
       "       [ 0.91738827],\n",
       "       [ 0.66177878],\n",
       "       [ 0.19135934],\n",
       "       [-0.07642687],\n",
       "       [-0.5656085 ],\n",
       "       [-0.28769877],\n",
       "       [ 0.16330534],\n",
       "       [-0.68734268],\n",
       "       [ 0.89821415],\n",
       "       [-0.49230333],\n",
       "       [ 0.1187223 ],\n",
       "       [-0.31102438],\n",
       "       [-0.70936481],\n",
       "       [-0.11231472],\n",
       "       [ 0.24759329],\n",
       "       [ 0.89994895],\n",
       "       [ 0.33643967],\n",
       "       [ 0.13849123],\n",
       "       [ 0.5031343 ],\n",
       "       [-0.59887313],\n",
       "       [ 0.52952125],\n",
       "       [-0.15769459],\n",
       "       [-0.50257056],\n",
       "       [ 0.94384566],\n",
       "       [-0.98602081],\n",
       "       [ 0.58556835],\n",
       "       [ 0.42695109],\n",
       "       [ 0.08679832],\n",
       "       [-0.40744403],\n",
       "       [-0.85406211],\n",
       "       [ 0.32562654],\n",
       "       [-0.29776043],\n",
       "       [ 0.19471845],\n",
       "       [ 0.28434583],\n",
       "       [ 0.96565038],\n",
       "       [-0.4116904 ],\n",
       "       [-0.47640603],\n",
       "       [ 0.30590344],\n",
       "       [ 0.54845928],\n",
       "       [ 0.90802367],\n",
       "       [-0.1246698 ],\n",
       "       [ 0.38104588],\n",
       "       [ 0.99093515],\n",
       "       [ 0.09826184],\n",
       "       [ 0.57372254],\n",
       "       [ 0.36266805],\n",
       "       [ 0.36402011],\n",
       "       [-0.65446516],\n",
       "       [ 0.93285452],\n",
       "       [ 0.92528459],\n",
       "       [ 0.8480902 ],\n",
       "       [ 0.14018442],\n",
       "       [ 0.10280209],\n",
       "       [ 0.08476971],\n",
       "       [-0.04124345],\n",
       "       [-0.58901101],\n",
       "       [-0.57419067],\n",
       "       [-0.91053877],\n",
       "       [ 0.24359624],\n",
       "       [-0.46850842],\n",
       "       [-0.88819353],\n",
       "       [ 0.88177107],\n",
       "       [ 0.04301733],\n",
       "       [ 0.06339844],\n",
       "       [ 0.02625604],\n",
       "       [-0.03995848],\n",
       "       [ 0.04373573],\n",
       "       [-0.5908974 ],\n",
       "       [ 0.33077761],\n",
       "       [-0.54155169],\n",
       "       [ 0.88224439],\n",
       "       [ 0.07253543],\n",
       "       [-0.52251493],\n",
       "       [ 0.94402003],\n",
       "       [ 0.40911479],\n",
       "       [-0.72486567],\n",
       "       [-0.69339982],\n",
       "       [-0.76080214],\n",
       "       [ 0.90318202],\n",
       "       [ 0.81329278],\n",
       "       [ 0.39211927],\n",
       "       [ 0.91274003],\n",
       "       [ 0.16603342],\n",
       "       [ 0.49947857],\n",
       "       [ 0.81181037],\n",
       "       [ 0.32898918],\n",
       "       [ 0.4111112 ],\n",
       "       [ 0.05081257]])"
      ]
     },
     "execution_count": 140,
     "metadata": {},
     "output_type": "execute_result"
    }
   ],
   "source": [
    "Ytest"
   ]
  },
  {
   "cell_type": "code",
   "execution_count": 139,
   "metadata": {},
   "outputs": [
    {
     "data": {
      "image/png": "[encoded data removed]",
      "text/plain": [
       "<Figure size 432x288 with 1 Axes>"
      ]
     },
     "metadata": {
      "needs_background": "light"
     },
     "output_type": "display_data"
    }
   ],
   "source": [
    "X = train.x.values.reshape(-1, 1)\n",
    "Y = train.y.values.reshape(-1, 1)\n",
    "Xtest = test.x.values.reshape(-1, 1)\n",
    "Ytest = test.y.values.reshape(-1, 1)\n",
    "X_scaler = StandardScaler()\n",
    "X_scaled = X_scaler.fit_transform(X).reshape(-1, 1)\n",
    "Xtest_scaled = X_scaler.transform(Xtest).reshape(-1, 1)\n",
    "\n",
    "plt.autoscale(enable=True, axis='both', tight=None)\n",
    "plt.scatter(Xtest_scaled, Ytest)\n",
    "plt.scatter(Xtest_scaled, Ypred)\n",
    "plt.show()"
   ]
  },
  {
   "cell_type": "code",
   "execution_count": 5,
   "metadata": {},
   "outputs": [
    {
     "data": {
      "text/plain": [
       "array([[ True, False,  True,  True,  True,  True, False,  True, False,\n",
       "         True, False,  True,  True,  True, False, False, False,  True,\n",
       "         True,  True,  True,  True,  True,  True,  True,  True, False,\n",
       "        False, False,  True,  True, False,  True,  True,  True, False,\n",
       "        False,  True, False, False, False,  True,  True,  True, False,\n",
       "        False, False,  True,  True, False, False,  True,  True, False,\n",
       "         True, False,  True, False, False, False, False,  True, False,\n",
       "        False,  True,  True, False,  True,  True,  True, False, False,\n",
       "         True, False,  True,  True, False,  True, False,  True,  True,\n",
       "        False, False, False, False, False,  True,  True, False, False,\n",
       "         True, False,  True,  True, False,  True, False, False, False,\n",
       "         True]])"
      ]
     },
     "execution_count": 5,
     "metadata": {},
     "output_type": "execute_result"
    }
   ],
   "source": [
    "Y == 1"
   ]
  },
  {
   "cell_type": "code",
   "execution_count": 6,
   "metadata": {},
   "outputs": [],
   "source": [
    "nn_builder = nn.SequentialBuilder()\n",
    "nn_builder.add_dense(2, 'relu')\n",
    "nn_builder.add_dense(50, 'relu')\n",
    "nn_builder.add_dense(1, 'sigmoid')\n",
    "model = nn_builder.compile('binary_crossentropy')"
   ]
  },
  {
   "cell_type": "code",
   "execution_count": 7,
   "metadata": {},
   "outputs": [
    {
     "name": "stdout",
     "output_type": "stream",
     "text": [
      "Cost after epoch 0: 0.544278\n",
      "Cost after epoch 1000: 0.084471\n",
      "Cost after epoch 2000: 0.057180\n",
      "Cost after epoch 3000: 0.088028\n",
      "Cost after epoch 4000: 0.037759\n",
      "Cost after epoch 5000: 0.074274\n",
      "Cost after epoch 6000: 0.039121\n",
      "Cost after epoch 7000: 0.037332\n",
      "Cost after epoch 8000: 0.035601\n",
      "Cost after epoch 9000: 0.018093\n"
     ]
    }
   ],
   "source": [
    "parameters, costs = model.fit(X, Y == 1, num_epochs=10000)"
   ]
  },
  {
   "cell_type": "code",
   "execution_count": 8,
   "metadata": {},
   "outputs": [
    {
     "data": {
      "image/png": "[encoded data removed]",
      "text/plain": [
       "<Figure size 432x288 with 1 Axes>"
      ]
     },
     "metadata": {
      "needs_background": "light"
     },
     "output_type": "display_data"
    }
   ],
   "source": [
    "x0, y0 = X[:, (Y == 1)[0]]\n",
    "plt.scatter(x0, y0, c='red')\n",
    "x1, y1 = X[:, (Y == 2)[0]]\n",
    "plt.scatter(x1, y1, c='blue')\n",
    "plt.show()"
   ]
  },
  {
   "cell_type": "code",
   "execution_count": 9,
   "metadata": {},
   "outputs": [],
   "source": [
    "def plot_decision_boundary(model, X, y):\n",
    "    # Set min and max values and give it some padding\n",
    "    x_min, x_max = X[0, :].min() - 1, X[0, :].max() + 1\n",
    "    y_min, y_max = X[1, :].min() - 1, X[1, :].max() + 1\n",
    "    h = 0.01\n",
    "    # Generate a grid of points with distance h between them\n",
    "    xx, yy = np.meshgrid(np.arange(x_min, x_max, h), np.arange(y_min, y_max, h))\n",
    "    # Predict the function value for the whole grid\n",
    "    Z = model(np.c_[xx.ravel(), yy.ravel()])\n",
    "    Z = Z.reshape(xx.shape)\n",
    "    # Plot the contour and training examples\n",
    "    plt.contourf(xx, yy, Z, cmap=plt.cm.Spectral)\n",
    "    plt.ylabel('x2')\n",
    "    plt.xlabel('x1')\n",
    "    plt.scatter(X[0, :], X[1, :], c=y.ravel(), cmap=plt.cm.Spectral)\n",
    "    plt.show()\n",
    "    "
   ]
  },
  {
   "cell_type": "code",
   "execution_count": 10,
   "metadata": {},
   "outputs": [
    {
     "data": {
      "image/png": "[encoded data removed]",
      "text/plain": [
       "<Figure size 432x288 with 1 Axes>"
      ]
     },
     "metadata": {
      "needs_background": "light"
     },
     "output_type": "display_data"
    }
   ],
   "source": [
    "plot_decision_boundary(lambda x: model.predict_classes(x.T) , X, Y)"
   ]
  },
  {
   "cell_type": "code",
   "execution_count": 11,
   "metadata": {},
   "outputs": [],
   "source": [
    "p = model.predict_classes(X)"
   ]
  },
  {
   "cell_type": "code",
   "execution_count": 12,
   "metadata": {},
   "outputs": [
    {
     "data": {
      "text/plain": [
       "array([[1, 2, 1, 1, 1, 1, 2, 1, 2, 1, 2, 1, 1, 1, 2, 2, 2, 1, 1, 1, 1, 1,\n",
       "        1, 1, 1, 1, 2, 2, 2, 1, 1, 2, 1, 1, 1, 2, 2, 1, 2, 2, 2, 1, 1, 1,\n",
       "        2, 2, 2, 1, 1, 2, 2, 1, 1, 2, 1, 2, 1, 2, 2, 2, 2, 1, 2, 2, 1, 1,\n",
       "        2, 1, 1, 1, 2, 2, 1, 2, 1, 1, 2, 1, 2, 1, 1, 2, 2, 2, 2, 2, 1, 1,\n",
       "        2, 2, 1, 2, 1, 1, 2, 1, 2, 2, 2, 1]], dtype=int64)"
      ]
     },
     "execution_count": 12,
     "metadata": {},
     "output_type": "execute_result"
    }
   ],
   "source": [
    "Y"
   ]
  },
  {
   "cell_type": "code",
   "execution_count": 13,
   "metadata": {},
   "outputs": [
    {
     "data": {
      "text/plain": [
       "array([1, 2, 1, 1, 1, 1, 2, 1, 2, 1, 2, 1, 1, 1, 2, 2, 2, 1, 1, 1, 1, 1,\n",
       "       1, 1, 1, 1, 2, 2, 2, 1, 1, 2, 1, 1, 1, 2, 2, 1, 2, 2, 2, 1, 1, 1,\n",
       "       2, 2, 2, 1, 1, 2, 2, 1, 1, 2, 1, 2, 1, 2, 2, 2, 2, 1, 2, 2, 1, 1,\n",
       "       2, 1, 1, 1, 2, 2, 1, 2, 1, 1, 2, 1, 2, 1, 1, 2, 2, 2, 2, 2, 1, 1,\n",
       "       2, 2, 1, 2, 1, 1, 2, 1, 2, 2, 2, 1])"
      ]
     },
     "execution_count": 13,
     "metadata": {},
     "output_type": "execute_result"
    }
   ],
   "source": [
    "p = (p[0] == False) +1\n",
    "p"
   ]
  },
  {
   "cell_type": "code",
   "execution_count": 14,
   "metadata": {},
   "outputs": [
    {
     "data": {
      "image/png": "[encoded data removed]",
      "text/plain": [
       "<Figure size 432x288 with 1 Axes>"
      ]
     },
     "metadata": {
      "needs_background": "light"
     },
     "output_type": "display_data"
    }
   ],
   "source": [
    "x2, y2 = X[:, (p == Y)[0]]\n",
    "x3, y3 = X[:, (p != Y)[0]]\n",
    "#plt.scatter(x0, y0, c='red')\n",
    "#plt.scatter(x1, y1, c='blue')\n",
    "plt.scatter(x2, y2, c='green')\n",
    "plt.scatter(x3, y3, c='red')\n",
    "\n",
    "plt.show()"
   ]
  },
  {
   "cell_type": "code",
   "execution_count": 15,
   "metadata": {},
   "outputs": [],
   "source": [
    "train1000 = pd.read_csv(\"./data_analysis/projekt1/classification/data.simple.train.1000.csv\")\n",
    "test1000 = pd.read_csv(\"./data_analysis/projekt1/classification/data.simple.test.1000.csv\")\n",
    "n = len(train1000)\n",
    "X = train1000[['x', 'y']].values.T\n",
    "Y = train1000.cls.values.reshape(1,-1) == 1\n",
    "Xt = test1000[['x', 'y']].values.T\n",
    "Yt = test1000.cls.values.reshape(1,-1) == 1"
   ]
  },
  {
   "cell_type": "code",
   "execution_count": 16,
   "metadata": {},
   "outputs": [],
   "source": [
    "model2 = nn_builder.compile('binary_crossentropy')"
   ]
  },
  {
   "cell_type": "code",
   "execution_count": 17,
   "metadata": {},
   "outputs": [
    {
     "data": {
      "text/plain": [
       "<matplotlib.collections.PathCollection at 0x2b440ba5438>"
      ]
     },
     "execution_count": 17,
     "metadata": {},
     "output_type": "execute_result"
    },
    {
     "data": {
      "image/png": "[encoded data removed]",
      "text/plain": [
       "<Figure size 432x288 with 1 Axes>"
      ]
     },
     "metadata": {
      "needs_background": "light"
     },
     "output_type": "display_data"
    }
   ],
   "source": [
    "x0, y0 = X[:, (Y == 0)[0]]\n",
    "x1, y1 = X[:, (Y == 1)[0]]\n",
    "\n",
    "x2, y2 = Xt[:, (Yt == 0)[0]]\n",
    "x3, y3 = Xt[:, (Yt == 1)[0]]\n",
    "plt.scatter(x0, y0, c='red')\n",
    "plt.scatter(x1, y1, c='blue', alpha=0.5)\n",
    "plt.scatter(x2, y2, c='pink', alpha=0.5)\n",
    "plt.scatter(x3, y3, c='black', alpha=0.5)"
   ]
  },
  {
   "cell_type": "code",
   "execution_count": 18,
   "metadata": {},
   "outputs": [
    {
     "name": "stdout",
     "output_type": "stream",
     "text": [
      "Cost after epoch 0: 0.523927\n",
      "Cost after epoch 1000: 0.040306\n"
     ]
    },
    {
     "data": {
      "text/plain": [
       "({'W1': array([[ 1.58720522,  0.89097113],\n",
       "         [-0.23057507, -1.52504209],\n",
       "         [-0.3464139 , -0.35360057],\n",
       "         [-0.07253465, -0.45240843],\n",
       "         [ 0.02179022, -0.29163933],\n",
       "         [-0.94375628,  0.61082874],\n",
       "         [ 1.12702883,  1.37137047],\n",
       "         [-0.07946907, -0.36162733],\n",
       "         [-0.63160003, -1.16281363],\n",
       "         [ 0.74767631, -0.74158644],\n",
       "         [-0.94521102, -0.3548164 ],\n",
       "         [ 1.24077008,  0.33010383],\n",
       "         [-1.0307594 , -0.93124521],\n",
       "         [ 0.5763914 , -0.01503567],\n",
       "         [-0.66900161, -0.47983025],\n",
       "         [ 1.21855056,  1.62372498],\n",
       "         [-0.87751492, -0.66292134],\n",
       "         [-1.04020889, -1.85546833],\n",
       "         [-1.18499453, -1.16296298],\n",
       "         [ 1.05062409,  0.12316444],\n",
       "         [-1.25328868,  0.34823247],\n",
       "         [-0.44134472, -1.34429051],\n",
       "         [-0.76763678, -0.73429398],\n",
       "         [-0.75874779, -0.2898179 ],\n",
       "         [-1.73769348, -0.37095974],\n",
       "         [ 1.16008912,  1.02527435],\n",
       "         [ 1.27898804,  1.18410566],\n",
       "         [ 1.16407337, -0.71284212],\n",
       "         [ 0.47629088, -1.40010998],\n",
       "         [-1.10773281, -1.51256183],\n",
       "         [ 1.28370851,  1.28281566],\n",
       "         [ 0.15225213,  1.51079471],\n",
       "         [-0.45859882,  0.1255448 ],\n",
       "         [-0.02280571, -0.84352469],\n",
       "         [ 0.78706391,  1.47794562],\n",
       "         [-0.75944391,  0.6000863 ],\n",
       "         [-0.02202845,  1.33684405],\n",
       "         [ 0.78053783,  0.77094271],\n",
       "         [ 0.49222463,  0.24397961],\n",
       "         [-1.08731948,  0.87957996],\n",
       "         [-1.10093882,  0.02072066],\n",
       "         [ 0.44427448, -0.58540269],\n",
       "         [ 0.2385426 ,  0.92859954],\n",
       "         [ 0.011999  , -0.60512653],\n",
       "         [-2.25159258, -1.58496605],\n",
       "         [-0.45313359, -0.44630392],\n",
       "         [-0.6878782 ,  0.25834081],\n",
       "         [-0.45749076, -0.16133589],\n",
       "         [ 0.56411175, -0.54613186],\n",
       "         [-0.02981468,  1.69472877]]), 'b1': array([[ 0.625753  ],\n",
       "         [ 0.2458658 ],\n",
       "         [ 0.08523461],\n",
       "         [ 0.0092393 ],\n",
       "         [-0.04847492],\n",
       "         [-0.00147603],\n",
       "         [ 0.4277713 ],\n",
       "         [ 0.07252984],\n",
       "         [ 0.2846954 ],\n",
       "         [-0.00355593],\n",
       "         [ 0.24177759],\n",
       "         [ 0.10781292],\n",
       "         [ 0.27386873],\n",
       "         [ 0.01098009],\n",
       "         [ 0.24390212],\n",
       "         [ 0.58663504],\n",
       "         [ 0.26332617],\n",
       "         [ 0.47228982],\n",
       "         [ 0.29377484],\n",
       "         [ 0.10815278],\n",
       "         [ 0.03617968],\n",
       "         [ 0.21719879],\n",
       "         [ 0.19532778],\n",
       "         [ 0.29339962],\n",
       "         [ 0.2189574 ],\n",
       "         [ 0.33831716],\n",
       "         [ 0.3578158 ],\n",
       "         [ 0.00502465],\n",
       "         [ 0.0741302 ],\n",
       "         [ 0.51647569],\n",
       "         [ 0.37163198],\n",
       "         [ 0.19269503],\n",
       "         [-0.01580236],\n",
       "         [ 0.11195861],\n",
       "         [ 0.56008544],\n",
       "         [-0.01264142],\n",
       "         [ 0.05258487],\n",
       "         [ 0.26212197],\n",
       "         [ 0.11135029],\n",
       "         [-0.05603951],\n",
       "         [ 0.13276379],\n",
       "         [-0.00280136],\n",
       "         [ 0.13649803],\n",
       "         [-0.03512282],\n",
       "         [ 0.83396689],\n",
       "         [ 0.08889604],\n",
       "         [-0.00372994],\n",
       "         [ 0.09450647],\n",
       "         [-0.00237837],\n",
       "         [ 0.15101413]]), 'W2': array([[ 1.42414734, -0.85632922, -0.38890154, -0.12901518,  0.05898272,\n",
       "          -0.09999381,  1.22201646, -0.26437826, -0.70584307,  0.14959238,\n",
       "          -0.600531  ,  0.72850222, -1.10964611,  0.36726583, -0.65197087,\n",
       "           1.497943  , -0.56989315, -1.22844087, -1.3812918 ,  0.72604638,\n",
       "          -0.41993525, -0.6872666 , -0.90959098, -0.65138546, -0.80370026,\n",
       "           1.28001475,  1.38878645,  0.36540538, -0.33530657, -1.33460888,\n",
       "           1.4130947 ,  0.90699642, -0.0269591 , -0.39044223,  1.07284357,\n",
       "          -0.10965492,  0.46736181,  0.97052825,  0.28701693, -0.26987939,\n",
       "          -0.52845633,  0.02673196,  0.49663349, -0.05958235, -1.88965387,\n",
       "          -0.33992419, -0.10841816, -0.27162322,  0.18450111,  0.72723898]]), 'b2': array([[0.11258807]])},\n",
       " [0.52392746518652,\n",
       "  0.1797336318949675,\n",
       "  0.08177037607800293,\n",
       "  0.12821983369205586,\n",
       "  0.046875155329880486,\n",
       "  0.06942558625744533,\n",
       "  0.06894831080087667,\n",
       "  0.0651991603959829,\n",
       "  0.06011814609939471,\n",
       "  0.03886608211207816,\n",
       "  0.0403062541420149,\n",
       "  0.07458169488927129,\n",
       "  0.025387281935967343,\n",
       "  0.04825931418813634,\n",
       "  0.02978848453609717,\n",
       "  0.01495438046960389,\n",
       "  0.03190006882074814,\n",
       "  0.033843930320585934,\n",
       "  0.03429880851052392,\n",
       "  0.02296406284479406])"
      ]
     },
     "execution_count": 18,
     "metadata": {},
     "output_type": "execute_result"
    }
   ],
   "source": [
    "model2.fit(X, (Y == 1), num_epochs=2000)"
   ]
  },
  {
   "cell_type": "code",
   "execution_count": 19,
   "metadata": {},
   "outputs": [
    {
     "data": {
      "image/png": "[encoded data removed]",
      "text/plain": [
       "<Figure size 432x288 with 1 Axes>"
      ]
     },
     "metadata": {
      "needs_background": "light"
     },
     "output_type": "display_data"
    }
   ],
   "source": [
    "plot_decision_boundary(lambda x: model2.predict_classes(x.T) , X, Y)"
   ]
  },
  {
   "cell_type": "code",
   "execution_count": null,
   "metadata": {},
   "outputs": [],
   "source": []
  }
 ],
 "metadata": {
  "kernelspec": {
   "display_name": "Python 3",
   "language": "python",
   "name": "python3"
  },
  "language_info": {
   "codemirror_mode": {
    "name": "ipython",
    "version": 3
   },
   "file_extension": ".py",
   "mimetype": "text/x-python",
   "name": "python",
   "nbconvert_exporter": "python",
   "pygments_lexer": "ipython3",
   "version": "3.6.6"
  }
 },
 "nbformat": 4,
 "nbformat_minor": 1
}
