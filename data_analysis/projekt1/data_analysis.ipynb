{
 "cells": [
  {
   "cell_type": "code",
   "execution_count": 1,
   "metadata": {},
   "outputs": [],
   "source": [
    "import sys,os \n",
    "os.chdir('.\\..\\..')\n"
   ]
  },
  {
   "cell_type": "code",
   "execution_count": 2,
   "metadata": {},
   "outputs": [],
   "source": [
    "import deep_nn.deep_nn_model as nn\n",
    "import numpy as np\n",
    "import pandas as pd\n",
    "import matplotlib.pyplot as plt\n",
    "import matplotlib"
   ]
  },
  {
   "cell_type": "code",
   "execution_count": 3,
   "metadata": {
    "scrolled": true
   },
   "outputs": [],
   "source": [
    "import PyQt5"
   ]
  },
  {
   "cell_type": "code",
   "execution_count": 3,
   "metadata": {},
   "outputs": [],
   "source": [
    "train = pd.read_csv(\"./data_analysis/projekt1/classification/data.simple.train.100.csv\")\n",
    "test = pd.read_csv(\"./data_analysis/projekt1/classification/data.simple.test.100.csv\")\n"
   ]
  },
  {
   "cell_type": "code",
   "execution_count": 4,
   "metadata": {},
   "outputs": [
    {
     "name": "stdout",
     "output_type": "stream",
     "text": [
      "(2, 100)\n",
      "(1, 100)\n"
     ]
    }
   ],
   "source": [
    "X = train[['x', 'y']].values.T\n",
    "print(X.shape)\n",
    "Y = train.cls.values.reshape(1, len(train))\n",
    "print(Y.shape)"
   ]
  },
  {
   "cell_type": "code",
   "execution_count": 5,
   "metadata": {},
   "outputs": [
    {
     "data": {
      "text/plain": [
       "array([[ True, False,  True,  True,  True,  True, False,  True, False,\n",
       "         True, False,  True,  True,  True, False, False, False,  True,\n",
       "         True,  True,  True,  True,  True,  True,  True,  True, False,\n",
       "        False, False,  True,  True, False,  True,  True,  True, False,\n",
       "        False,  True, False, False, False,  True,  True,  True, False,\n",
       "        False, False,  True,  True, False, False,  True,  True, False,\n",
       "         True, False,  True, False, False, False, False,  True, False,\n",
       "        False,  True,  True, False,  True,  True,  True, False, False,\n",
       "         True, False,  True,  True, False,  True, False,  True,  True,\n",
       "        False, False, False, False, False,  True,  True, False, False,\n",
       "         True, False,  True,  True, False,  True, False, False, False,\n",
       "         True]])"
      ]
     },
     "execution_count": 5,
     "metadata": {},
     "output_type": "execute_result"
    }
   ],
   "source": [
    "Y == 1"
   ]
  },
  {
   "cell_type": "code",
   "execution_count": 6,
   "metadata": {},
   "outputs": [
    {
     "name": "stdout",
     "output_type": "stream",
     "text": [
      "Warning: Cannot change to a different GUI toolkit: notebook. Using nbagg instead.\n"
     ]
    }
   ],
   "source": [
    "%matplotlib nbagg\n",
    "%matplotlib notebook"
   ]
  },
  {
   "cell_type": "code",
   "execution_count": 7,
   "metadata": {},
   "outputs": [
    {
     "name": "stdout",
     "output_type": "stream",
     "text": [
      "Warning: Cannot change to a different GUI toolkit: tk. Using nbagg instead.\n"
     ]
    }
   ],
   "source": [
    "%matplotlib tk"
   ]
  },
  {
   "cell_type": "code",
   "execution_count": 8,
   "metadata": {},
   "outputs": [
    {
     "name": "stdout",
     "output_type": "stream",
     "text": [
      "Warning: Cannot change to a different GUI toolkit: qt. Using nbagg instead.\n"
     ]
    }
   ],
   "source": [
    "%matplotlib qt"
   ]
  },
  {
   "cell_type": "code",
   "execution_count": 4,
   "metadata": {},
   "outputs": [
    {
     "data": {
      "text/plain": [
       "'module://ipykernel.pylab.backend_inline'"
      ]
     },
     "execution_count": 4,
     "metadata": {},
     "output_type": "execute_result"
    }
   ],
   "source": [
    "plt.get_backend()"
   ]
  },
  {
   "cell_type": "code",
   "execution_count": 11,
   "metadata": {},
   "outputs": [],
   "source": [
    "plt.switch_backend('qt4agg')"
   ]
  },
  {
   "cell_type": "code",
   "execution_count": 7,
   "metadata": {},
   "outputs": [],
   "source": [
    "plt.switch_backend('tkagg')"
   ]
  },
  {
   "cell_type": "code",
   "execution_count": 5,
   "metadata": {},
   "outputs": [
    {
     "data": {
      "text/plain": [
       "'module://ipykernel.pylab.backend_inline'"
      ]
     },
     "execution_count": 5,
     "metadata": {},
     "output_type": "execute_result"
    }
   ],
   "source": [
    "plt.get_backend()"
   ]
  },
  {
   "cell_type": "code",
   "execution_count": 9,
   "metadata": {},
   "outputs": [],
   "source": [
    "from IPython.display import HTML"
   ]
  },
  {
   "cell_type": "code",
   "execution_count": 7,
   "metadata": {},
   "outputs": [],
   "source": [
    "plt.rcParams[\"animation.html\"] = \"html5\""
   ]
  },
  {
   "cell_type": "code",
   "execution_count": 8,
   "metadata": {},
   "outputs": [],
   "source": [
    "from matplotlib import animation, rc\n",
    "rc('animation', html='html5')"
   ]
  },
  {
   "cell_type": "code",
   "execution_count": 18,
   "metadata": {},
   "outputs": [],
   "source": [
    "nn_builder = nn.SequentialBuilder()\n",
    "nn_builder.add_dense(2, 'relu')\n",
    "nn_builder.add_dense(5, 'relu')\n",
    "nn_builder.add_dense(1, 'sigmoid')\n",
    "model = nn_builder.compile('binary_crossentropy', visualisation=True)"
   ]
  },
  {
   "cell_type": "code",
   "execution_count": 19,
   "metadata": {},
   "outputs": [
    {
     "name": "stdout",
     "output_type": "stream",
     "text": [
      "Cost after epoch 0: 0.875134\n",
      "Cost after epoch 1000: 0.214626\n",
      "Cost after epoch 2000: 0.092222\n",
      "Cost after epoch 3000: 0.108521\n",
      "Cost after epoch 4000: 0.050453\n",
      "Cost after epoch 5000: 0.089833\n",
      "Cost after epoch 6000: 0.047857\n",
      "Cost after epoch 7000: 0.049890\n",
      "Cost after epoch 8000: 0.049239\n",
      "Cost after epoch 9000: 0.041763\n"
     ]
    },
    {
     "data": {
      "text/plain": [
       "<Figure size 432x288 with 0 Axes>"
      ]
     },
     "metadata": {},
     "output_type": "display_data"
    }
   ],
   "source": [
    "parameters, costs, animation = model.fit(X, Y == 1, num_epochs=10000)"
   ]
  },
  {
   "cell_type": "code",
   "execution_count": null,
   "metadata": {},
   "outputs": [],
   "source": [
    "plt.rcParams['animation.ffmpeg_path'] = '/usr/local/bin/ffmpeg'"
   ]
  },
  {
   "cell_type": "code",
   "execution_count": 20,
   "metadata": {},
   "outputs": [
    {
     "data": {
      "text/html": [
       "<video width=\"432\" height=\"288\" controls autoplay loop>\n",
       "  <source type=\"video/mp4\" src=\"data:video/mp4;base64,AAAAHGZ0eXBNNFYgAAACAGlzb21pc28yYXZjMQAAAAhmcmVlAAADqG1kYXQAAAKtBgX//6ncRem9\n",
       "5tlIt5Ys2CDZI+7veDI2NCAtIGNvcmUgMTU3IHIyOTM1IDU0NWRlMmYgLSBILjI2NC9NUEVHLTQg\n",
       "QVZDIGNvZGVjIC0gQ29weWxlZnQgMjAwMy0yMDE4IC0gaHR0cDovL3d3dy52aWRlb2xhbi5vcmcv\n",
       "eDI2NC5odG1sIC0gb3B0aW9uczogY2FiYWM9MSByZWY9MyBkZWJsb2NrPTE6MDowIGFuYWx5c2U9\n",
       "MHgzOjB4MTEzIG1lPWhleCBzdWJtZT03IHBzeT0xIHBzeV9yZD0xLjAwOjAuMDAgbWl4ZWRfcmVm\n",
       "PTEgbWVfcmFuZ2U9MTYgY2hyb21hX21lPTEgdHJlbGxpcz0xIDh4OGRjdD0xIGNxbT0wIGRlYWR6\n",
       "b25lPTIxLDExIGZhc3RfcHNraXA9MSBjaHJvbWFfcXBfb2Zmc2V0PS0yIHRocmVhZHM9NiBsb29r\n",
       "YWhlYWRfdGhyZWFkcz0xIHNsaWNlZF90aHJlYWRzPTAgbnI9MCBkZWNpbWF0ZT0xIGludGVybGFj\n",
       "ZWQ9MCBibHVyYXlfY29tcGF0PTAgY29uc3RyYWluZWRfaW50cmE9MCBiZnJhbWVzPTMgYl9weXJh\n",
       "bWlkPTIgYl9hZGFwdD0xIGJfYmlhcz0wIGRpcmVjdD0xIHdlaWdodGI9MSBvcGVuX2dvcD0wIHdl\n",
       "aWdodHA9MiBrZXlpbnQ9MjUwIGtleWludF9taW49NSBzY2VuZWN1dD00MCBpbnRyYV9yZWZyZXNo\n",
       "PTAgcmNfbG9va2FoZWFkPTQwIHJjPWNyZiBtYnRyZWU9MSBjcmY9MjMuMCBxY29tcD0wLjYwIHFw\n",
       "bWluPTAgcXBtYXg9NjkgcXBzdGVwPTQgaXBfcmF0aW89MS40MCBhcT0xOjEuMDAAgAAAAEVliIQA\n",
       "E//+97GPgU3IAA2XOop6H+EVsfSQUXqx2aBk6gAAAwAAiYGOFkC1uVpxUAAA34ABlyTKo+3zHMOI\n",
       "euTx7IAAAt8AAAAOQZokbEEv/rUqgAAAHrAAAAAMQZ5CeIIfAAADACbhAAAADAGeYXRD/wAAAwBW\n",
       "wAAAAAwBnmNqQ/8AAAMAVsEAAAAVQZpoSahBaJlMCCH//qpVAAADAD1hAAAADkGehkURLBD/AAAD\n",
       "ACbhAAAADAGepXRD/wAAAwBWwQAAAAwBnqdqQ/8AAAMAVsAAAAAVQZqpSahBbJlMCH///qmWAAAD\n",
       "APCAAAADpm1vb3YAAABsbXZoZAAAAAAAAAAAAAAAAAAAA+gAAAfQAAEAAAEAAAAAAAAAAAAAAAAB\n",
       "AAAAAAAAAAAAAAAAAAAAAQAAAAAAAAAAAAAAAAAAQAAAAAAAAAAAAAAAAAAAAAAAAAAAAAAAAAAA\n",
       "AAAAAAIAAALQdHJhawAAAFx0a2hkAAAAAwAAAAAAAAAAAAAAAQAAAAAAAAfQAAAAAAAAAAAAAAAA\n",
       "AAAAAAABAAAAAAAAAAAAAAAAAAAAAQAAAAAAAAAAAAAAAAAAQAAAAAGwAAABIAAAAAAAJGVkdHMA\n",
       "AAAcZWxzdAAAAAAAAAABAAAH0AAAEAAAAQAAAAACSG1kaWEAAAAgbWRoZAAAAAAAAAAAAAAAAAAA\n",
       "KAAAAFAAVcQAAAAAAC1oZGxyAAAAAAAAAAB2aWRlAAAAAAAAAAAAAAAAVmlkZW9IYW5kbGVyAAAA\n",
       "AfNtaW5mAAAAFHZtaGQAAAABAAAAAAAAAAAAAAAkZGluZgAAABxkcmVmAAAAAAAAAAEAAAAMdXJs\n",
       "IAAAAAEAAAGzc3RibAAAALNzdHNkAAAAAAAAAAEAAACjYXZjMQAAAAAAAAABAAAAAAAAAAAAAAAA\n",
       "AAAAAAGwASAASAAAAEgAAAAAAAAAAQAAAAAAAAAAAAAAAAAAAAAAAAAAAAAAAAAAAAAAAAAAABj/\n",
       "/wAAADFhdmNDAWQAFf/hABhnZAAVrNlBsJaEAAADAAQAAAMAKDxYtlgBAAZo6+PLIsAAAAAcdXVp\n",
       "ZGtoQPJfJE/FujmlG88DI/MAAAAAAAAAGHN0dHMAAAAAAAAAAQAAAAoAAAgAAAAAFHN0c3MAAAAA\n",
       "AAAAAQAAAAEAAABgY3R0cwAAAAAAAAAKAAAAAQAAEAAAAAABAAAoAAAAAAEAABAAAAAAAQAAAAAA\n",
       "AAABAAAIAAAAAAEAACgAAAAAAQAAEAAAAAABAAAAAAAAAAEAAAgAAAAAAQAAEAAAAAAcc3RzYwAA\n",
       "AAAAAAABAAAAAQAAAAoAAAABAAAAPHN0c3oAAAAAAAAAAAAAAAoAAAL6AAAAEgAAABAAAAAQAAAA\n",
       "EAAAABkAAAASAAAAEAAAABAAAAAZAAAAFHN0Y28AAAAAAAAAAQAAACwAAABidWR0YQAAAFptZXRh\n",
       "AAAAAAAAACFoZGxyAAAAAAAAAABtZGlyYXBwbAAAAAAAAAAAAAAAAC1pbHN0AAAAJal0b28AAAAd\n",
       "ZGF0YQAAAAEAAAAATGF2ZjU4LjIwLjEwMA==\n",
       "\">\n",
       "  Your browser does not support the video tag.\n",
       "</video>"
      ],
      "text/plain": [
       "<IPython.core.display.HTML object>"
      ]
     },
     "execution_count": 20,
     "metadata": {},
     "output_type": "execute_result"
    },
    {
     "data": {
      "image/png": "[encoded data removed]",
      "text/plain": [
       "<Figure size 432x288 with 1 Axes>"
      ]
     },
     "metadata": {
      "needs_background": "light"
     },
     "output_type": "display_data"
    }
   ],
   "source": [
    "HTML(animation.to_html5_video())"
   ]
  },
  {
   "cell_type": "code",
   "execution_count": 14,
   "metadata": {},
   "outputs": [],
   "source": [
    "x0, y0 = X[:, (Y == 1)[0]]\n",
    "plt.scatter(x0, y0, c='red')\n",
    "x1, y1 = X[:, (Y == 2)[0]]\n",
    "plt.scatter(x1, y1, c='blue')\n",
    "plt.show()"
   ]
  },
  {
   "cell_type": "code",
   "execution_count": 15,
   "metadata": {},
   "outputs": [],
   "source": [
    "def plot_decision_boundary(model, X, y):\n",
    "    # Set min and max values and give it some padding\n",
    "    x_min, x_max = X[0, :].min() - 1, X[0, :].max() + 1\n",
    "    y_min, y_max = X[1, :].min() - 1, X[1, :].max() + 1\n",
    "    h = 0.01\n",
    "    # Generate a grid of points with distance h between them\n",
    "    xx, yy = np.meshgrid(np.arange(x_min, x_max, h), np.arange(y_min, y_max, h))\n",
    "    # Predict the function value for the whole grid\n",
    "    Z = model(np.c_[xx.ravel(), yy.ravel()])\n",
    "    Z = Z.reshape(xx.shape)\n",
    "    # Plot the contour and training examples\n",
    "    plt.contourf(xx, yy, Z, cmap=plt.cm.Spectral)\n",
    "    plt.ylabel('x2')\n",
    "    plt.xlabel('x1')\n",
    "    plt.scatter(X[0, :], X[1, :], c=y.ravel(), cmap=plt.cm.Spectral)\n",
    "    plt.show()\n",
    "    "
   ]
  },
  {
   "cell_type": "code",
   "execution_count": 16,
   "metadata": {},
   "outputs": [],
   "source": [
    "plot_decision_boundary(lambda x: model.predict_classes(x.T) , X, Y)"
   ]
  },
  {
   "cell_type": "code",
   "execution_count": 17,
   "metadata": {},
   "outputs": [],
   "source": [
    "p = model.predict_classes(X)"
   ]
  },
  {
   "cell_type": "code",
   "execution_count": 18,
   "metadata": {},
   "outputs": [
    {
     "data": {
      "text/plain": [
       "array([[1, 2, 1, 1, 1, 1, 2, 1, 2, 1, 2, 1, 1, 1, 2, 2, 2, 1, 1, 1, 1, 1,\n",
       "        1, 1, 1, 1, 2, 2, 2, 1, 1, 2, 1, 1, 1, 2, 2, 1, 2, 2, 2, 1, 1, 1,\n",
       "        2, 2, 2, 1, 1, 2, 2, 1, 1, 2, 1, 2, 1, 2, 2, 2, 2, 1, 2, 2, 1, 1,\n",
       "        2, 1, 1, 1, 2, 2, 1, 2, 1, 1, 2, 1, 2, 1, 1, 2, 2, 2, 2, 2, 1, 1,\n",
       "        2, 2, 1, 2, 1, 1, 2, 1, 2, 2, 2, 1]], dtype=int64)"
      ]
     },
     "execution_count": 18,
     "metadata": {},
     "output_type": "execute_result"
    }
   ],
   "source": [
    "Y"
   ]
  },
  {
   "cell_type": "code",
   "execution_count": 19,
   "metadata": {},
   "outputs": [
    {
     "data": {
      "text/plain": [
       "array([1, 2, 1, 1, 1, 1, 2, 1, 2, 1, 2, 1, 1, 1, 2, 2, 2, 1, 1, 1, 1, 1,\n",
       "       1, 1, 1, 1, 2, 2, 2, 1, 1, 2, 1, 1, 1, 2, 2, 1, 2, 2, 2, 1, 1, 1,\n",
       "       2, 2, 2, 1, 1, 2, 2, 1, 1, 2, 1, 2, 1, 2, 2, 2, 2, 1, 2, 2, 1, 1,\n",
       "       2, 1, 1, 1, 2, 2, 1, 2, 1, 1, 2, 1, 2, 1, 1, 2, 2, 2, 2, 2, 1, 1,\n",
       "       2, 2, 1, 2, 1, 1, 2, 1, 2, 2, 2, 1])"
      ]
     },
     "execution_count": 19,
     "metadata": {},
     "output_type": "execute_result"
    }
   ],
   "source": [
    "p = (p[0] == False) +1\n",
    "p"
   ]
  },
  {
   "cell_type": "code",
   "execution_count": 20,
   "metadata": {},
   "outputs": [],
   "source": [
    "x2, y2 = X[:, (p == Y)[0]]\n",
    "x3, y3 = X[:, (p != Y)[0]]\n",
    "#plt.scatter(x0, y0, c='red')\n",
    "#plt.scatter(x1, y1, c='blue')\n",
    "plt.scatter(x2, y2, c='green')\n",
    "plt.scatter(x3, y3, c='red')\n",
    "\n",
    "plt.show()"
   ]
  },
  {
   "cell_type": "code",
   "execution_count": 21,
   "metadata": {},
   "outputs": [
    {
     "name": "stdout",
     "output_type": "stream",
     "text": [
      "Cost after epoch 0: 0.574386\n",
      "Cost after epoch 1000: 0.136167\n"
     ]
    },
    {
     "data": {
      "text/plain": [
       "({'W1': array([[ 1.34261415,  0.51214309],\n",
       "         [ 0.1042704 , -1.44752613],\n",
       "         [-0.20550107, -0.25734677],\n",
       "         [-0.05862974, -0.43594898],\n",
       "         [-0.0336124 , -0.30529433],\n",
       "         [-0.95650932,  0.60855103],\n",
       "         [ 0.74852857,  1.27596891],\n",
       "         [ 0.0370289 , -0.34839624],\n",
       "         [-0.36282754, -1.1137575 ],\n",
       "         [ 0.69300268, -0.79724211],\n",
       "         [-0.8810397 , -0.20216436],\n",
       "         [ 1.07283617,  0.23274851],\n",
       "         [-0.76680411, -0.53143043],\n",
       "         [ 0.45832671, -0.05219735],\n",
       "         [-0.58708432, -0.22839739],\n",
       "         [ 0.66336701,  1.5430713 ],\n",
       "         [-0.87906036, -0.42844443],\n",
       "         [-0.5115529 , -1.7738843 ],\n",
       "         [-0.7251221 , -0.754708  ],\n",
       "         [ 0.83519183,  0.0562691 ],\n",
       "         [-1.22466063,  0.42373396],\n",
       "         [-0.24002459, -1.26407756],\n",
       "         [-0.48091039, -0.45645656],\n",
       "         [-0.7129846 , -0.11981961],\n",
       "         [-1.64025207, -0.20707865],\n",
       "         [ 0.84245204,  0.68508021],\n",
       "         [ 0.92318769,  0.85766913],\n",
       "         [ 1.04625538, -0.81607732],\n",
       "         [ 0.58222301, -1.40440606],\n",
       "         [-0.40680134, -1.42721911],\n",
       "         [ 0.89996016,  1.00067408],\n",
       "         [ 0.06249748,  1.39876963],\n",
       "         [-0.46119957,  0.11000026],\n",
       "         [ 0.11365664, -0.81305064],\n",
       "         [ 0.46087901,  1.49514412],\n",
       "         [-0.77449021,  0.60284287],\n",
       "         [-0.06650014,  1.28355084],\n",
       "         [ 0.45339409,  0.56998732],\n",
       "         [ 0.45717822,  0.18014923],\n",
       "         [-1.10687662,  0.90515404],\n",
       "         [-1.05319018,  0.11750754],\n",
       "         [ 0.43255972, -0.61360361],\n",
       "         [ 0.17802381,  0.88187241],\n",
       "         [-0.01991375, -0.60075286],\n",
       "         [-2.14050976, -0.77926764],\n",
       "         [-0.40838241, -0.35940461],\n",
       "         [-0.68491648,  0.26681605],\n",
       "         [-0.42294644, -0.09656052],\n",
       "         [ 0.48009818, -0.59295626],\n",
       "         [-0.09598153,  1.60880098]]), 'b1': array([[ 0.13552077],\n",
       "         [ 0.32896449],\n",
       "         [ 0.10291442],\n",
       "         [-0.01849075],\n",
       "         [-0.07918013],\n",
       "         [-0.02320624],\n",
       "         [ 0.06465342],\n",
       "         [ 0.08255767],\n",
       "         [ 0.0545273 ],\n",
       "         [ 0.07054974],\n",
       "         [ 0.27969886],\n",
       "         [ 0.07819148],\n",
       "         [ 0.35249593],\n",
       "         [ 0.02537695],\n",
       "         [ 0.25509906],\n",
       "         [ 0.22627399],\n",
       "         [ 0.05682423],\n",
       "         [ 0.11162372],\n",
       "         [ 0.45001171],\n",
       "         [ 0.09719756],\n",
       "         [ 0.04714427],\n",
       "         [ 0.11340628],\n",
       "         [ 0.30414183],\n",
       "         [ 0.30402211],\n",
       "         [ 0.25024042],\n",
       "         [-0.00252688],\n",
       "         [-0.01598613],\n",
       "         [ 0.04956929],\n",
       "         [ 0.30911394],\n",
       "         [ 0.3769518 ],\n",
       "         [-0.03686813],\n",
       "         [ 0.21116496],\n",
       "         [-0.02526101],\n",
       "         [ 0.17211137],\n",
       "         [ 0.19681286],\n",
       "         [-0.04339123],\n",
       "         [ 0.08947979],\n",
       "         [ 0.0592577 ],\n",
       "         [ 0.00970733],\n",
       "         [-0.09028231],\n",
       "         [ 0.12265528],\n",
       "         [ 0.07479797],\n",
       "         [ 0.10411073],\n",
       "         [-0.07760455],\n",
       "         [ 0.73599085],\n",
       "         [-0.0382014 ],\n",
       "         [ 0.00964025],\n",
       "         [ 0.12408522],\n",
       "         [-0.02515966],\n",
       "         [ 0.16132067]]), 'W2': array([[ 6.36084764e-01, -7.12793903e-01, -1.33672919e-01,\n",
       "          -1.83990590e-02,  1.27001631e-01, -1.80571466e-01,\n",
       "           5.93793791e-01, -2.38944914e-01, -1.99735524e-01,\n",
       "          -1.86020492e-01, -4.22338459e-01,  2.83019023e-01,\n",
       "          -4.69825661e-01,  1.24740300e-01, -3.86936029e-01,\n",
       "           8.07268838e-01, -7.12646032e-02, -4.23194118e-01,\n",
       "          -6.01282544e-01,  3.25370452e-01, -4.07093300e-01,\n",
       "          -3.00827024e-01, -4.38597339e-01, -5.41827244e-01,\n",
       "          -4.87612194e-01,  5.52626006e-01,  5.91726700e-01,\n",
       "          -1.82881491e-01, -5.72291559e-01, -5.85131702e-01,\n",
       "           6.14411396e-01,  6.96121758e-01,  5.35641126e-04,\n",
       "          -3.62592518e-01,  7.21531911e-01, -2.00919039e-01,\n",
       "           2.95948045e-01,  4.51385371e-01,  9.69171015e-02,\n",
       "          -4.08106290e-01, -4.33455557e-01, -1.73425711e-01,\n",
       "           3.59250033e-01,  5.61076303e-02, -1.01230670e+00,\n",
       "           1.68275271e-02, -1.12298963e-01, -1.82121463e-01,\n",
       "          -2.21215850e-02,  5.05893204e-01]]), 'b2': array([[-0.42438948]])},\n",
       " [0.5743857017883063,\n",
       "  0.18499536188701754,\n",
       "  0.2159265336771218,\n",
       "  0.14678459588884055,\n",
       "  0.11549355997703221,\n",
       "  0.08398722539193047,\n",
       "  0.16284410775792613,\n",
       "  0.25669099971338893,\n",
       "  0.088282923172027,\n",
       "  0.21018050855047693,\n",
       "  0.1361666071015679,\n",
       "  0.04654063542621358,\n",
       "  0.11283777089293748,\n",
       "  0.043557808862633635,\n",
       "  0.13305929171050412,\n",
       "  0.0583953582978302,\n",
       "  0.1465381616056261,\n",
       "  0.11218064479748653,\n",
       "  0.2770670260364088,\n",
       "  0.09312784765018138])"
      ]
     },
     "execution_count": 21,
     "metadata": {},
     "output_type": "execute_result"
    }
   ],
   "source": [
    "train1000 = pd.read_csv(\"./data_analysis/projekt1/classification/data.three_gauss.train.100.csv\")\n",
    "test1000 = pd.read_csv(\"./data_analysis/projekt1/classification/data.three_gauss.test.100.csv\")\n",
    "n = len(train1000)\n",
    "X = train1000[['x', 'y']].values.T\n",
    "Y = train1000.cls.values.reshape(1,-1) == 1\n",
    "Xt = test1000[['x', 'y']].values.T\n",
    "Yt = test1000.cls.values.reshape(1,-1) == 1\n",
    "\n",
    "model2 = nn_builder.compile('binary_crossentropy')\n",
    "\n",
    "x0, y0 = X[:, (Y == 0)[0]]\n",
    "x1, y1 = X[:, (Y == 1)[0]]\n",
    "\n",
    "x2, y2 = Xt[:, (Yt == 0)[0]]\n",
    "x3, y3 = Xt[:, (Yt == 1)[0]]\n",
    "\n",
    "\n",
    "model2.fit(X, (Y == 1), num_epochs=2000)"
   ]
  },
  {
   "cell_type": "code",
   "execution_count": 22,
   "metadata": {},
   "outputs": [],
   "source": [
    "plot_decision_boundary(lambda x: model2.predict_classes(x.T) , X, Y)"
   ]
  },
  {
   "cell_type": "code",
   "execution_count": null,
   "metadata": {},
   "outputs": [],
   "source": []
  }
 ],
 "metadata": {
  "kernelspec": {
   "display_name": "Python 3",
   "language": "python",
   "name": "python3"
  },
  "language_info": {
   "codemirror_mode": {
    "name": "ipython",
    "version": 3
   },
   "file_extension": ".py",
   "mimetype": "text/x-python",
   "name": "python",
   "nbconvert_exporter": "python",
   "pygments_lexer": "ipython3",
   "version": "3.6.6"
  }
 },
 "nbformat": 4,
 "nbformat_minor": 1
}
